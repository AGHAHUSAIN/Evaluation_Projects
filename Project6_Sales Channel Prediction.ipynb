{
 "cells": [
  {
   "cell_type": "markdown",
   "metadata": {},
   "source": [
    "# PROJECT:Sales Channel Prediction"
   ]
  },
  {
   "cell_type": "code",
   "execution_count": 1,
   "metadata": {},
   "outputs": [],
   "source": [
    "#Import the required Libraries\n",
    "import pandas as pd\n",
    "import numpy as np\n",
    "import sklearn\n",
    "import seaborn as sns\n",
    "import matplotlib.pyplot as plt\n",
    "import warnings\n",
    "warnings.filterwarnings('ignore')\n"
   ]
  },
  {
   "cell_type": "code",
   "execution_count": 2,
   "metadata": {},
   "outputs": [],
   "source": [
    "# Lets create a dataframe from given csv file\n",
    "df= pd.read_csv('Advertising.csv')"
   ]
  },
  {
   "cell_type": "code",
   "execution_count": 3,
   "metadata": {
    "scrolled": true
   },
   "outputs": [
    {
     "data": {
      "text/plain": [
       "(200, 5)"
      ]
     },
     "execution_count": 3,
     "metadata": {},
     "output_type": "execute_result"
    }
   ],
   "source": [
    "#Lets check the shape of the data\n",
    "df.shape\n"
   ]
  },
  {
   "cell_type": "code",
   "execution_count": 4,
   "metadata": {},
   "outputs": [
    {
     "data": {
      "text/html": [
       "<div>\n",
       "<style scoped>\n",
       "    .dataframe tbody tr th:only-of-type {\n",
       "        vertical-align: middle;\n",
       "    }\n",
       "\n",
       "    .dataframe tbody tr th {\n",
       "        vertical-align: top;\n",
       "    }\n",
       "\n",
       "    .dataframe thead th {\n",
       "        text-align: right;\n",
       "    }\n",
       "</style>\n",
       "<table border=\"1\" class=\"dataframe\">\n",
       "  <thead>\n",
       "    <tr style=\"text-align: right;\">\n",
       "      <th></th>\n",
       "      <th>Unnamed: 0</th>\n",
       "      <th>TV</th>\n",
       "      <th>radio</th>\n",
       "      <th>newspaper</th>\n",
       "      <th>sales</th>\n",
       "    </tr>\n",
       "  </thead>\n",
       "  <tbody>\n",
       "    <tr>\n",
       "      <th>0</th>\n",
       "      <td>1</td>\n",
       "      <td>230.1</td>\n",
       "      <td>37.8</td>\n",
       "      <td>69.2</td>\n",
       "      <td>22.1</td>\n",
       "    </tr>\n",
       "    <tr>\n",
       "      <th>1</th>\n",
       "      <td>2</td>\n",
       "      <td>44.5</td>\n",
       "      <td>39.3</td>\n",
       "      <td>45.1</td>\n",
       "      <td>10.4</td>\n",
       "    </tr>\n",
       "    <tr>\n",
       "      <th>2</th>\n",
       "      <td>3</td>\n",
       "      <td>17.2</td>\n",
       "      <td>45.9</td>\n",
       "      <td>69.3</td>\n",
       "      <td>9.3</td>\n",
       "    </tr>\n",
       "    <tr>\n",
       "      <th>3</th>\n",
       "      <td>4</td>\n",
       "      <td>151.5</td>\n",
       "      <td>41.3</td>\n",
       "      <td>58.5</td>\n",
       "      <td>18.5</td>\n",
       "    </tr>\n",
       "    <tr>\n",
       "      <th>4</th>\n",
       "      <td>5</td>\n",
       "      <td>180.8</td>\n",
       "      <td>10.8</td>\n",
       "      <td>58.4</td>\n",
       "      <td>12.9</td>\n",
       "    </tr>\n",
       "  </tbody>\n",
       "</table>\n",
       "</div>"
      ],
      "text/plain": [
       "   Unnamed: 0     TV  radio  newspaper  sales\n",
       "0           1  230.1   37.8       69.2   22.1\n",
       "1           2   44.5   39.3       45.1   10.4\n",
       "2           3   17.2   45.9       69.3    9.3\n",
       "3           4  151.5   41.3       58.5   18.5\n",
       "4           5  180.8   10.8       58.4   12.9"
      ]
     },
     "execution_count": 4,
     "metadata": {},
     "output_type": "execute_result"
    }
   ],
   "source": [
    "#Lets see the first 5 rows of the data\n",
    "df.head()"
   ]
  },
  {
   "cell_type": "code",
   "execution_count": 5,
   "metadata": {},
   "outputs": [],
   "source": [
    "#Lets drop the first unnamed colums as it just unique sequence\n",
    "df.drop('Unnamed: 0',axis=1, inplace=True)"
   ]
  },
  {
   "cell_type": "code",
   "execution_count": 6,
   "metadata": {},
   "outputs": [
    {
     "data": {
      "text/html": [
       "<div>\n",
       "<style scoped>\n",
       "    .dataframe tbody tr th:only-of-type {\n",
       "        vertical-align: middle;\n",
       "    }\n",
       "\n",
       "    .dataframe tbody tr th {\n",
       "        vertical-align: top;\n",
       "    }\n",
       "\n",
       "    .dataframe thead th {\n",
       "        text-align: right;\n",
       "    }\n",
       "</style>\n",
       "<table border=\"1\" class=\"dataframe\">\n",
       "  <thead>\n",
       "    <tr style=\"text-align: right;\">\n",
       "      <th></th>\n",
       "      <th>TV</th>\n",
       "      <th>radio</th>\n",
       "      <th>newspaper</th>\n",
       "      <th>sales</th>\n",
       "    </tr>\n",
       "  </thead>\n",
       "  <tbody>\n",
       "    <tr>\n",
       "      <th>0</th>\n",
       "      <td>230.1</td>\n",
       "      <td>37.8</td>\n",
       "      <td>69.2</td>\n",
       "      <td>22.1</td>\n",
       "    </tr>\n",
       "    <tr>\n",
       "      <th>1</th>\n",
       "      <td>44.5</td>\n",
       "      <td>39.3</td>\n",
       "      <td>45.1</td>\n",
       "      <td>10.4</td>\n",
       "    </tr>\n",
       "    <tr>\n",
       "      <th>2</th>\n",
       "      <td>17.2</td>\n",
       "      <td>45.9</td>\n",
       "      <td>69.3</td>\n",
       "      <td>9.3</td>\n",
       "    </tr>\n",
       "    <tr>\n",
       "      <th>3</th>\n",
       "      <td>151.5</td>\n",
       "      <td>41.3</td>\n",
       "      <td>58.5</td>\n",
       "      <td>18.5</td>\n",
       "    </tr>\n",
       "    <tr>\n",
       "      <th>4</th>\n",
       "      <td>180.8</td>\n",
       "      <td>10.8</td>\n",
       "      <td>58.4</td>\n",
       "      <td>12.9</td>\n",
       "    </tr>\n",
       "  </tbody>\n",
       "</table>\n",
       "</div>"
      ],
      "text/plain": [
       "      TV  radio  newspaper  sales\n",
       "0  230.1   37.8       69.2   22.1\n",
       "1   44.5   39.3       45.1   10.4\n",
       "2   17.2   45.9       69.3    9.3\n",
       "3  151.5   41.3       58.5   18.5\n",
       "4  180.8   10.8       58.4   12.9"
      ]
     },
     "execution_count": 6,
     "metadata": {},
     "output_type": "execute_result"
    }
   ],
   "source": [
    "#Lets again see the first 5 rows of the data\n",
    "df.head()"
   ]
  },
  {
   "cell_type": "code",
   "execution_count": 7,
   "metadata": {},
   "outputs": [
    {
     "data": {
      "text/plain": [
       "TV           float64\n",
       "radio        float64\n",
       "newspaper    float64\n",
       "sales        float64\n",
       "dtype: object"
      ]
     },
     "execution_count": 7,
     "metadata": {},
     "output_type": "execute_result"
    }
   ],
   "source": [
    "# Lets check the datatypes\n",
    "df.dtypes \n"
   ]
  },
  {
   "cell_type": "code",
   "execution_count": 8,
   "metadata": {},
   "outputs": [
    {
     "name": "stdout",
     "output_type": "stream",
     "text": [
      "<class 'pandas.core.frame.DataFrame'>\n",
      "RangeIndex: 200 entries, 0 to 199\n",
      "Data columns (total 4 columns):\n",
      "TV           200 non-null float64\n",
      "radio        200 non-null float64\n",
      "newspaper    200 non-null float64\n",
      "sales        200 non-null float64\n",
      "dtypes: float64(4)\n",
      "memory usage: 6.3 KB\n"
     ]
    }
   ],
   "source": [
    "# Lets get more information about the data\n",
    "df.info()\n",
    "\n",
    "# Output is continuous hence it is a regression problem"
   ]
  },
  {
   "cell_type": "code",
   "execution_count": 9,
   "metadata": {},
   "outputs": [
    {
     "data": {
      "image/png": "[encoded data removed]",
      "text/plain": [
       "<Figure size 432x288 with 2 Axes>"
      ]
     },
     "metadata": {
      "needs_background": "light"
     },
     "output_type": "display_data"
    }
   ],
   "source": [
    "# Lets check the missing values\n",
    "sns.heatmap(df.isnull())\n",
    "plt.show()\n",
    "# Great its showing no missing values"
   ]
  },
  {
   "cell_type": "code",
   "execution_count": 10,
   "metadata": {
    "scrolled": true
   },
   "outputs": [
    {
     "data": {
      "text/plain": [
       "TV           0\n",
       "radio        0\n",
       "newspaper    0\n",
       "sales        0\n",
       "dtype: int64"
      ]
     },
     "execution_count": 10,
     "metadata": {},
     "output_type": "execute_result"
    }
   ],
   "source": [
    "# Lets confirm about missing value once more\n",
    "df.isnull().sum()\n",
    "#Hence we are now sure there are no missing values"
   ]
  },
  {
   "cell_type": "code",
   "execution_count": 11,
   "metadata": {},
   "outputs": [
    {
     "data": {
      "text/html": [
       "<div>\n",
       "<style scoped>\n",
       "    .dataframe tbody tr th:only-of-type {\n",
       "        vertical-align: middle;\n",
       "    }\n",
       "\n",
       "    .dataframe tbody tr th {\n",
       "        vertical-align: top;\n",
       "    }\n",
       "\n",
       "    .dataframe thead th {\n",
       "        text-align: right;\n",
       "    }\n",
       "</style>\n",
       "<table border=\"1\" class=\"dataframe\">\n",
       "  <thead>\n",
       "    <tr style=\"text-align: right;\">\n",
       "      <th></th>\n",
       "      <th>TV</th>\n",
       "      <th>radio</th>\n",
       "      <th>newspaper</th>\n",
       "      <th>sales</th>\n",
       "    </tr>\n",
       "  </thead>\n",
       "  <tbody>\n",
       "    <tr>\n",
       "      <th>count</th>\n",
       "      <td>200.000000</td>\n",
       "      <td>200.000000</td>\n",
       "      <td>200.000000</td>\n",
       "      <td>200.000000</td>\n",
       "    </tr>\n",
       "    <tr>\n",
       "      <th>mean</th>\n",
       "      <td>147.042500</td>\n",
       "      <td>23.264000</td>\n",
       "      <td>30.554000</td>\n",
       "      <td>14.022500</td>\n",
       "    </tr>\n",
       "    <tr>\n",
       "      <th>std</th>\n",
       "      <td>85.854236</td>\n",
       "      <td>14.846809</td>\n",
       "      <td>21.778621</td>\n",
       "      <td>5.217457</td>\n",
       "    </tr>\n",
       "    <tr>\n",
       "      <th>min</th>\n",
       "      <td>0.700000</td>\n",
       "      <td>0.000000</td>\n",
       "      <td>0.300000</td>\n",
       "      <td>1.600000</td>\n",
       "    </tr>\n",
       "    <tr>\n",
       "      <th>25%</th>\n",
       "      <td>74.375000</td>\n",
       "      <td>9.975000</td>\n",
       "      <td>12.750000</td>\n",
       "      <td>10.375000</td>\n",
       "    </tr>\n",
       "    <tr>\n",
       "      <th>50%</th>\n",
       "      <td>149.750000</td>\n",
       "      <td>22.900000</td>\n",
       "      <td>25.750000</td>\n",
       "      <td>12.900000</td>\n",
       "    </tr>\n",
       "    <tr>\n",
       "      <th>75%</th>\n",
       "      <td>218.825000</td>\n",
       "      <td>36.525000</td>\n",
       "      <td>45.100000</td>\n",
       "      <td>17.400000</td>\n",
       "    </tr>\n",
       "    <tr>\n",
       "      <th>max</th>\n",
       "      <td>296.400000</td>\n",
       "      <td>49.600000</td>\n",
       "      <td>114.000000</td>\n",
       "      <td>27.000000</td>\n",
       "    </tr>\n",
       "  </tbody>\n",
       "</table>\n",
       "</div>"
      ],
      "text/plain": [
       "               TV       radio   newspaper       sales\n",
       "count  200.000000  200.000000  200.000000  200.000000\n",
       "mean   147.042500   23.264000   30.554000   14.022500\n",
       "std     85.854236   14.846809   21.778621    5.217457\n",
       "min      0.700000    0.000000    0.300000    1.600000\n",
       "25%     74.375000    9.975000   12.750000   10.375000\n",
       "50%    149.750000   22.900000   25.750000   12.900000\n",
       "75%    218.825000   36.525000   45.100000   17.400000\n",
       "max    296.400000   49.600000  114.000000   27.000000"
      ]
     },
     "execution_count": 11,
     "metadata": {},
     "output_type": "execute_result"
    }
   ],
   "source": [
    "# Lets see the descriptive statistics\n",
    "df.describe()"
   ]
  },
  {
   "cell_type": "code",
   "execution_count": 12,
   "metadata": {},
   "outputs": [
    {
     "data": {
      "text/html": [
       "<div>\n",
       "<style scoped>\n",
       "    .dataframe tbody tr th:only-of-type {\n",
       "        vertical-align: middle;\n",
       "    }\n",
       "\n",
       "    .dataframe tbody tr th {\n",
       "        vertical-align: top;\n",
       "    }\n",
       "\n",
       "    .dataframe thead th {\n",
       "        text-align: right;\n",
       "    }\n",
       "</style>\n",
       "<table border=\"1\" class=\"dataframe\">\n",
       "  <thead>\n",
       "    <tr style=\"text-align: right;\">\n",
       "      <th></th>\n",
       "      <th>TV</th>\n",
       "      <th>radio</th>\n",
       "      <th>newspaper</th>\n",
       "      <th>sales</th>\n",
       "    </tr>\n",
       "  </thead>\n",
       "  <tbody>\n",
       "    <tr>\n",
       "      <th>TV</th>\n",
       "      <td>1.000000</td>\n",
       "      <td>0.054809</td>\n",
       "      <td>0.056648</td>\n",
       "      <td>0.782224</td>\n",
       "    </tr>\n",
       "    <tr>\n",
       "      <th>radio</th>\n",
       "      <td>0.054809</td>\n",
       "      <td>1.000000</td>\n",
       "      <td>0.354104</td>\n",
       "      <td>0.576223</td>\n",
       "    </tr>\n",
       "    <tr>\n",
       "      <th>newspaper</th>\n",
       "      <td>0.056648</td>\n",
       "      <td>0.354104</td>\n",
       "      <td>1.000000</td>\n",
       "      <td>0.228299</td>\n",
       "    </tr>\n",
       "    <tr>\n",
       "      <th>sales</th>\n",
       "      <td>0.782224</td>\n",
       "      <td>0.576223</td>\n",
       "      <td>0.228299</td>\n",
       "      <td>1.000000</td>\n",
       "    </tr>\n",
       "  </tbody>\n",
       "</table>\n",
       "</div>"
      ],
      "text/plain": [
       "                 TV     radio  newspaper     sales\n",
       "TV         1.000000  0.054809   0.056648  0.782224\n",
       "radio      0.054809  1.000000   0.354104  0.576223\n",
       "newspaper  0.056648  0.354104   1.000000  0.228299\n",
       "sales      0.782224  0.576223   0.228299  1.000000"
      ]
     },
     "execution_count": 12,
     "metadata": {},
     "output_type": "execute_result"
    }
   ],
   "source": [
    "#Lets see the correlation among the different features as well as with target\n",
    "df.corr()\n",
    "# we can  see there is high  positive correlation of sales with TV and low positive correlation with newspaper"
   ]
  },
  {
   "cell_type": "code",
   "execution_count": 13,
   "metadata": {},
   "outputs": [
    {
     "data": {
      "text/plain": [
       "<matplotlib.axes._subplots.AxesSubplot at 0x69cf3160b8>"
      ]
     },
     "execution_count": 13,
     "metadata": {},
     "output_type": "execute_result"
    },
    {
     "data": {
      "image/png": "[encoded data removed]",
      "text/plain": [
       "<Figure size 432x288 with 2 Axes>"
      ]
     },
     "metadata": {
      "needs_background": "light"
     },
     "output_type": "display_data"
    }
   ],
   "source": [
    "# lets visualize the correlation with heat map\n",
    "sns.heatmap(df.corr(), annot = True)\n"
   ]
  },
  {
   "cell_type": "code",
   "execution_count": 14,
   "metadata": {},
   "outputs": [
    {
     "data": {
      "text/plain": [
       "array([[<matplotlib.axes._subplots.AxesSubplot object at 0x00000069CF3AB438>,\n",
       "        <matplotlib.axes._subplots.AxesSubplot object at 0x00000069CF3D55F8>],\n",
       "       [<matplotlib.axes._subplots.AxesSubplot object at 0x00000069CF3FCB70>,\n",
       "        <matplotlib.axes._subplots.AxesSubplot object at 0x00000069CF42D128>]],\n",
       "      dtype=object)"
      ]
     },
     "execution_count": 14,
     "metadata": {},
     "output_type": "execute_result"
    },
    {
     "data": {
      "image/png": "[encoded data removed]",
      "text/plain": [
       "<Figure size 576x576 with 4 Axes>"
      ]
     },
     "metadata": {
      "needs_background": "light"
     },
     "output_type": "display_data"
    }
   ],
   "source": [
    "#Lets visualize distribution of numeric data\n",
    "df.hist(sharex=False, sharey=False, xlabelsize=1, ylabelsize=1,   figsize=(8,8))\n",
    "#WE CAN SEE SEVERAL VARIBALES HAVE SKEWNESS MOSTLY POSITIVELY SKEWED"
   ]
  },
  {
   "cell_type": "code",
   "execution_count": 15,
   "metadata": {},
   "outputs": [
    {
     "data": {
      "text/plain": [
       "array([[<matplotlib.axes._subplots.AxesSubplot object at 0x00000069CF3AB400>,\n",
       "        <matplotlib.axes._subplots.AxesSubplot object at 0x00000069CF6E65C0>,\n",
       "        <matplotlib.axes._subplots.AxesSubplot object at 0x00000069CF53AB38>,\n",
       "        <matplotlib.axes._subplots.AxesSubplot object at 0x00000069CF56C0F0>]],\n",
       "      dtype=object)"
      ]
     },
     "execution_count": 15,
     "metadata": {},
     "output_type": "execute_result"
    },
    {
     "data": {
      "image/png": "[encoded data removed]",
      "text/plain": [
       "<Figure size 864x288 with 4 Axes>"
      ]
     },
     "metadata": {
      "needs_background": "light"
     },
     "output_type": "display_data"
    }
   ],
   "source": [
    "# # Univariate Density Plots of all numeric variables\n",
    "df.plot(kind='density', subplots=True, layout=(1,4), sharex=False, figsize=(12,4))"
   ]
  },
  {
   "cell_type": "code",
   "execution_count": 16,
   "metadata": {},
   "outputs": [
    {
     "data": {
      "text/plain": [
       "TV              AxesSubplot(0.125,0.71587;0.168478x0.16413)\n",
       "radio        AxesSubplot(0.327174,0.71587;0.168478x0.16413)\n",
       "newspaper    AxesSubplot(0.529348,0.71587;0.168478x0.16413)\n",
       "sales        AxesSubplot(0.731522,0.71587;0.168478x0.16413)\n",
       "dtype: object"
      ]
     },
     "execution_count": 16,
     "metadata": {},
     "output_type": "execute_result"
    },
    {
     "data": {
      "image/png": "[encoded data removed]",
      "text/plain": [
       "<Figure size 1080x1080 with 16 Axes>"
      ]
     },
     "metadata": {
      "needs_background": "light"
     },
     "output_type": "display_data"
    }
   ],
   "source": [
    "#Lets plot the box plot of each numeric variable\n",
    "df.plot(kind='box', subplots=True, layout=(4,4), sharex=False, sharey=False, figsize=(15,15))\n"
   ]
  },
  {
   "cell_type": "code",
   "execution_count": 17,
   "metadata": {
    "scrolled": true
   },
   "outputs": [
    {
     "data": {
      "text/plain": [
       "<seaborn.axisgrid.PairGrid at 0x69cffa1198>"
      ]
     },
     "execution_count": 17,
     "metadata": {},
     "output_type": "execute_result"
    },
    {
     "data": {
      "image/png": "[encoded data removed]",
      "text/plain": [
       "<Figure size 604.8x288 with 3 Axes>"
      ]
     },
     "metadata": {
      "needs_background": "light"
     },
     "output_type": "display_data"
    }
   ],
   "source": [
    "#Lets explore the relation with amount spent of TV AD, RADIO AD, NEWS PAPER  and SALES \n",
    "sns.pairplot(df, x_vars=['TV', 'radio', 'newspaper'], y_vars='sales', size=4, aspect=0.7, kind='reg')\n",
    "#it seems a strong linear relation between sales and TV Ads\n",
    "#it seems a a little weeker relation between sales and radio Ads\n",
    "# it seems a very week relation between sales and newspaper ads"
   ]
  },
  {
   "cell_type": "code",
   "execution_count": 18,
   "metadata": {
    "scrolled": true
   },
   "outputs": [
    {
     "data": {
      "text/plain": [
       "TV          -0.069853\n",
       "radio        0.094175\n",
       "newspaper    0.894720\n",
       "sales        0.407571\n",
       "dtype: float64"
      ]
     },
     "execution_count": 18,
     "metadata": {},
     "output_type": "execute_result"
    }
   ],
   "source": [
    "#Lets check the skewness of numeric data\n",
    "df.skew()\n",
    "#there is some positive skewness in newspaper ad which not in acceptable range"
   ]
  },
  {
   "cell_type": "code",
   "execution_count": 19,
   "metadata": {},
   "outputs": [],
   "source": [
    "# Let us remove the Skewness with sqrt as it is postively skewed\n",
    "for col in df.columns:                                      \n",
    "    if df.skew().loc[col]>0.55:\n",
    "        df[col]=np.power(df[col],1/2)"
   ]
  },
  {
   "cell_type": "code",
   "execution_count": 20,
   "metadata": {},
   "outputs": [
    {
     "data": {
      "text/plain": [
       "TV          -0.069853\n",
       "radio        0.094175\n",
       "newspaper    0.062388\n",
       "sales        0.407571\n",
       "dtype: float64"
      ]
     },
     "execution_count": 20,
     "metadata": {},
     "output_type": "execute_result"
    }
   ],
   "source": [
    "#Lets check skewness in data\n",
    "df.skew()\n",
    "# great skewness has been reduced"
   ]
  },
  {
   "cell_type": "code",
   "execution_count": 21,
   "metadata": {},
   "outputs": [
    {
     "name": "stdout",
     "output_type": "stream",
     "text": [
      "The shape of original dataframe was = (200, 4)\n",
      "The shape of dataframe after removing outliers is = (200, 4)\n"
     ]
    }
   ],
   "source": [
    "# Lets remove the outliers if any\n",
    "from scipy.stats import zscore\n",
    "z_score =abs(zscore(df))\n",
    "dfx = df.loc[(z_score<3).all(axis=1)]\n",
    "print('The shape of original dataframe was =', df.shape)\n",
    "print('The shape of dataframe after removing outliers is =', dfx.shape)\n"
   ]
  },
  {
   "cell_type": "code",
   "execution_count": 22,
   "metadata": {},
   "outputs": [],
   "source": [
    "# Let us seperate the features and Target\n",
    "x=dfx.drop(['sales'],axis=1)    \n",
    "y=dfx[['sales']]"
   ]
  },
  {
   "cell_type": "code",
   "execution_count": 23,
   "metadata": {},
   "outputs": [
    {
     "data": {
      "text/html": [
       "<div>\n",
       "<style scoped>\n",
       "    .dataframe tbody tr th:only-of-type {\n",
       "        vertical-align: middle;\n",
       "    }\n",
       "\n",
       "    .dataframe tbody tr th {\n",
       "        vertical-align: top;\n",
       "    }\n",
       "\n",
       "    .dataframe thead th {\n",
       "        text-align: right;\n",
       "    }\n",
       "</style>\n",
       "<table border=\"1\" class=\"dataframe\">\n",
       "  <thead>\n",
       "    <tr style=\"text-align: right;\">\n",
       "      <th></th>\n",
       "      <th>TV</th>\n",
       "      <th>radio</th>\n",
       "      <th>newspaper</th>\n",
       "    </tr>\n",
       "  </thead>\n",
       "  <tbody>\n",
       "    <tr>\n",
       "      <th>0</th>\n",
       "      <td>230.1</td>\n",
       "      <td>37.8</td>\n",
       "      <td>8.318654</td>\n",
       "    </tr>\n",
       "    <tr>\n",
       "      <th>1</th>\n",
       "      <td>44.5</td>\n",
       "      <td>39.3</td>\n",
       "      <td>6.715653</td>\n",
       "    </tr>\n",
       "    <tr>\n",
       "      <th>2</th>\n",
       "      <td>17.2</td>\n",
       "      <td>45.9</td>\n",
       "      <td>8.324662</td>\n",
       "    </tr>\n",
       "    <tr>\n",
       "      <th>3</th>\n",
       "      <td>151.5</td>\n",
       "      <td>41.3</td>\n",
       "      <td>7.648529</td>\n",
       "    </tr>\n",
       "    <tr>\n",
       "      <th>4</th>\n",
       "      <td>180.8</td>\n",
       "      <td>10.8</td>\n",
       "      <td>7.641989</td>\n",
       "    </tr>\n",
       "  </tbody>\n",
       "</table>\n",
       "</div>"
      ],
      "text/plain": [
       "      TV  radio  newspaper\n",
       "0  230.1   37.8   8.318654\n",
       "1   44.5   39.3   6.715653\n",
       "2   17.2   45.9   8.324662\n",
       "3  151.5   41.3   7.648529\n",
       "4  180.8   10.8   7.641989"
      ]
     },
     "execution_count": 23,
     "metadata": {},
     "output_type": "execute_result"
    }
   ],
   "source": [
    "#lets see first 5 rows of x\n",
    "x.head()\n",
    "# x now contains only features"
   ]
  },
  {
   "cell_type": "code",
   "execution_count": 24,
   "metadata": {},
   "outputs": [
    {
     "data": {
      "text/html": [
       "<div>\n",
       "<style scoped>\n",
       "    .dataframe tbody tr th:only-of-type {\n",
       "        vertical-align: middle;\n",
       "    }\n",
       "\n",
       "    .dataframe tbody tr th {\n",
       "        vertical-align: top;\n",
       "    }\n",
       "\n",
       "    .dataframe thead th {\n",
       "        text-align: right;\n",
       "    }\n",
       "</style>\n",
       "<table border=\"1\" class=\"dataframe\">\n",
       "  <thead>\n",
       "    <tr style=\"text-align: right;\">\n",
       "      <th></th>\n",
       "      <th>sales</th>\n",
       "    </tr>\n",
       "  </thead>\n",
       "  <tbody>\n",
       "    <tr>\n",
       "      <th>0</th>\n",
       "      <td>22.1</td>\n",
       "    </tr>\n",
       "    <tr>\n",
       "      <th>1</th>\n",
       "      <td>10.4</td>\n",
       "    </tr>\n",
       "    <tr>\n",
       "      <th>2</th>\n",
       "      <td>9.3</td>\n",
       "    </tr>\n",
       "    <tr>\n",
       "      <th>3</th>\n",
       "      <td>18.5</td>\n",
       "    </tr>\n",
       "    <tr>\n",
       "      <th>4</th>\n",
       "      <td>12.9</td>\n",
       "    </tr>\n",
       "  </tbody>\n",
       "</table>\n",
       "</div>"
      ],
      "text/plain": [
       "   sales\n",
       "0   22.1\n",
       "1   10.4\n",
       "2    9.3\n",
       "3   18.5\n",
       "4   12.9"
      ]
     },
     "execution_count": 24,
     "metadata": {},
     "output_type": "execute_result"
    }
   ],
   "source": [
    "#Lets check first five rows of target\n",
    "y.head()\n",
    "# y now contains only target variable"
   ]
  },
  {
   "cell_type": "code",
   "execution_count": 25,
   "metadata": {},
   "outputs": [],
   "source": [
    "#Lets see which of the algorithims performs well on the given data\n",
    "# A good way to check their performance is cross validation\n",
    "#Lets import the algorithims/models to be evaluated  AND OTHER REQUIRED LIBRARIES\n",
    "from sklearn.linear_model import LinearRegression\n",
    "from sklearn.svm import SVR\n",
    "from sklearn.tree import DecisionTreeRegressor\n",
    "from sklearn.neighbors import KNeighborsRegressor\n",
    "from sklearn.linear_model import Lasso\n",
    "from sklearn.linear_model import Ridge\n",
    "from sklearn.linear_model import ElasticNet\n",
    "from sklearn.preprocessing import PolynomialFeatures \n",
    "from sklearn.model_selection import cross_val_score\n",
    "from sklearn.model_selection import KFold\n",
    "from sklearn.pipeline import Pipeline"
   ]
  },
  {
   "cell_type": "code",
   "execution_count": 26,
   "metadata": {},
   "outputs": [],
   "source": [
    "# Lets import standard scaler as distance based algorithim require data to be in same scale\n",
    "from sklearn.preprocessing import StandardScaler\n",
    "# Lets create a list of models to be evaluated ALONG with pipeline\n",
    "pipelines = []\n",
    "pipelines.append(('LR', Pipeline([('Scaler', StandardScaler()),('LR', LinearRegression())])))\n",
    "pipelines.append(('Lasso', Pipeline([('Scaler', StandardScaler()),('Lasso',Lasso())])))\n",
    "pipelines.append(('Ridge', Pipeline([('Scaler', StandardScaler()),('Ridge', Ridge())])))\n",
    "pipelines.append(('EN', Pipeline([('Scaler', StandardScaler()),('EN', ElasticNet())])))\n",
    "pipelines.append(('DT', Pipeline([('Scaler', StandardScaler()),('DT', DecisionTreeRegressor(random_state=5))])))\n",
    "pipelines.append(('SVR', Pipeline([('Scaler', StandardScaler()),('SVM', SVR())])))\n",
    "pipelines.append(('KNN', Pipeline([('Scaler', StandardScaler()),('KNN', KNeighborsRegressor())])))\n",
    "\n",
    "\n"
   ]
  },
  {
   "cell_type": "code",
   "execution_count": 27,
   "metadata": {},
   "outputs": [],
   "source": [
    "from sklearn.metrics import r2_score,mean_absolute_error,mean_squared_error"
   ]
  },
  {
   "cell_type": "code",
   "execution_count": 28,
   "metadata": {},
   "outputs": [
    {
     "name": "stdout",
     "output_type": "stream",
     "text": [
      "LR: 0.885560 (0.052352)\n",
      "Lasso: 0.814955 (0.061015)\n",
      "Ridge: 0.885666 (0.052592)\n",
      "EN: 0.730264 (0.065970)\n",
      "DT: 0.948855 (0.019058)\n",
      "SVR: 0.914480 (0.056620)\n",
      "KNN: 0.943829 (0.031890)\n"
     ]
    }
   ],
   "source": [
    "\n",
    "#Let us check which model will perform well on the given data on the basis of mean crossval r2score and its std dev\n",
    "results = []\n",
    "names = []\n",
    "for name, model in pipelines: \n",
    "    kfold = KFold(n_splits=10, random_state=1) \n",
    "    cv_results = cross_val_score(model, x, y, cv=10, scoring='r2') \n",
    "    results.append(cv_results) \n",
    "    names.append(name) \n",
    "    msg = \"%s: %f (%f)\" % (name, cv_results.mean(), cv_results.std())\n",
    "    print(msg)\n"
   ]
  },
  {
   "cell_type": "raw",
   "metadata": {},
   "source": [
    "Findings: We can see that DT and KNN are performing very good and even SVR is very close in terms of cross val r2\n",
    "          Lets check their NMSE"
   ]
  },
  {
   "cell_type": "code",
   "execution_count": 29,
   "metadata": {},
   "outputs": [
    {
     "name": "stdout",
     "output_type": "stream",
     "text": [
      "LR: -3.053455 (1.816684)\n",
      "Lasso: -4.928015 (2.265973)\n",
      "Ridge: -3.051994 (1.825979)\n",
      "EN: -7.198877 (2.821508)\n",
      "DT: -1.318400 (0.552369)\n",
      "SVR: -2.405808 (2.034369)\n",
      "KNN: -1.551794 (1.150312)\n"
     ]
    }
   ],
   "source": [
    "#Let us check which model will perform well on the given data on the basis of mean crossval score(neg_mean_squared_error) and its std dev\n",
    "results1 = []\n",
    "names1 = []\n",
    "for name, model in pipelines: \n",
    "    kfold1 = KFold(n_splits=10, random_state=1) \n",
    "    cv_results1 = cross_val_score(model, x, y, cv=kfold1, scoring='neg_mean_squared_error') \n",
    "    results1.append(cv_results1) \n",
    "    names1.append(name) \n",
    "    msg = \"%s: %f (%f)\" % (name, cv_results1.mean(), cv_results1.std())\n",
    "    print(msg)"
   ]
  },
  {
   "cell_type": "raw",
   "metadata": {},
   "source": [
    "Findings: Among all the models discussed DT is performing best with cross val r2 score of 0.948 and NMSE of -1.31\n",
    "          Second closest is KNN with cross val r2 score of 0.943 and NMSE of -1.55 "
   ]
  },
  {
   "cell_type": "code",
   "execution_count": 30,
   "metadata": {},
   "outputs": [
    {
     "name": "stdout",
     "output_type": "stream",
     "text": [
      "RF: -0.628347 (0.214390)\n",
      "ADR: -1.104015 (0.225237)\n",
      "GBR: -0.516516 (0.316542)\n"
     ]
    }
   ],
   "source": [
    "#lets  see  the performance if any of the three chosen ensemble technique  with default paramters can perform better in terms of NMSE\n",
    "from sklearn.ensemble import RandomForestRegressor\n",
    "from sklearn.ensemble import AdaBoostRegressor\n",
    "from sklearn.ensemble import GradientBoostingRegressor\n",
    "ensemble = [('RF', RandomForestRegressor(random_state=5)),('ADR',AdaBoostRegressor(random_state=5)),('GBR',GradientBoostingRegressor(random_state=5))]\n",
    "results2 = []\n",
    "names2 = []\n",
    "for name, model in ensemble: \n",
    "    kfold2 = KFold(n_splits=10, random_state=1) \n",
    "    cv_results2 = cross_val_score(model, x, y, cv=kfold2, scoring='neg_mean_squared_error') \n",
    "    results2.append(cv_results2) \n",
    "    names2.append(name) \n",
    "    msg2 = \"%s: %f (%f)\" % (name, cv_results2.mean(), cv_results2.std())\n",
    "    print(msg2)                                              \n"
   ]
  },
  {
   "cell_type": "code",
   "execution_count": 31,
   "metadata": {},
   "outputs": [
    {
     "name": "stdout",
     "output_type": "stream",
     "text": [
      "RF: 0.975850 (0.006485)\n",
      "ADR: 0.957093 (0.008563)\n",
      "GBR: 0.981067 (0.008634)\n"
     ]
    }
   ],
   "source": [
    "#lets  see  the performance if any of the three chosen ensemble technique  with default paramters can perform better in terms of r2 score\n",
    "results3 = []\n",
    "names3 = []\n",
    "for name, model in ensemble: \n",
    "    kfold3 = KFold(n_splits=10, random_state=1) \n",
    "    cv_results3 = cross_val_score(model, x, y, cv=kfold3, scoring='r2') \n",
    "    results3.append(cv_results3) \n",
    "    names3.append(name) \n",
    "    msg3 = \"%s: %f (%f)\" % (name, cv_results3.mean(), cv_results3.std())\n",
    "    print(msg3) "
   ]
  },
  {
   "cell_type": "code",
   "execution_count": 32,
   "metadata": {},
   "outputs": [],
   "source": [
    "comparison = {'Algo' :['Logistics_Regression', 'Lasso','Ridge','Elastic_NET','Decision_Tree', 'SVR','KNN','Random_Forest','Adaptive_Boosting','Gradient_Boosting'],'r2_score': [0.885560,0.814955,0.885666,0.730264,0.948855,0.914480,0.943829,0.975850,0.957093,0.981067],'Negative_MSE':[-3.053455,-4.928015,-3.051994,-7.198877,-1.318400,-2.405808,-1.551794,-0.628347,-1.104015,-0.516516]}\n",
    "comparative_analysis = pd.DataFrame(comparison)"
   ]
  },
  {
   "cell_type": "markdown",
   "metadata": {},
   "source": [
    "Lets see the comparative cross val performance"
   ]
  },
  {
   "cell_type": "code",
   "execution_count": 33,
   "metadata": {},
   "outputs": [
    {
     "data": {
      "text/html": [
       "<div>\n",
       "<style scoped>\n",
       "    .dataframe tbody tr th:only-of-type {\n",
       "        vertical-align: middle;\n",
       "    }\n",
       "\n",
       "    .dataframe tbody tr th {\n",
       "        vertical-align: top;\n",
       "    }\n",
       "\n",
       "    .dataframe thead th {\n",
       "        text-align: right;\n",
       "    }\n",
       "</style>\n",
       "<table border=\"1\" class=\"dataframe\">\n",
       "  <thead>\n",
       "    <tr style=\"text-align: right;\">\n",
       "      <th></th>\n",
       "      <th>Algo</th>\n",
       "      <th>r2_score</th>\n",
       "      <th>Negative_MSE</th>\n",
       "    </tr>\n",
       "  </thead>\n",
       "  <tbody>\n",
       "    <tr>\n",
       "      <th>9</th>\n",
       "      <td>Gradient_Boosting</td>\n",
       "      <td>0.981067</td>\n",
       "      <td>-0.516516</td>\n",
       "    </tr>\n",
       "    <tr>\n",
       "      <th>7</th>\n",
       "      <td>Random_Forest</td>\n",
       "      <td>0.975850</td>\n",
       "      <td>-0.628347</td>\n",
       "    </tr>\n",
       "    <tr>\n",
       "      <th>8</th>\n",
       "      <td>Adaptive_Boosting</td>\n",
       "      <td>0.957093</td>\n",
       "      <td>-1.104015</td>\n",
       "    </tr>\n",
       "    <tr>\n",
       "      <th>4</th>\n",
       "      <td>Decision_Tree</td>\n",
       "      <td>0.948855</td>\n",
       "      <td>-1.318400</td>\n",
       "    </tr>\n",
       "    <tr>\n",
       "      <th>6</th>\n",
       "      <td>KNN</td>\n",
       "      <td>0.943829</td>\n",
       "      <td>-1.551794</td>\n",
       "    </tr>\n",
       "    <tr>\n",
       "      <th>5</th>\n",
       "      <td>SVR</td>\n",
       "      <td>0.914480</td>\n",
       "      <td>-2.405808</td>\n",
       "    </tr>\n",
       "    <tr>\n",
       "      <th>2</th>\n",
       "      <td>Ridge</td>\n",
       "      <td>0.885666</td>\n",
       "      <td>-3.051994</td>\n",
       "    </tr>\n",
       "    <tr>\n",
       "      <th>0</th>\n",
       "      <td>Logistics_Regression</td>\n",
       "      <td>0.885560</td>\n",
       "      <td>-3.053455</td>\n",
       "    </tr>\n",
       "    <tr>\n",
       "      <th>1</th>\n",
       "      <td>Lasso</td>\n",
       "      <td>0.814955</td>\n",
       "      <td>-4.928015</td>\n",
       "    </tr>\n",
       "    <tr>\n",
       "      <th>3</th>\n",
       "      <td>Elastic_NET</td>\n",
       "      <td>0.730264</td>\n",
       "      <td>-7.198877</td>\n",
       "    </tr>\n",
       "  </tbody>\n",
       "</table>\n",
       "</div>"
      ],
      "text/plain": [
       "                   Algo  r2_score  Negative_MSE\n",
       "9     Gradient_Boosting  0.981067     -0.516516\n",
       "7         Random_Forest  0.975850     -0.628347\n",
       "8     Adaptive_Boosting  0.957093     -1.104015\n",
       "4         Decision_Tree  0.948855     -1.318400\n",
       "6                   KNN  0.943829     -1.551794\n",
       "5                   SVR  0.914480     -2.405808\n",
       "2                 Ridge  0.885666     -3.051994\n",
       "0  Logistics_Regression  0.885560     -3.053455\n",
       "1                 Lasso  0.814955     -4.928015\n",
       "3           Elastic_NET  0.730264     -7.198877"
      ]
     },
     "execution_count": 33,
     "metadata": {},
     "output_type": "execute_result"
    }
   ],
   "source": [
    "comparative_analysis.sort_values(by= 'r2_score',ascending=False)"
   ]
  },
  {
   "cell_type": "code",
   "execution_count": 34,
   "metadata": {},
   "outputs": [],
   "source": [
    "# Great to see Gradient boosting and Random forest are giving very good CROSS VAL r2 score  and nmse \n",
    "# So either we can choose GB or RF\n",
    "# Lets Prefer Gradient boosting due to its highest r2 score and lowest nmse\n"
   ]
  },
  {
   "cell_type": "code",
   "execution_count": 35,
   "metadata": {},
   "outputs": [],
   "source": [
    "#Lets try to check if  cross val performance of GB  in terms of nmse can be improved  by changing parameters\n",
    "from sklearn.model_selection import GridSearchCV\n",
    "kfoldx = KFold(n_splits=10, random_state=1) \n",
    "param_grid = {'n_estimators': [50,100,150,200,300,400,500 ], 'learning_rate': [0.01,0.05,0.1,0.2,0.3,0.5,1], 'max_depth': [2,3,4,5,6,7,8],\n",
    "'min_samples_split': [2,3,4], 'min_samples_leaf':[1,2,3]}\n",
    "\n",
    "mod = GradientBoostingRegressor(random_state=5)\n",
    "grid = GridSearchCV(estimator=mod, param_grid=param_grid, scoring='neg_mean_squared_error', cv=kfoldx,n_jobs=-1)\n",
    "grid_result = grid.fit(x, y)"
   ]
  },
  {
   "cell_type": "code",
   "execution_count": 36,
   "metadata": {},
   "outputs": [
    {
     "data": {
      "text/plain": [
       "-0.4809669704794892"
      ]
     },
     "execution_count": 36,
     "metadata": {},
     "output_type": "execute_result"
    }
   ],
   "source": [
    "grid_result.best_score_ \n",
    "#Great to see that cross val nmse has been decreased"
   ]
  },
  {
   "cell_type": "code",
   "execution_count": 37,
   "metadata": {},
   "outputs": [
    {
     "data": {
      "text/plain": [
       "{'learning_rate': 0.1,\n",
       " 'max_depth': 4,\n",
       " 'min_samples_leaf': 3,\n",
       " 'min_samples_split': 2,\n",
       " 'n_estimators': 200}"
      ]
     },
     "execution_count": 37,
     "metadata": {},
     "output_type": "execute_result"
    }
   ],
   "source": [
    "#lets check what are the best parameters\n",
    "grid_result.best_params_"
   ]
  },
  {
   "cell_type": "code",
   "execution_count": 38,
   "metadata": {},
   "outputs": [
    {
     "data": {
      "text/plain": [
       "GradientBoostingRegressor(alpha=0.9, criterion='friedman_mse', init=None,\n",
       "             learning_rate=0.1, loss='ls', max_depth=4, max_features=None,\n",
       "             max_leaf_nodes=None, min_impurity_decrease=0.0,\n",
       "             min_impurity_split=None, min_samples_leaf=3,\n",
       "             min_samples_split=2, min_weight_fraction_leaf=0.0,\n",
       "             n_estimators=200, n_iter_no_change=None, presort='auto',\n",
       "             random_state=5, subsample=1.0, tol=0.0001,\n",
       "             validation_fraction=0.1, verbose=0, warm_start=False)"
      ]
     },
     "execution_count": 38,
     "metadata": {},
     "output_type": "execute_result"
    }
   ],
   "source": [
    "#Lets see what is best estimator\n",
    "grid_result.best_estimator_"
   ]
  },
  {
   "cell_type": "code",
   "execution_count": 39,
   "metadata": {},
   "outputs": [],
   "source": [
    "# Lets import the library to split train and test data\n",
    "from sklearn.model_selection import train_test_split"
   ]
  },
  {
   "cell_type": "code",
   "execution_count": 40,
   "metadata": {},
   "outputs": [
    {
     "name": "stdout",
     "output_type": "stream",
     "text": [
      "At random state  1 the value of mse is  0.4531928560320714\n",
      "At random state  2 the value of mse is  0.5683447694150534\n",
      "At random state  3 the value of mse is  0.3997163600087913\n",
      "At random state  4 the value of mse is  0.521916556309655\n",
      "At random state  5 the value of mse is  0.4374725846820959\n",
      "At random state  6 the value of mse is  0.5991957929619527\n",
      "At random state  7 the value of mse is  0.5302651183256908\n",
      "At random state  8 the value of mse is  0.8708557623331169\n",
      "At random state  9 the value of mse is  0.6484719948517045\n",
      "At random state  10 the value of mse is  1.0438224247948127\n",
      "At random state  11 the value of mse is  0.8529241996964414\n",
      "At random state  12 the value of mse is  0.6118242955532198\n",
      "At random state  13 the value of mse is  0.5852663343406829\n",
      "At random state  14 the value of mse is  1.5454668504678055\n",
      "At random state  15 the value of mse is  0.37834238064859094\n",
      "At random state  16 the value of mse is  0.3374755172650113\n",
      "At random state  17 the value of mse is  1.0190960607878325\n",
      "At random state  18 the value of mse is  1.5947079633009327\n",
      "At random state  19 the value of mse is  0.651429611487153\n",
      "At random state  20 the value of mse is  0.4763593784322981\n",
      "At random state  21 the value of mse is  0.7162401202009663\n",
      "At random state  22 the value of mse is  0.5706842163733589\n",
      "At random state  23 the value of mse is  0.4620853948131787\n",
      "At random state  24 the value of mse is  0.7069104700320656\n",
      "At random state  25 the value of mse is  0.6989104672492485\n",
      "At random state  26 the value of mse is  0.5253315116939212\n",
      "At random state  27 the value of mse is  0.5905683151553447\n",
      "At random state  28 the value of mse is  0.5601764929028088\n",
      "At random state  29 the value of mse is  0.6339863916648992\n",
      "At random state  30 the value of mse is  0.5195910285210097\n",
      "At random state  31 the value of mse is  0.6036647268772712\n",
      "At random state  32 the value of mse is  1.0540565874295342\n",
      "At random state  33 the value of mse is  0.29454711909028014\n",
      "At random state  34 the value of mse is  0.4672551618859925\n",
      "At random state  35 the value of mse is  0.6840432050438819\n",
      "At random state  36 the value of mse is  0.4527453467759733\n",
      "At random state  37 the value of mse is  0.5647878269091015\n",
      "At random state  38 the value of mse is  0.33653081789887634\n",
      "At random state  39 the value of mse is  0.5167251651304523\n",
      "At random state  40 the value of mse is  0.9508485731015195\n",
      "At random state  41 the value of mse is  0.8377325887993006\n",
      "At random state  42 the value of mse is  0.6187457579328992\n",
      "At random state  43 the value of mse is  0.47759325478434606\n",
      "At random state  44 the value of mse is  0.7800222928524748\n",
      "At random state  45 the value of mse is  0.43076718633724165\n",
      "At random state  46 the value of mse is  0.5646842095275332\n",
      "At random state  47 the value of mse is  0.49419507707583443\n",
      "At random state  48 the value of mse is  0.46738236503428643\n",
      "At random state  49 the value of mse is  0.7754277308892504\n",
      "At random state  50 the value of mse is  0.24722473108742687\n",
      "At random state  51 the value of mse is  0.38357393830761344\n",
      "At random state  52 the value of mse is  0.9092280856199529\n",
      "At random state  53 the value of mse is  0.5512746637029938\n",
      "At random state  54 the value of mse is  0.4039648624314827\n",
      "At random state  55 the value of mse is  0.5917032895511879\n",
      "At random state  56 the value of mse is  0.6818786466877447\n",
      "At random state  57 the value of mse is  0.37339560668549804\n",
      "At random state  58 the value of mse is  1.0237201428041007\n",
      "At random state  59 the value of mse is  0.35881295941121516\n",
      "At random state  60 the value of mse is  1.0050471141966189\n",
      "At random state  61 the value of mse is  0.43725919100927174\n",
      "At random state  62 the value of mse is  1.3527401946301834\n",
      "At random state  63 the value of mse is  0.5100425941981545\n",
      "At random state  64 the value of mse is  0.46968457705092836\n",
      "At random state  65 the value of mse is  0.756290145142851\n",
      "At random state  66 the value of mse is  1.0815714316420457\n",
      "At random state  67 the value of mse is  0.35754935282757544\n",
      "At random state  68 the value of mse is  0.41020867206089023\n",
      "At random state  69 the value of mse is  0.36088178040401553\n",
      "At random state  70 the value of mse is  0.44971605124692005\n",
      "At random state  71 the value of mse is  0.6836126581788114\n",
      "At random state  72 the value of mse is  0.4779846826086979\n",
      "At random state  73 the value of mse is  0.7673207318359117\n",
      "At random state  74 the value of mse is  0.8986191362199625\n",
      "At random state  75 the value of mse is  0.46080230715673326\n",
      "At random state  76 the value of mse is  0.41007559337645255\n",
      "At random state  77 the value of mse is  0.37758134095488416\n",
      "At random state  78 the value of mse is  0.5845988917331788\n",
      "At random state  79 the value of mse is  0.29765397543579386\n",
      "At random state  80 the value of mse is  0.7382566374686321\n",
      "At random state  81 the value of mse is  0.3706334134742563\n",
      "At random state  82 the value of mse is  0.9785280275337955\n",
      "At random state  83 the value of mse is  0.4287384426742058\n",
      "At random state  84 the value of mse is  0.2179577753069611\n",
      "At random state  85 the value of mse is  0.8094870552396655\n",
      "At random state  86 the value of mse is  0.3396512144598454\n",
      "At random state  87 the value of mse is  0.8280487811007065\n",
      "At random state  88 the value of mse is  0.715954287747775\n",
      "At random state  89 the value of mse is  0.4947044794581278\n",
      "At random state  90 the value of mse is  0.732520528474249\n",
      "At random state  91 the value of mse is  0.572381682346171\n",
      "At random state  92 the value of mse is  0.4972962532335374\n",
      "At random state  93 the value of mse is  0.8208327928573953\n",
      "At random state  94 the value of mse is  1.0998216980160156\n",
      "At random state  95 the value of mse is  0.5392311464468496\n",
      "At random state  96 the value of mse is  0.4807106724247999\n",
      "At random state  97 the value of mse is  0.4779398747371464\n",
      "At random state  98 the value of mse is  0.47843764365326347\n",
      "At random state  99 the value of mse is  0.3868677383721026\n",
      "\n",
      "\n",
      "min mse is 0.2179577753069611 at random state 84\n"
     ]
    }
   ],
   "source": [
    "#Lets find out the best random state for selected gradient boosting regressor in terms of lowest mse score\n",
    "\n",
    "min_mse=100\n",
    "gb= GradientBoostingRegressor(learning_rate=0.1, max_depth=4, min_samples_leaf=3, min_samples_split=2, n_estimators=200, random_state=5)\n",
    "for i in range(1,100):\n",
    "    X_train, X_test, y_train, y_test = train_test_split(x,y,test_size=0.2, random_state=i)\n",
    "       \n",
    "    gb.fit(X_train,y_train)\n",
    "    ypreds=gb.predict(X_test)\n",
    "    mse_c=mean_squared_error(y_test, ypreds)\n",
    "    print('At random state ', i, 'the value of mse is ', mse_c)\n",
    "    if mse_c<min_mse:\n",
    "        min_mse=mse_c\n",
    "        finalstate=i\n",
    "print()\n",
    "print()\n",
    "print('min mse is', min_mse,'at random state' , finalstate)"
   ]
  },
  {
   "cell_type": "raw",
   "metadata": {},
   "source": [
    "Great to see the  test mse score of 0.21 "
   ]
  },
  {
   "cell_type": "code",
   "execution_count": 41,
   "metadata": {},
   "outputs": [
    {
     "name": "stdout",
     "output_type": "stream",
     "text": [
      "r2_score is 0.9910990049656363\n",
      "mse is 0.2179577753069611\n",
      "rmse is 0.46685948132919086\n",
      "mae is 0.37005227282877384\n"
     ]
    }
   ],
   "source": [
    "#Lets build the model using the best random state\n",
    "X_train, X_test, y_train,y_test = train_test_split(x,y,test_size=0.2, random_state = 84)\n",
    "GBR= GradientBoostingRegressor(learning_rate=0.1, max_depth=4, min_samples_leaf=3, min_samples_split=2, n_estimators=200, random_state=5)\n",
    "GBR.fit(X_train,y_train)\n",
    "ypred=GBR.predict(X_test)\n",
    "r2_scr=r2_score(y_test, ypred)\n",
    "mse=mean_squared_error(y_test, ypred)\n",
    "rmse = np.sqrt(mse)\n",
    "mae= mean_absolute_error(y_test, ypred)\n",
    "print('r2_score is', r2_scr)\n",
    "print('mse is', mse)\n",
    "print('rmse is', rmse)\n",
    "print('mae is', mae)"
   ]
  },
  {
   "cell_type": "code",
   "execution_count": 42,
   "metadata": {},
   "outputs": [
    {
     "data": {
      "text/plain": [
       "0.9817754434231676"
      ]
     },
     "execution_count": 42,
     "metadata": {},
     "output_type": "execute_result"
    }
   ],
   "source": [
    "#Lets  verify its r2 cross val score\n",
    "kfoldx = KFold(n_splits=10, random_state=1)\n",
    "cross_val_score(GradientBoostingRegressor(learning_rate=0.1, max_depth=4, min_samples_leaf=3, min_samples_split=2, n_estimators=200, random_state=5),x,y,cv=kfoldx,scoring=\"r2\").mean()"
   ]
  },
  {
   "cell_type": "raw",
   "metadata": {},
   "source": [
    "#We can clearly see that cros val r2 has been increased  from 0.9810 to 0.9817 by using best paramters"
   ]
  },
  {
   "cell_type": "code",
   "execution_count": 43,
   "metadata": {},
   "outputs": [
    {
     "data": {
      "text/plain": [
       "-0.4809669704794892"
      ]
     },
     "execution_count": 43,
     "metadata": {},
     "output_type": "execute_result"
    }
   ],
   "source": [
    "#Lets see its neg mean square error  cross val score\n",
    "kfoldx = KFold(n_splits=10, random_state=1)\n",
    "cross_val_score(GradientBoostingRegressor(learning_rate=0.1, max_depth=4, min_samples_leaf=3, min_samples_split=2, n_estimators=200, random_state=5),x,y,cv=kfoldx,scoring=\"neg_mean_squared_error\").mean()\n"
   ]
  },
  {
   "cell_type": "code",
   "execution_count": 44,
   "metadata": {},
   "outputs": [],
   "source": [
    "# Also as already verified we are getting improved nmse score"
   ]
  },
  {
   "cell_type": "markdown",
   "metadata": {},
   "source": [
    "Awesome we can see that test score and cross val score are very close "
   ]
  },
  {
   "cell_type": "code",
   "execution_count": 45,
   "metadata": {},
   "outputs": [],
   "source": [
    "# Lets save the predicted result to a csv file\n",
    "dfx = pd.DataFrame(ypred)\n",
    "dfx.to_csv('GBR_sales_prediction.csv')"
   ]
  },
  {
   "cell_type": "code",
   "execution_count": 46,
   "metadata": {},
   "outputs": [
    {
     "data": {
      "text/plain": [
       "['GBR_SALES.pkl']"
      ]
     },
     "execution_count": 46,
     "metadata": {},
     "output_type": "execute_result"
    }
   ],
   "source": [
    "# Lets dump our model into pkl file\n",
    "from sklearn.externals import joblib\n",
    "joblib.dump(GBR,'GBR_SALES.pkl')"
   ]
  },
  {
   "cell_type": "code",
   "execution_count": null,
   "metadata": {},
   "outputs": [],
   "source": []
  }
 ],
 "metadata": {
  "kernelspec": {
   "display_name": "Python 3",
   "language": "python",
   "name": "python3"
  },
  "language_info": {
   "codemirror_mode": {
    "name": "ipython",
    "version": 3
   },
   "file_extension": ".py",
   "mimetype": "text/x-python",
   "name": "python",
   "nbconvert_exporter": "python",
   "pygments_lexer": "ipython3",
   "version": "3.7.3"
  }
 },
 "nbformat": 4,
 "nbformat_minor": 2
}
