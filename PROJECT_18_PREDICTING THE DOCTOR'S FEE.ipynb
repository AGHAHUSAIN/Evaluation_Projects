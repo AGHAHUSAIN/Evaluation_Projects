{
 "cells": [
  {
   "cell_type": "markdown",
   "metadata": {},
   "source": [
    "# PROJECT 18: PREDICT THE  FEE OF DOCTOR"
   ]
  },
  {
   "cell_type": "code",
   "execution_count": 1,
   "metadata": {},
   "outputs": [],
   "source": [
    "#Import required libraries\n",
    "import pandas as pd\n",
    "import numpy as np\n",
    "import sklearn\n",
    "import matplotlib.pyplot as plt\n",
    "import seaborn as sns\n",
    "import warnings\n",
    "warnings.filterwarnings('ignore')"
   ]
  },
  {
   "cell_type": "code",
   "execution_count": 2,
   "metadata": {},
   "outputs": [],
   "source": [
    "#read train and test data\n",
    "dftr =pd.read_excel('Final_Train.xlsx')\n",
    "dfte=pd.read_excel('Final_Test.xlsx')"
   ]
  },
  {
   "cell_type": "code",
   "execution_count": 3,
   "metadata": {},
   "outputs": [
    {
     "name": "stdout",
     "output_type": "stream",
     "text": [
      "train data =  (5961, 7)\n",
      "test data =  (1987, 6)\n"
     ]
    }
   ],
   "source": [
    "#lets check the shape of train and test data\n",
    "print('train data = ',dftr.shape)\n",
    "print('test data = ',dfte.shape)\n",
    "#seems test data has one less column and it should be the fee column as it is the target"
   ]
  },
  {
   "cell_type": "code",
   "execution_count": 4,
   "metadata": {
    "scrolled": true
   },
   "outputs": [
    {
     "data": {
      "text/html": [
       "<div>\n",
       "<style scoped>\n",
       "    .dataframe tbody tr th:only-of-type {\n",
       "        vertical-align: middle;\n",
       "    }\n",
       "\n",
       "    .dataframe tbody tr th {\n",
       "        vertical-align: top;\n",
       "    }\n",
       "\n",
       "    .dataframe thead th {\n",
       "        text-align: right;\n",
       "    }\n",
       "</style>\n",
       "<table border=\"1\" class=\"dataframe\">\n",
       "  <thead>\n",
       "    <tr style=\"text-align: right;\">\n",
       "      <th></th>\n",
       "      <th>Qualification</th>\n",
       "      <th>Experience</th>\n",
       "      <th>Rating</th>\n",
       "      <th>Place</th>\n",
       "      <th>Profile</th>\n",
       "      <th>Miscellaneous_Info</th>\n",
       "      <th>Fees</th>\n",
       "    </tr>\n",
       "  </thead>\n",
       "  <tbody>\n",
       "    <tr>\n",
       "      <th>0</th>\n",
       "      <td>BHMS, MD - Homeopathy</td>\n",
       "      <td>24 years experience</td>\n",
       "      <td>100%</td>\n",
       "      <td>Kakkanad, Ernakulam</td>\n",
       "      <td>Homeopath</td>\n",
       "      <td>100% 16 Feedback Kakkanad, Ernakulam</td>\n",
       "      <td>100</td>\n",
       "    </tr>\n",
       "    <tr>\n",
       "      <th>1</th>\n",
       "      <td>BAMS, MD - Ayurveda Medicine</td>\n",
       "      <td>12 years experience</td>\n",
       "      <td>98%</td>\n",
       "      <td>Whitefield, Bangalore</td>\n",
       "      <td>Ayurveda</td>\n",
       "      <td>98% 76 Feedback Whitefield, Bangalore</td>\n",
       "      <td>350</td>\n",
       "    </tr>\n",
       "    <tr>\n",
       "      <th>2</th>\n",
       "      <td>MBBS, MS - Otorhinolaryngology</td>\n",
       "      <td>9 years experience</td>\n",
       "      <td>NaN</td>\n",
       "      <td>Mathikere - BEL, Bangalore</td>\n",
       "      <td>ENT Specialist</td>\n",
       "      <td>NaN</td>\n",
       "      <td>300</td>\n",
       "    </tr>\n",
       "    <tr>\n",
       "      <th>3</th>\n",
       "      <td>BSc - Zoology, BAMS</td>\n",
       "      <td>12 years experience</td>\n",
       "      <td>NaN</td>\n",
       "      <td>Bannerghatta Road, Bangalore</td>\n",
       "      <td>Ayurveda</td>\n",
       "      <td>Bannerghatta Road, Bangalore ₹250 Available on...</td>\n",
       "      <td>250</td>\n",
       "    </tr>\n",
       "    <tr>\n",
       "      <th>4</th>\n",
       "      <td>BAMS</td>\n",
       "      <td>20 years experience</td>\n",
       "      <td>100%</td>\n",
       "      <td>Keelkattalai, Chennai</td>\n",
       "      <td>Ayurveda</td>\n",
       "      <td>100% 4 Feedback Keelkattalai, Chennai</td>\n",
       "      <td>250</td>\n",
       "    </tr>\n",
       "  </tbody>\n",
       "</table>\n",
       "</div>"
      ],
      "text/plain": [
       "                    Qualification           Experience Rating  \\\n",
       "0           BHMS, MD - Homeopathy  24 years experience   100%   \n",
       "1    BAMS, MD - Ayurveda Medicine  12 years experience    98%   \n",
       "2  MBBS, MS - Otorhinolaryngology   9 years experience    NaN   \n",
       "3             BSc - Zoology, BAMS  12 years experience    NaN   \n",
       "4                            BAMS  20 years experience   100%   \n",
       "\n",
       "                          Place         Profile  \\\n",
       "0           Kakkanad, Ernakulam       Homeopath   \n",
       "1         Whitefield, Bangalore        Ayurveda   \n",
       "2    Mathikere - BEL, Bangalore  ENT Specialist   \n",
       "3  Bannerghatta Road, Bangalore        Ayurveda   \n",
       "4         Keelkattalai, Chennai        Ayurveda   \n",
       "\n",
       "                                  Miscellaneous_Info  Fees  \n",
       "0               100% 16 Feedback Kakkanad, Ernakulam   100  \n",
       "1              98% 76 Feedback Whitefield, Bangalore   350  \n",
       "2                                                NaN   300  \n",
       "3  Bannerghatta Road, Bangalore ₹250 Available on...   250  \n",
       "4              100% 4 Feedback Keelkattalai, Chennai   250  "
      ]
     },
     "execution_count": 4,
     "metadata": {},
     "output_type": "execute_result"
    }
   ],
   "source": [
    "#Lets check the first five rows of train data\n",
    "dftr.head()"
   ]
  },
  {
   "cell_type": "code",
   "execution_count": 5,
   "metadata": {
    "scrolled": true
   },
   "outputs": [
    {
     "data": {
      "text/html": [
       "<div>\n",
       "<style scoped>\n",
       "    .dataframe tbody tr th:only-of-type {\n",
       "        vertical-align: middle;\n",
       "    }\n",
       "\n",
       "    .dataframe tbody tr th {\n",
       "        vertical-align: top;\n",
       "    }\n",
       "\n",
       "    .dataframe thead th {\n",
       "        text-align: right;\n",
       "    }\n",
       "</style>\n",
       "<table border=\"1\" class=\"dataframe\">\n",
       "  <thead>\n",
       "    <tr style=\"text-align: right;\">\n",
       "      <th></th>\n",
       "      <th>Qualification</th>\n",
       "      <th>Experience</th>\n",
       "      <th>Rating</th>\n",
       "      <th>Place</th>\n",
       "      <th>Profile</th>\n",
       "      <th>Miscellaneous_Info</th>\n",
       "    </tr>\n",
       "  </thead>\n",
       "  <tbody>\n",
       "    <tr>\n",
       "      <th>0</th>\n",
       "      <td>MBBS</td>\n",
       "      <td>35 years experience</td>\n",
       "      <td>NaN</td>\n",
       "      <td>Ghatkopar East, Mumbai</td>\n",
       "      <td>General Medicine</td>\n",
       "      <td>NaN</td>\n",
       "    </tr>\n",
       "    <tr>\n",
       "      <th>1</th>\n",
       "      <td>MBBS, Diploma in Otorhinolaryngology (DLO)</td>\n",
       "      <td>31 years experience</td>\n",
       "      <td>NaN</td>\n",
       "      <td>West Marredpally, Hyderabad</td>\n",
       "      <td>ENT Specialist</td>\n",
       "      <td>NaN</td>\n",
       "    </tr>\n",
       "    <tr>\n",
       "      <th>2</th>\n",
       "      <td>MBBS, DDVL</td>\n",
       "      <td>40 years experience</td>\n",
       "      <td>70%</td>\n",
       "      <td>KK Nagar, Chennai</td>\n",
       "      <td>Dermatologists</td>\n",
       "      <td>70% 4 Feedback KK Nagar, Chennai</td>\n",
       "    </tr>\n",
       "    <tr>\n",
       "      <th>3</th>\n",
       "      <td>BAMS</td>\n",
       "      <td>0 years experience</td>\n",
       "      <td>NaN</td>\n",
       "      <td>New Ashok Nagar, Delhi</td>\n",
       "      <td>Ayurveda</td>\n",
       "      <td>NaN</td>\n",
       "    </tr>\n",
       "    <tr>\n",
       "      <th>4</th>\n",
       "      <td>BDS, MDS - Conservative Dentistry &amp; Endodontics</td>\n",
       "      <td>16 years experience</td>\n",
       "      <td>100%</td>\n",
       "      <td>Kanakpura Road, Bangalore</td>\n",
       "      <td>Dentist</td>\n",
       "      <td>General Dentistry Conservative Dentistry Cosme...</td>\n",
       "    </tr>\n",
       "  </tbody>\n",
       "</table>\n",
       "</div>"
      ],
      "text/plain": [
       "                                     Qualification           Experience  \\\n",
       "0                                             MBBS  35 years experience   \n",
       "1       MBBS, Diploma in Otorhinolaryngology (DLO)  31 years experience   \n",
       "2                                       MBBS, DDVL  40 years experience   \n",
       "3                                             BAMS   0 years experience   \n",
       "4  BDS, MDS - Conservative Dentistry & Endodontics  16 years experience   \n",
       "\n",
       "  Rating                        Place           Profile  \\\n",
       "0    NaN       Ghatkopar East, Mumbai  General Medicine   \n",
       "1    NaN  West Marredpally, Hyderabad    ENT Specialist   \n",
       "2    70%            KK Nagar, Chennai    Dermatologists   \n",
       "3    NaN       New Ashok Nagar, Delhi          Ayurveda   \n",
       "4   100%    Kanakpura Road, Bangalore           Dentist   \n",
       "\n",
       "                                  Miscellaneous_Info  \n",
       "0                                                NaN  \n",
       "1                                                NaN  \n",
       "2                   70% 4 Feedback KK Nagar, Chennai  \n",
       "3                                                NaN  \n",
       "4  General Dentistry Conservative Dentistry Cosme...  "
      ]
     },
     "execution_count": 5,
     "metadata": {},
     "output_type": "execute_result"
    }
   ],
   "source": [
    "#Lets check the first five rows of test data\n",
    "dfte.head()"
   ]
  },
  {
   "cell_type": "code",
   "execution_count": 6,
   "metadata": {
    "scrolled": true
   },
   "outputs": [
    {
     "data": {
      "text/plain": [
       "Qualification            0\n",
       "Experience               0\n",
       "Rating                3302\n",
       "Place                   25\n",
       "Profile                  0\n",
       "Miscellaneous_Info    2620\n",
       "Fees                     0\n",
       "dtype: int64"
      ]
     },
     "execution_count": 6,
     "metadata": {},
     "output_type": "execute_result"
    }
   ],
   "source": [
    "#Lets check the null values in train data\n",
    "dftr.isnull().sum()\n",
    "#There are lots of missing values in  rating and miscellalnious and few in  place"
   ]
  },
  {
   "cell_type": "code",
   "execution_count": 7,
   "metadata": {},
   "outputs": [
    {
     "data": {
      "text/plain": [
       "<matplotlib.axes._subplots.AxesSubplot at 0x3fd8c46c18>"
      ]
     },
     "execution_count": 7,
     "metadata": {},
     "output_type": "execute_result"
    },
    {
     "data": {
      "image/png": "[encoded data removed]",
      "text/plain": [
       "<Figure size 432x288 with 2 Axes>"
      ]
     },
     "metadata": {
      "needs_background": "light"
     },
     "output_type": "display_data"
    }
   ],
   "source": [
    "#Lets check the heatmap to see the missing values\n",
    "sns.heatmap(dftr.isnull())"
   ]
  },
  {
   "cell_type": "code",
   "execution_count": 8,
   "metadata": {},
   "outputs": [
    {
     "data": {
      "text/plain": [
       "Qualification            0\n",
       "Experience               0\n",
       "Rating                1090\n",
       "Place                    6\n",
       "Profile                  0\n",
       "Miscellaneous_Info     834\n",
       "dtype: int64"
      ]
     },
     "execution_count": 8,
     "metadata": {},
     "output_type": "execute_result"
    }
   ],
   "source": [
    "#Lets see the missing values in test data\n",
    "dfte.isnull().sum()\n",
    "# same case as with training data i.e. Large no. of missing values in rating and miscellaneos and few in place"
   ]
  },
  {
   "cell_type": "code",
   "execution_count": 9,
   "metadata": {},
   "outputs": [
    {
     "data": {
      "text/plain": [
       "<matplotlib.axes._subplots.AxesSubplot at 0x3fd8b98e80>"
      ]
     },
     "execution_count": 9,
     "metadata": {},
     "output_type": "execute_result"
    },
    {
     "data": {
      "image/png": "[encoded data removed]",
      "text/plain": [
       "<Figure size 432x288 with 2 Axes>"
      ]
     },
     "metadata": {
      "needs_background": "light"
     },
     "output_type": "display_data"
    }
   ],
   "source": [
    "#Lets check the heatmap to see the missing values in test data\n",
    "sns.heatmap(dfte.isnull())"
   ]
  },
  {
   "cell_type": "code",
   "execution_count": 10,
   "metadata": {},
   "outputs": [
    {
     "data": {
      "text/plain": [
       "100%    684\n",
       "98%     290\n",
       "99%     259\n",
       "97%     241\n",
       "96%     220\n",
       "95%     178\n",
       "94%     115\n",
       "93%     109\n",
       "92%      66\n",
       "90%      66\n",
       "91%      60\n",
       "89%      42\n",
       "88%      41\n",
       "85%      27\n",
       "82%      23\n",
       "86%      21\n",
       "83%      21\n",
       "80%      19\n",
       "77%      16\n",
       "87%      14\n",
       "79%      13\n",
       "84%      13\n",
       "67%      12\n",
       "81%      12\n",
       "71%       9\n",
       "76%       9\n",
       "75%       8\n",
       "73%       8\n",
       "74%       7\n",
       "60%       7\n",
       "78%       6\n",
       "68%       5\n",
       "56%       5\n",
       "69%       4\n",
       "70%       4\n",
       "72%       3\n",
       "57%       3\n",
       "64%       2\n",
       "63%       2\n",
       "55%       2\n",
       "62%       2\n",
       "33%       2\n",
       "53%       1\n",
       "36%       1\n",
       "48%       1\n",
       "65%       1\n",
       "7%        1\n",
       "47%       1\n",
       "58%       1\n",
       "40%       1\n",
       "45%       1\n",
       "Name: Rating, dtype: int64"
      ]
     },
     "execution_count": 10,
     "metadata": {},
     "output_type": "execute_result"
    }
   ],
   "source": [
    "#Lets see the rating colum\n",
    "dftr['Rating'].value_counts()"
   ]
  },
  {
   "cell_type": "code",
   "execution_count": 11,
   "metadata": {},
   "outputs": [],
   "source": [
    "#Lets replace the missing values by some value not available in thr columns\n",
    "#we are replace missing value =-99\n",
    "dftr['Rating'].fillna('-99%',inplace=True)\n",
    "dfte['Rating'].fillna('-99%',inplace=True)"
   ]
  },
  {
   "cell_type": "code",
   "execution_count": 12,
   "metadata": {},
   "outputs": [
    {
     "data": {
      "text/plain": [
       "-99%    3302\n",
       "100%     684\n",
       "98%      290\n",
       "99%      259\n",
       "97%      241\n",
       "96%      220\n",
       "95%      178\n",
       "94%      115\n",
       "93%      109\n",
       "92%       66\n",
       "90%       66\n",
       "91%       60\n",
       "89%       42\n",
       "88%       41\n",
       "85%       27\n",
       "82%       23\n",
       "83%       21\n",
       "86%       21\n",
       "80%       19\n",
       "77%       16\n",
       "87%       14\n",
       "79%       13\n",
       "84%       13\n",
       "81%       12\n",
       "67%       12\n",
       "76%        9\n",
       "71%        9\n",
       "73%        8\n",
       "75%        8\n",
       "60%        7\n",
       "74%        7\n",
       "78%        6\n",
       "56%        5\n",
       "68%        5\n",
       "70%        4\n",
       "69%        4\n",
       "72%        3\n",
       "57%        3\n",
       "55%        2\n",
       "64%        2\n",
       "62%        2\n",
       "63%        2\n",
       "33%        2\n",
       "45%        1\n",
       "53%        1\n",
       "48%        1\n",
       "36%        1\n",
       "47%        1\n",
       "58%        1\n",
       "65%        1\n",
       "40%        1\n",
       "7%         1\n",
       "Name: Rating, dtype: int64"
      ]
     },
     "execution_count": 12,
     "metadata": {},
     "output_type": "execute_result"
    }
   ],
   "source": [
    "#Lets check the unique values  and their counts\n",
    "dftr['Rating'].value_counts()"
   ]
  },
  {
   "cell_type": "code",
   "execution_count": 13,
   "metadata": {},
   "outputs": [],
   "source": [
    "#Lets extract the number before percentage in rating column\n",
    "sep=dftr['Rating'].str.split('%',expand=True)\n",
    "sep1=dfte['Rating'].str.split('%',expand=True)\n",
    "dftr['num_rate'] =sep[0]\n",
    "dfte['num_rate']=sep1[0]\n"
   ]
  },
  {
   "cell_type": "code",
   "execution_count": 14,
   "metadata": {},
   "outputs": [],
   "source": [
    "#But the num_rate is object,lets change it into integer\n",
    "dftr['num_rating'] =dftr['num_rate'].astype('int64')\n",
    "dfte['num_rating'] =dftr['num_rate'].astype('int64')"
   ]
  },
  {
   "cell_type": "code",
   "execution_count": 15,
   "metadata": {},
   "outputs": [],
   "source": [
    "#lets create bins for num_rating\n",
    "bins = [-99,0,10,20,30,40,50,60,70,80,90,100]\n",
    "labels = [i for i in range(11)]\n",
    "dftr[\"num_rating\"] = pd.cut(dftr[\"num_rating\"],bins=bins,labels=labels,include_lowest=True)\n",
    "dfte[\"num_rating\"] = pd.cut(dfte[\"num_rating\"],bins=bins,labels=labels,include_lowest=True)\n"
   ]
  },
  {
   "cell_type": "code",
   "execution_count": 16,
   "metadata": {},
   "outputs": [],
   "source": [
    "#Lets drop the num_rate  and ratingscolum as the information present in it has been extracted\n",
    "dftr.drop(['num_rate','Rating'],axis=1,inplace=True)\n",
    "dfte.drop(['num_rate','Rating'],axis=1,inplace=True)\n"
   ]
  },
  {
   "cell_type": "code",
   "execution_count": 17,
   "metadata": {
    "scrolled": true
   },
   "outputs": [
    {
     "data": {
      "text/plain": [
       "<matplotlib.axes._subplots.AxesSubplot at 0x3fd8c3d860>"
      ]
     },
     "execution_count": 17,
     "metadata": {},
     "output_type": "execute_result"
    },
    {
     "data": {
      "image/png": "[encoded data removed]",
      "text/plain": [
       "<Figure size 1440x360 with 1 Axes>"
      ]
     },
     "metadata": {
      "needs_background": "light"
     },
     "output_type": "display_data"
    }
   ],
   "source": [
    "#lets explore the relation between number of fee and rating\n",
    "plt.figure(figsize=(20,5))\n",
    "sns.barplot(x='num_rating',y='Fees',data=dftr)\n"
   ]
  },
  {
   "cell_type": "code",
   "execution_count": 18,
   "metadata": {
    "scrolled": true
   },
   "outputs": [
    {
     "data": {
      "text/html": [
       "<div>\n",
       "<style scoped>\n",
       "    .dataframe tbody tr th:only-of-type {\n",
       "        vertical-align: middle;\n",
       "    }\n",
       "\n",
       "    .dataframe tbody tr th {\n",
       "        vertical-align: top;\n",
       "    }\n",
       "\n",
       "    .dataframe thead th {\n",
       "        text-align: right;\n",
       "    }\n",
       "</style>\n",
       "<table border=\"1\" class=\"dataframe\">\n",
       "  <thead>\n",
       "    <tr style=\"text-align: right;\">\n",
       "      <th></th>\n",
       "      <th>Qualification</th>\n",
       "      <th>Experience</th>\n",
       "      <th>Place</th>\n",
       "      <th>Profile</th>\n",
       "      <th>Miscellaneous_Info</th>\n",
       "      <th>Fees</th>\n",
       "      <th>num_rating</th>\n",
       "    </tr>\n",
       "  </thead>\n",
       "  <tbody>\n",
       "    <tr>\n",
       "      <th>0</th>\n",
       "      <td>BHMS, MD - Homeopathy</td>\n",
       "      <td>24 years experience</td>\n",
       "      <td>Kakkanad, Ernakulam</td>\n",
       "      <td>Homeopath</td>\n",
       "      <td>100% 16 Feedback Kakkanad, Ernakulam</td>\n",
       "      <td>100</td>\n",
       "      <td>10</td>\n",
       "    </tr>\n",
       "    <tr>\n",
       "      <th>1</th>\n",
       "      <td>BAMS, MD - Ayurveda Medicine</td>\n",
       "      <td>12 years experience</td>\n",
       "      <td>Whitefield, Bangalore</td>\n",
       "      <td>Ayurveda</td>\n",
       "      <td>98% 76 Feedback Whitefield, Bangalore</td>\n",
       "      <td>350</td>\n",
       "      <td>10</td>\n",
       "    </tr>\n",
       "    <tr>\n",
       "      <th>2</th>\n",
       "      <td>MBBS, MS - Otorhinolaryngology</td>\n",
       "      <td>9 years experience</td>\n",
       "      <td>Mathikere - BEL, Bangalore</td>\n",
       "      <td>ENT Specialist</td>\n",
       "      <td>NaN</td>\n",
       "      <td>300</td>\n",
       "      <td>0</td>\n",
       "    </tr>\n",
       "    <tr>\n",
       "      <th>3</th>\n",
       "      <td>BSc - Zoology, BAMS</td>\n",
       "      <td>12 years experience</td>\n",
       "      <td>Bannerghatta Road, Bangalore</td>\n",
       "      <td>Ayurveda</td>\n",
       "      <td>Bannerghatta Road, Bangalore ₹250 Available on...</td>\n",
       "      <td>250</td>\n",
       "      <td>0</td>\n",
       "    </tr>\n",
       "    <tr>\n",
       "      <th>4</th>\n",
       "      <td>BAMS</td>\n",
       "      <td>20 years experience</td>\n",
       "      <td>Keelkattalai, Chennai</td>\n",
       "      <td>Ayurveda</td>\n",
       "      <td>100% 4 Feedback Keelkattalai, Chennai</td>\n",
       "      <td>250</td>\n",
       "      <td>10</td>\n",
       "    </tr>\n",
       "  </tbody>\n",
       "</table>\n",
       "</div>"
      ],
      "text/plain": [
       "                    Qualification           Experience  \\\n",
       "0           BHMS, MD - Homeopathy  24 years experience   \n",
       "1    BAMS, MD - Ayurveda Medicine  12 years experience   \n",
       "2  MBBS, MS - Otorhinolaryngology   9 years experience   \n",
       "3             BSc - Zoology, BAMS  12 years experience   \n",
       "4                            BAMS  20 years experience   \n",
       "\n",
       "                          Place         Profile  \\\n",
       "0           Kakkanad, Ernakulam       Homeopath   \n",
       "1         Whitefield, Bangalore        Ayurveda   \n",
       "2    Mathikere - BEL, Bangalore  ENT Specialist   \n",
       "3  Bannerghatta Road, Bangalore        Ayurveda   \n",
       "4         Keelkattalai, Chennai        Ayurveda   \n",
       "\n",
       "                                  Miscellaneous_Info  Fees num_rating  \n",
       "0               100% 16 Feedback Kakkanad, Ernakulam   100         10  \n",
       "1              98% 76 Feedback Whitefield, Bangalore   350         10  \n",
       "2                                                NaN   300          0  \n",
       "3  Bannerghatta Road, Bangalore ₹250 Available on...   250          0  \n",
       "4              100% 4 Feedback Keelkattalai, Chennai   250         10  "
      ]
     },
     "execution_count": 18,
     "metadata": {},
     "output_type": "execute_result"
    }
   ],
   "source": [
    "#Lets confirm the drop step in training data\n",
    "dftr.head()"
   ]
  },
  {
   "cell_type": "code",
   "execution_count": 19,
   "metadata": {},
   "outputs": [
    {
     "data": {
      "text/html": [
       "<div>\n",
       "<style scoped>\n",
       "    .dataframe tbody tr th:only-of-type {\n",
       "        vertical-align: middle;\n",
       "    }\n",
       "\n",
       "    .dataframe tbody tr th {\n",
       "        vertical-align: top;\n",
       "    }\n",
       "\n",
       "    .dataframe thead th {\n",
       "        text-align: right;\n",
       "    }\n",
       "</style>\n",
       "<table border=\"1\" class=\"dataframe\">\n",
       "  <thead>\n",
       "    <tr style=\"text-align: right;\">\n",
       "      <th></th>\n",
       "      <th>Qualification</th>\n",
       "      <th>Experience</th>\n",
       "      <th>Place</th>\n",
       "      <th>Profile</th>\n",
       "      <th>Miscellaneous_Info</th>\n",
       "      <th>num_rating</th>\n",
       "    </tr>\n",
       "  </thead>\n",
       "  <tbody>\n",
       "    <tr>\n",
       "      <th>0</th>\n",
       "      <td>MBBS</td>\n",
       "      <td>35 years experience</td>\n",
       "      <td>Ghatkopar East, Mumbai</td>\n",
       "      <td>General Medicine</td>\n",
       "      <td>NaN</td>\n",
       "      <td>10</td>\n",
       "    </tr>\n",
       "    <tr>\n",
       "      <th>1</th>\n",
       "      <td>MBBS, Diploma in Otorhinolaryngology (DLO)</td>\n",
       "      <td>31 years experience</td>\n",
       "      <td>West Marredpally, Hyderabad</td>\n",
       "      <td>ENT Specialist</td>\n",
       "      <td>NaN</td>\n",
       "      <td>10</td>\n",
       "    </tr>\n",
       "    <tr>\n",
       "      <th>2</th>\n",
       "      <td>MBBS, DDVL</td>\n",
       "      <td>40 years experience</td>\n",
       "      <td>KK Nagar, Chennai</td>\n",
       "      <td>Dermatologists</td>\n",
       "      <td>70% 4 Feedback KK Nagar, Chennai</td>\n",
       "      <td>0</td>\n",
       "    </tr>\n",
       "    <tr>\n",
       "      <th>3</th>\n",
       "      <td>BAMS</td>\n",
       "      <td>0 years experience</td>\n",
       "      <td>New Ashok Nagar, Delhi</td>\n",
       "      <td>Ayurveda</td>\n",
       "      <td>NaN</td>\n",
       "      <td>0</td>\n",
       "    </tr>\n",
       "    <tr>\n",
       "      <th>4</th>\n",
       "      <td>BDS, MDS - Conservative Dentistry &amp; Endodontics</td>\n",
       "      <td>16 years experience</td>\n",
       "      <td>Kanakpura Road, Bangalore</td>\n",
       "      <td>Dentist</td>\n",
       "      <td>General Dentistry Conservative Dentistry Cosme...</td>\n",
       "      <td>10</td>\n",
       "    </tr>\n",
       "  </tbody>\n",
       "</table>\n",
       "</div>"
      ],
      "text/plain": [
       "                                     Qualification           Experience  \\\n",
       "0                                             MBBS  35 years experience   \n",
       "1       MBBS, Diploma in Otorhinolaryngology (DLO)  31 years experience   \n",
       "2                                       MBBS, DDVL  40 years experience   \n",
       "3                                             BAMS   0 years experience   \n",
       "4  BDS, MDS - Conservative Dentistry & Endodontics  16 years experience   \n",
       "\n",
       "                         Place           Profile  \\\n",
       "0       Ghatkopar East, Mumbai  General Medicine   \n",
       "1  West Marredpally, Hyderabad    ENT Specialist   \n",
       "2            KK Nagar, Chennai    Dermatologists   \n",
       "3       New Ashok Nagar, Delhi          Ayurveda   \n",
       "4    Kanakpura Road, Bangalore           Dentist   \n",
       "\n",
       "                                  Miscellaneous_Info num_rating  \n",
       "0                                                NaN         10  \n",
       "1                                                NaN         10  \n",
       "2                   70% 4 Feedback KK Nagar, Chennai          0  \n",
       "3                                                NaN          0  \n",
       "4  General Dentistry Conservative Dentistry Cosme...         10  "
      ]
     },
     "execution_count": 19,
     "metadata": {},
     "output_type": "execute_result"
    }
   ],
   "source": [
    "#Lets confirm the drop step in test data\n",
    "dfte.head()"
   ]
  },
  {
   "cell_type": "code",
   "execution_count": 20,
   "metadata": {},
   "outputs": [],
   "source": [
    "#Lets now extract numeric data from experience\n",
    "new = dftr['Experience'].str.split(' ',expand=True)\n",
    "new1 = dftr['Experience'].str.split(' ',expand=True)"
   ]
  },
  {
   "cell_type": "code",
   "execution_count": 21,
   "metadata": {},
   "outputs": [],
   "source": [
    "#Lets convert them into integer\n",
    "dftr['Exp'] =new[0].astype('int64')\n",
    "dfte['Exp'] =new1[0].astype('int64')"
   ]
  },
  {
   "cell_type": "code",
   "execution_count": 22,
   "metadata": {},
   "outputs": [
    {
     "name": "stdout",
     "output_type": "stream",
     "text": [
      "int64\n",
      "int64\n"
     ]
    }
   ],
   "source": [
    "#Lets check the datatype of exp\n",
    "print (dftr['Exp'].dtypes)\n",
    "print(dfte['Exp'].dtypes)"
   ]
  },
  {
   "cell_type": "code",
   "execution_count": 23,
   "metadata": {
    "scrolled": true
   },
   "outputs": [
    {
     "data": {
      "text/html": [
       "<div>\n",
       "<style scoped>\n",
       "    .dataframe tbody tr th:only-of-type {\n",
       "        vertical-align: middle;\n",
       "    }\n",
       "\n",
       "    .dataframe tbody tr th {\n",
       "        vertical-align: top;\n",
       "    }\n",
       "\n",
       "    .dataframe thead th {\n",
       "        text-align: right;\n",
       "    }\n",
       "</style>\n",
       "<table border=\"1\" class=\"dataframe\">\n",
       "  <thead>\n",
       "    <tr style=\"text-align: right;\">\n",
       "      <th></th>\n",
       "      <th>Qualification</th>\n",
       "      <th>Experience</th>\n",
       "      <th>Place</th>\n",
       "      <th>Profile</th>\n",
       "      <th>Miscellaneous_Info</th>\n",
       "      <th>Fees</th>\n",
       "      <th>num_rating</th>\n",
       "      <th>Exp</th>\n",
       "    </tr>\n",
       "  </thead>\n",
       "  <tbody>\n",
       "    <tr>\n",
       "      <th>0</th>\n",
       "      <td>BHMS, MD - Homeopathy</td>\n",
       "      <td>24 years experience</td>\n",
       "      <td>Kakkanad, Ernakulam</td>\n",
       "      <td>Homeopath</td>\n",
       "      <td>100% 16 Feedback Kakkanad, Ernakulam</td>\n",
       "      <td>100</td>\n",
       "      <td>10</td>\n",
       "      <td>24</td>\n",
       "    </tr>\n",
       "    <tr>\n",
       "      <th>1</th>\n",
       "      <td>BAMS, MD - Ayurveda Medicine</td>\n",
       "      <td>12 years experience</td>\n",
       "      <td>Whitefield, Bangalore</td>\n",
       "      <td>Ayurveda</td>\n",
       "      <td>98% 76 Feedback Whitefield, Bangalore</td>\n",
       "      <td>350</td>\n",
       "      <td>10</td>\n",
       "      <td>12</td>\n",
       "    </tr>\n",
       "    <tr>\n",
       "      <th>2</th>\n",
       "      <td>MBBS, MS - Otorhinolaryngology</td>\n",
       "      <td>9 years experience</td>\n",
       "      <td>Mathikere - BEL, Bangalore</td>\n",
       "      <td>ENT Specialist</td>\n",
       "      <td>NaN</td>\n",
       "      <td>300</td>\n",
       "      <td>0</td>\n",
       "      <td>9</td>\n",
       "    </tr>\n",
       "    <tr>\n",
       "      <th>3</th>\n",
       "      <td>BSc - Zoology, BAMS</td>\n",
       "      <td>12 years experience</td>\n",
       "      <td>Bannerghatta Road, Bangalore</td>\n",
       "      <td>Ayurveda</td>\n",
       "      <td>Bannerghatta Road, Bangalore ₹250 Available on...</td>\n",
       "      <td>250</td>\n",
       "      <td>0</td>\n",
       "      <td>12</td>\n",
       "    </tr>\n",
       "    <tr>\n",
       "      <th>4</th>\n",
       "      <td>BAMS</td>\n",
       "      <td>20 years experience</td>\n",
       "      <td>Keelkattalai, Chennai</td>\n",
       "      <td>Ayurveda</td>\n",
       "      <td>100% 4 Feedback Keelkattalai, Chennai</td>\n",
       "      <td>250</td>\n",
       "      <td>10</td>\n",
       "      <td>20</td>\n",
       "    </tr>\n",
       "  </tbody>\n",
       "</table>\n",
       "</div>"
      ],
      "text/plain": [
       "                    Qualification           Experience  \\\n",
       "0           BHMS, MD - Homeopathy  24 years experience   \n",
       "1    BAMS, MD - Ayurveda Medicine  12 years experience   \n",
       "2  MBBS, MS - Otorhinolaryngology   9 years experience   \n",
       "3             BSc - Zoology, BAMS  12 years experience   \n",
       "4                            BAMS  20 years experience   \n",
       "\n",
       "                          Place         Profile  \\\n",
       "0           Kakkanad, Ernakulam       Homeopath   \n",
       "1         Whitefield, Bangalore        Ayurveda   \n",
       "2    Mathikere - BEL, Bangalore  ENT Specialist   \n",
       "3  Bannerghatta Road, Bangalore        Ayurveda   \n",
       "4         Keelkattalai, Chennai        Ayurveda   \n",
       "\n",
       "                                  Miscellaneous_Info  Fees num_rating  Exp  \n",
       "0               100% 16 Feedback Kakkanad, Ernakulam   100         10   24  \n",
       "1              98% 76 Feedback Whitefield, Bangalore   350         10   12  \n",
       "2                                                NaN   300          0    9  \n",
       "3  Bannerghatta Road, Bangalore ₹250 Available on...   250          0   12  \n",
       "4              100% 4 Feedback Keelkattalai, Chennai   250         10   20  "
      ]
     },
     "execution_count": 23,
     "metadata": {},
     "output_type": "execute_result"
    }
   ],
   "source": [
    "#Lets check the first 5 rows again of training data\n",
    "dftr.head()"
   ]
  },
  {
   "cell_type": "code",
   "execution_count": 24,
   "metadata": {},
   "outputs": [
    {
     "data": {
      "text/html": [
       "<div>\n",
       "<style scoped>\n",
       "    .dataframe tbody tr th:only-of-type {\n",
       "        vertical-align: middle;\n",
       "    }\n",
       "\n",
       "    .dataframe tbody tr th {\n",
       "        vertical-align: top;\n",
       "    }\n",
       "\n",
       "    .dataframe thead th {\n",
       "        text-align: right;\n",
       "    }\n",
       "</style>\n",
       "<table border=\"1\" class=\"dataframe\">\n",
       "  <thead>\n",
       "    <tr style=\"text-align: right;\">\n",
       "      <th></th>\n",
       "      <th>Qualification</th>\n",
       "      <th>Experience</th>\n",
       "      <th>Place</th>\n",
       "      <th>Profile</th>\n",
       "      <th>Miscellaneous_Info</th>\n",
       "      <th>num_rating</th>\n",
       "      <th>Exp</th>\n",
       "    </tr>\n",
       "  </thead>\n",
       "  <tbody>\n",
       "    <tr>\n",
       "      <th>0</th>\n",
       "      <td>MBBS</td>\n",
       "      <td>35 years experience</td>\n",
       "      <td>Ghatkopar East, Mumbai</td>\n",
       "      <td>General Medicine</td>\n",
       "      <td>NaN</td>\n",
       "      <td>10</td>\n",
       "      <td>24</td>\n",
       "    </tr>\n",
       "    <tr>\n",
       "      <th>1</th>\n",
       "      <td>MBBS, Diploma in Otorhinolaryngology (DLO)</td>\n",
       "      <td>31 years experience</td>\n",
       "      <td>West Marredpally, Hyderabad</td>\n",
       "      <td>ENT Specialist</td>\n",
       "      <td>NaN</td>\n",
       "      <td>10</td>\n",
       "      <td>12</td>\n",
       "    </tr>\n",
       "    <tr>\n",
       "      <th>2</th>\n",
       "      <td>MBBS, DDVL</td>\n",
       "      <td>40 years experience</td>\n",
       "      <td>KK Nagar, Chennai</td>\n",
       "      <td>Dermatologists</td>\n",
       "      <td>70% 4 Feedback KK Nagar, Chennai</td>\n",
       "      <td>0</td>\n",
       "      <td>9</td>\n",
       "    </tr>\n",
       "    <tr>\n",
       "      <th>3</th>\n",
       "      <td>BAMS</td>\n",
       "      <td>0 years experience</td>\n",
       "      <td>New Ashok Nagar, Delhi</td>\n",
       "      <td>Ayurveda</td>\n",
       "      <td>NaN</td>\n",
       "      <td>0</td>\n",
       "      <td>12</td>\n",
       "    </tr>\n",
       "    <tr>\n",
       "      <th>4</th>\n",
       "      <td>BDS, MDS - Conservative Dentistry &amp; Endodontics</td>\n",
       "      <td>16 years experience</td>\n",
       "      <td>Kanakpura Road, Bangalore</td>\n",
       "      <td>Dentist</td>\n",
       "      <td>General Dentistry Conservative Dentistry Cosme...</td>\n",
       "      <td>10</td>\n",
       "      <td>20</td>\n",
       "    </tr>\n",
       "  </tbody>\n",
       "</table>\n",
       "</div>"
      ],
      "text/plain": [
       "                                     Qualification           Experience  \\\n",
       "0                                             MBBS  35 years experience   \n",
       "1       MBBS, Diploma in Otorhinolaryngology (DLO)  31 years experience   \n",
       "2                                       MBBS, DDVL  40 years experience   \n",
       "3                                             BAMS   0 years experience   \n",
       "4  BDS, MDS - Conservative Dentistry & Endodontics  16 years experience   \n",
       "\n",
       "                         Place           Profile  \\\n",
       "0       Ghatkopar East, Mumbai  General Medicine   \n",
       "1  West Marredpally, Hyderabad    ENT Specialist   \n",
       "2            KK Nagar, Chennai    Dermatologists   \n",
       "3       New Ashok Nagar, Delhi          Ayurveda   \n",
       "4    Kanakpura Road, Bangalore           Dentist   \n",
       "\n",
       "                                  Miscellaneous_Info num_rating  Exp  \n",
       "0                                                NaN         10   24  \n",
       "1                                                NaN         10   12  \n",
       "2                   70% 4 Feedback KK Nagar, Chennai          0    9  \n",
       "3                                                NaN          0   12  \n",
       "4  General Dentistry Conservative Dentistry Cosme...         10   20  "
      ]
     },
     "execution_count": 24,
     "metadata": {},
     "output_type": "execute_result"
    }
   ],
   "source": [
    "#Lets check the first 5 rows again of test data\n",
    "dfte.head()"
   ]
  },
  {
   "cell_type": "code",
   "execution_count": 25,
   "metadata": {},
   "outputs": [],
   "source": [
    "#As the information from experience has been extracted into exp column, lets drop it\n",
    "dftr.drop('Experience',axis=1,inplace=True)\n",
    "dfte.drop('Experience',axis=1,inplace=True)"
   ]
  },
  {
   "cell_type": "code",
   "execution_count": 26,
   "metadata": {},
   "outputs": [
    {
     "data": {
      "text/html": [
       "<div>\n",
       "<style scoped>\n",
       "    .dataframe tbody tr th:only-of-type {\n",
       "        vertical-align: middle;\n",
       "    }\n",
       "\n",
       "    .dataframe tbody tr th {\n",
       "        vertical-align: top;\n",
       "    }\n",
       "\n",
       "    .dataframe thead th {\n",
       "        text-align: right;\n",
       "    }\n",
       "</style>\n",
       "<table border=\"1\" class=\"dataframe\">\n",
       "  <thead>\n",
       "    <tr style=\"text-align: right;\">\n",
       "      <th></th>\n",
       "      <th>Qualification</th>\n",
       "      <th>Place</th>\n",
       "      <th>Profile</th>\n",
       "      <th>Miscellaneous_Info</th>\n",
       "      <th>Fees</th>\n",
       "      <th>num_rating</th>\n",
       "      <th>Exp</th>\n",
       "    </tr>\n",
       "  </thead>\n",
       "  <tbody>\n",
       "    <tr>\n",
       "      <th>0</th>\n",
       "      <td>BHMS, MD - Homeopathy</td>\n",
       "      <td>Kakkanad, Ernakulam</td>\n",
       "      <td>Homeopath</td>\n",
       "      <td>100% 16 Feedback Kakkanad, Ernakulam</td>\n",
       "      <td>100</td>\n",
       "      <td>10</td>\n",
       "      <td>24</td>\n",
       "    </tr>\n",
       "    <tr>\n",
       "      <th>1</th>\n",
       "      <td>BAMS, MD - Ayurveda Medicine</td>\n",
       "      <td>Whitefield, Bangalore</td>\n",
       "      <td>Ayurveda</td>\n",
       "      <td>98% 76 Feedback Whitefield, Bangalore</td>\n",
       "      <td>350</td>\n",
       "      <td>10</td>\n",
       "      <td>12</td>\n",
       "    </tr>\n",
       "    <tr>\n",
       "      <th>2</th>\n",
       "      <td>MBBS, MS - Otorhinolaryngology</td>\n",
       "      <td>Mathikere - BEL, Bangalore</td>\n",
       "      <td>ENT Specialist</td>\n",
       "      <td>NaN</td>\n",
       "      <td>300</td>\n",
       "      <td>0</td>\n",
       "      <td>9</td>\n",
       "    </tr>\n",
       "    <tr>\n",
       "      <th>3</th>\n",
       "      <td>BSc - Zoology, BAMS</td>\n",
       "      <td>Bannerghatta Road, Bangalore</td>\n",
       "      <td>Ayurveda</td>\n",
       "      <td>Bannerghatta Road, Bangalore ₹250 Available on...</td>\n",
       "      <td>250</td>\n",
       "      <td>0</td>\n",
       "      <td>12</td>\n",
       "    </tr>\n",
       "    <tr>\n",
       "      <th>4</th>\n",
       "      <td>BAMS</td>\n",
       "      <td>Keelkattalai, Chennai</td>\n",
       "      <td>Ayurveda</td>\n",
       "      <td>100% 4 Feedback Keelkattalai, Chennai</td>\n",
       "      <td>250</td>\n",
       "      <td>10</td>\n",
       "      <td>20</td>\n",
       "    </tr>\n",
       "  </tbody>\n",
       "</table>\n",
       "</div>"
      ],
      "text/plain": [
       "                    Qualification                         Place  \\\n",
       "0           BHMS, MD - Homeopathy           Kakkanad, Ernakulam   \n",
       "1    BAMS, MD - Ayurveda Medicine         Whitefield, Bangalore   \n",
       "2  MBBS, MS - Otorhinolaryngology    Mathikere - BEL, Bangalore   \n",
       "3             BSc - Zoology, BAMS  Bannerghatta Road, Bangalore   \n",
       "4                            BAMS         Keelkattalai, Chennai   \n",
       "\n",
       "          Profile                                 Miscellaneous_Info  Fees  \\\n",
       "0       Homeopath               100% 16 Feedback Kakkanad, Ernakulam   100   \n",
       "1        Ayurveda              98% 76 Feedback Whitefield, Bangalore   350   \n",
       "2  ENT Specialist                                                NaN   300   \n",
       "3        Ayurveda  Bannerghatta Road, Bangalore ₹250 Available on...   250   \n",
       "4        Ayurveda              100% 4 Feedback Keelkattalai, Chennai   250   \n",
       "\n",
       "  num_rating  Exp  \n",
       "0         10   24  \n",
       "1         10   12  \n",
       "2          0    9  \n",
       "3          0   12  \n",
       "4         10   20  "
      ]
     },
     "execution_count": 26,
     "metadata": {},
     "output_type": "execute_result"
    }
   ],
   "source": [
    "#Lets confirm the drop of experience column in train data\n",
    "dftr.head()"
   ]
  },
  {
   "cell_type": "code",
   "execution_count": 27,
   "metadata": {},
   "outputs": [
    {
     "data": {
      "text/html": [
       "<div>\n",
       "<style scoped>\n",
       "    .dataframe tbody tr th:only-of-type {\n",
       "        vertical-align: middle;\n",
       "    }\n",
       "\n",
       "    .dataframe tbody tr th {\n",
       "        vertical-align: top;\n",
       "    }\n",
       "\n",
       "    .dataframe thead th {\n",
       "        text-align: right;\n",
       "    }\n",
       "</style>\n",
       "<table border=\"1\" class=\"dataframe\">\n",
       "  <thead>\n",
       "    <tr style=\"text-align: right;\">\n",
       "      <th></th>\n",
       "      <th>Qualification</th>\n",
       "      <th>Place</th>\n",
       "      <th>Profile</th>\n",
       "      <th>Miscellaneous_Info</th>\n",
       "      <th>num_rating</th>\n",
       "      <th>Exp</th>\n",
       "    </tr>\n",
       "  </thead>\n",
       "  <tbody>\n",
       "    <tr>\n",
       "      <th>0</th>\n",
       "      <td>MBBS</td>\n",
       "      <td>Ghatkopar East, Mumbai</td>\n",
       "      <td>General Medicine</td>\n",
       "      <td>NaN</td>\n",
       "      <td>10</td>\n",
       "      <td>24</td>\n",
       "    </tr>\n",
       "    <tr>\n",
       "      <th>1</th>\n",
       "      <td>MBBS, Diploma in Otorhinolaryngology (DLO)</td>\n",
       "      <td>West Marredpally, Hyderabad</td>\n",
       "      <td>ENT Specialist</td>\n",
       "      <td>NaN</td>\n",
       "      <td>10</td>\n",
       "      <td>12</td>\n",
       "    </tr>\n",
       "    <tr>\n",
       "      <th>2</th>\n",
       "      <td>MBBS, DDVL</td>\n",
       "      <td>KK Nagar, Chennai</td>\n",
       "      <td>Dermatologists</td>\n",
       "      <td>70% 4 Feedback KK Nagar, Chennai</td>\n",
       "      <td>0</td>\n",
       "      <td>9</td>\n",
       "    </tr>\n",
       "    <tr>\n",
       "      <th>3</th>\n",
       "      <td>BAMS</td>\n",
       "      <td>New Ashok Nagar, Delhi</td>\n",
       "      <td>Ayurveda</td>\n",
       "      <td>NaN</td>\n",
       "      <td>0</td>\n",
       "      <td>12</td>\n",
       "    </tr>\n",
       "    <tr>\n",
       "      <th>4</th>\n",
       "      <td>BDS, MDS - Conservative Dentistry &amp; Endodontics</td>\n",
       "      <td>Kanakpura Road, Bangalore</td>\n",
       "      <td>Dentist</td>\n",
       "      <td>General Dentistry Conservative Dentistry Cosme...</td>\n",
       "      <td>10</td>\n",
       "      <td>20</td>\n",
       "    </tr>\n",
       "  </tbody>\n",
       "</table>\n",
       "</div>"
      ],
      "text/plain": [
       "                                     Qualification  \\\n",
       "0                                             MBBS   \n",
       "1       MBBS, Diploma in Otorhinolaryngology (DLO)   \n",
       "2                                       MBBS, DDVL   \n",
       "3                                             BAMS   \n",
       "4  BDS, MDS - Conservative Dentistry & Endodontics   \n",
       "\n",
       "                         Place           Profile  \\\n",
       "0       Ghatkopar East, Mumbai  General Medicine   \n",
       "1  West Marredpally, Hyderabad    ENT Specialist   \n",
       "2            KK Nagar, Chennai    Dermatologists   \n",
       "3       New Ashok Nagar, Delhi          Ayurveda   \n",
       "4    Kanakpura Road, Bangalore           Dentist   \n",
       "\n",
       "                                  Miscellaneous_Info num_rating  Exp  \n",
       "0                                                NaN         10   24  \n",
       "1                                                NaN         10   12  \n",
       "2                   70% 4 Feedback KK Nagar, Chennai          0    9  \n",
       "3                                                NaN          0   12  \n",
       "4  General Dentistry Conservative Dentistry Cosme...         10   20  "
      ]
     },
     "execution_count": 27,
     "metadata": {},
     "output_type": "execute_result"
    }
   ],
   "source": [
    "#Lets confirm the drop of experience column in test data\n",
    "dfte.head()"
   ]
  },
  {
   "cell_type": "code",
   "execution_count": 28,
   "metadata": {},
   "outputs": [],
   "source": [
    "#If we see the Miscellaneous_Info  properly, it contains rating,number of ,feedbacks, fee, locality and City\n",
    "#The info regarding rating,fee,locality and city are already available in other columns\n",
    "#Only one info regarding the number of feedbacks is not available elsewhere, we can extract that \n",
    "#But the data is not in a proper format\n",
    "# so lets drop the column Miscellaneous infor\n",
    "dftr.drop('Miscellaneous_Info',axis=1,inplace=True)\n",
    "dfte.drop('Miscellaneous_Info',axis=1,inplace=True)"
   ]
  },
  {
   "cell_type": "code",
   "execution_count": 29,
   "metadata": {},
   "outputs": [
    {
     "data": {
      "text/plain": [
       "Qualification     0\n",
       "Place            25\n",
       "Profile           0\n",
       "Fees              0\n",
       "num_rating        0\n",
       "Exp               0\n",
       "dtype: int64"
      ]
     },
     "execution_count": 29,
     "metadata": {},
     "output_type": "execute_result"
    }
   ],
   "source": [
    "#Lets check the missing values in train data now\n",
    "dftr.isnull().sum()"
   ]
  },
  {
   "cell_type": "code",
   "execution_count": 30,
   "metadata": {},
   "outputs": [
    {
     "data": {
      "text/plain": [
       "Qualification    0\n",
       "Place            6\n",
       "Profile          0\n",
       "num_rating       0\n",
       "Exp              0\n",
       "dtype: int64"
      ]
     },
     "execution_count": 30,
     "metadata": {},
     "output_type": "execute_result"
    }
   ],
   "source": [
    "#Lets check the missing values in test data\n",
    "dfte.isnull().sum()"
   ]
  },
  {
   "cell_type": "code",
   "execution_count": 31,
   "metadata": {},
   "outputs": [],
   "source": [
    "#lETS DEAL WITH THE MISSING VALUE IN PLACE COLUMN\n",
    "# WE CAN REPLACE THE MISSING VALUES WITH MODE OF THE DATA BUT HERE DIFFERENT PLACE MAY BE THERE IN DIFFERENT CITY\n",
    "# AS THE PLACE AND LOCALITY ARE NOT KNOWN WITH UNKNOWN\n",
    "dftr['Place'].fillna('Unknown,Unknown',inplace=True)\n",
    "dfte['Place'].fillna('Unknown,Unknown',inplace=True)"
   ]
  },
  {
   "cell_type": "code",
   "execution_count": 32,
   "metadata": {},
   "outputs": [],
   "source": [
    "#Lets extract the locality and city info from Place column\n",
    "plc = dftr['Place'].str.split(',',expand=True)\n",
    "plc1 =dfte['Place'].str.split(',',expand=True)"
   ]
  },
  {
   "cell_type": "code",
   "execution_count": 33,
   "metadata": {},
   "outputs": [],
   "source": [
    "#Lets create localtiy and city colums\n",
    "dftr['Locality'] =plc[0]\n",
    "dftr['city']=plc[1]\n",
    "dfte['Locality'] =plc1[0]\n",
    "dfte['city']=plc1[1]"
   ]
  },
  {
   "cell_type": "code",
   "execution_count": 34,
   "metadata": {
    "scrolled": true
   },
   "outputs": [
    {
     "data": {
      "text/plain": [
       "Qualification    0\n",
       "Place            0\n",
       "Profile          0\n",
       "Fees             0\n",
       "num_rating       0\n",
       "Exp              0\n",
       "Locality         0\n",
       "city             1\n",
       "dtype: int64"
      ]
     },
     "execution_count": 34,
     "metadata": {},
     "output_type": "execute_result"
    }
   ],
   "source": [
    "#Lets check if there is  missing values in train data\n",
    "dftr.isnull().sum()"
   ]
  },
  {
   "cell_type": "code",
   "execution_count": 35,
   "metadata": {},
   "outputs": [],
   "source": [
    "#There is only one row which is null\n",
    "#Lets drop this\n",
    "dftr.dropna(inplace=True)"
   ]
  },
  {
   "cell_type": "code",
   "execution_count": 36,
   "metadata": {},
   "outputs": [
    {
     "data": {
      "text/plain": [
       "Qualification    0\n",
       "Place            0\n",
       "Profile          0\n",
       "Fees             0\n",
       "num_rating       0\n",
       "Exp              0\n",
       "Locality         0\n",
       "city             0\n",
       "dtype: int64"
      ]
     },
     "execution_count": 36,
     "metadata": {},
     "output_type": "execute_result"
    }
   ],
   "source": [
    "#Lets check again the missing value\n",
    "dftr.isnull().sum()"
   ]
  },
  {
   "cell_type": "code",
   "execution_count": 37,
   "metadata": {},
   "outputs": [
    {
     "data": {
      "text/plain": [
       "Qualification    0\n",
       "Place            0\n",
       "Profile          0\n",
       "num_rating       0\n",
       "Exp              0\n",
       "Locality         0\n",
       "city             0\n",
       "dtype: int64"
      ]
     },
     "execution_count": 37,
     "metadata": {},
     "output_type": "execute_result"
    }
   ],
   "source": [
    "##Lets check if there is  missing values in test data\n",
    "dfte.isnull().sum()"
   ]
  },
  {
   "cell_type": "code",
   "execution_count": 38,
   "metadata": {},
   "outputs": [],
   "source": [
    "#As the locality and city information has been extracted from place column, lets drop it\n",
    "dftr.drop('Place',axis=1,inplace=True)\n",
    "dfte.drop('Place',axis=1,inplace=True)"
   ]
  },
  {
   "cell_type": "code",
   "execution_count": 39,
   "metadata": {},
   "outputs": [
    {
     "data": {
      "text/html": [
       "<div>\n",
       "<style scoped>\n",
       "    .dataframe tbody tr th:only-of-type {\n",
       "        vertical-align: middle;\n",
       "    }\n",
       "\n",
       "    .dataframe tbody tr th {\n",
       "        vertical-align: top;\n",
       "    }\n",
       "\n",
       "    .dataframe thead th {\n",
       "        text-align: right;\n",
       "    }\n",
       "</style>\n",
       "<table border=\"1\" class=\"dataframe\">\n",
       "  <thead>\n",
       "    <tr style=\"text-align: right;\">\n",
       "      <th></th>\n",
       "      <th>Qualification</th>\n",
       "      <th>Profile</th>\n",
       "      <th>Fees</th>\n",
       "      <th>num_rating</th>\n",
       "      <th>Exp</th>\n",
       "      <th>Locality</th>\n",
       "      <th>city</th>\n",
       "    </tr>\n",
       "  </thead>\n",
       "  <tbody>\n",
       "    <tr>\n",
       "      <th>0</th>\n",
       "      <td>BHMS, MD - Homeopathy</td>\n",
       "      <td>Homeopath</td>\n",
       "      <td>100</td>\n",
       "      <td>10</td>\n",
       "      <td>24</td>\n",
       "      <td>Kakkanad</td>\n",
       "      <td>Ernakulam</td>\n",
       "    </tr>\n",
       "    <tr>\n",
       "      <th>1</th>\n",
       "      <td>BAMS, MD - Ayurveda Medicine</td>\n",
       "      <td>Ayurveda</td>\n",
       "      <td>350</td>\n",
       "      <td>10</td>\n",
       "      <td>12</td>\n",
       "      <td>Whitefield</td>\n",
       "      <td>Bangalore</td>\n",
       "    </tr>\n",
       "    <tr>\n",
       "      <th>2</th>\n",
       "      <td>MBBS, MS - Otorhinolaryngology</td>\n",
       "      <td>ENT Specialist</td>\n",
       "      <td>300</td>\n",
       "      <td>0</td>\n",
       "      <td>9</td>\n",
       "      <td>Mathikere - BEL</td>\n",
       "      <td>Bangalore</td>\n",
       "    </tr>\n",
       "    <tr>\n",
       "      <th>3</th>\n",
       "      <td>BSc - Zoology, BAMS</td>\n",
       "      <td>Ayurveda</td>\n",
       "      <td>250</td>\n",
       "      <td>0</td>\n",
       "      <td>12</td>\n",
       "      <td>Bannerghatta Road</td>\n",
       "      <td>Bangalore</td>\n",
       "    </tr>\n",
       "    <tr>\n",
       "      <th>4</th>\n",
       "      <td>BAMS</td>\n",
       "      <td>Ayurveda</td>\n",
       "      <td>250</td>\n",
       "      <td>10</td>\n",
       "      <td>20</td>\n",
       "      <td>Keelkattalai</td>\n",
       "      <td>Chennai</td>\n",
       "    </tr>\n",
       "  </tbody>\n",
       "</table>\n",
       "</div>"
      ],
      "text/plain": [
       "                    Qualification         Profile  Fees num_rating  Exp  \\\n",
       "0           BHMS, MD - Homeopathy       Homeopath   100         10   24   \n",
       "1    BAMS, MD - Ayurveda Medicine        Ayurveda   350         10   12   \n",
       "2  MBBS, MS - Otorhinolaryngology  ENT Specialist   300          0    9   \n",
       "3             BSc - Zoology, BAMS        Ayurveda   250          0   12   \n",
       "4                            BAMS        Ayurveda   250         10   20   \n",
       "\n",
       "            Locality        city  \n",
       "0           Kakkanad   Ernakulam  \n",
       "1         Whitefield   Bangalore  \n",
       "2    Mathikere - BEL   Bangalore  \n",
       "3  Bannerghatta Road   Bangalore  \n",
       "4       Keelkattalai     Chennai  "
      ]
     },
     "execution_count": 39,
     "metadata": {},
     "output_type": "execute_result"
    }
   ],
   "source": [
    "#Lets check the head again of train data\n",
    "dftr.head()"
   ]
  },
  {
   "cell_type": "code",
   "execution_count": 40,
   "metadata": {},
   "outputs": [
    {
     "data": {
      "text/html": [
       "<div>\n",
       "<style scoped>\n",
       "    .dataframe tbody tr th:only-of-type {\n",
       "        vertical-align: middle;\n",
       "    }\n",
       "\n",
       "    .dataframe tbody tr th {\n",
       "        vertical-align: top;\n",
       "    }\n",
       "\n",
       "    .dataframe thead th {\n",
       "        text-align: right;\n",
       "    }\n",
       "</style>\n",
       "<table border=\"1\" class=\"dataframe\">\n",
       "  <thead>\n",
       "    <tr style=\"text-align: right;\">\n",
       "      <th></th>\n",
       "      <th>Qualification</th>\n",
       "      <th>Profile</th>\n",
       "      <th>num_rating</th>\n",
       "      <th>Exp</th>\n",
       "      <th>Locality</th>\n",
       "      <th>city</th>\n",
       "    </tr>\n",
       "  </thead>\n",
       "  <tbody>\n",
       "    <tr>\n",
       "      <th>0</th>\n",
       "      <td>MBBS</td>\n",
       "      <td>General Medicine</td>\n",
       "      <td>10</td>\n",
       "      <td>24</td>\n",
       "      <td>Ghatkopar East</td>\n",
       "      <td>Mumbai</td>\n",
       "    </tr>\n",
       "    <tr>\n",
       "      <th>1</th>\n",
       "      <td>MBBS, Diploma in Otorhinolaryngology (DLO)</td>\n",
       "      <td>ENT Specialist</td>\n",
       "      <td>10</td>\n",
       "      <td>12</td>\n",
       "      <td>West Marredpally</td>\n",
       "      <td>Hyderabad</td>\n",
       "    </tr>\n",
       "    <tr>\n",
       "      <th>2</th>\n",
       "      <td>MBBS, DDVL</td>\n",
       "      <td>Dermatologists</td>\n",
       "      <td>0</td>\n",
       "      <td>9</td>\n",
       "      <td>KK Nagar</td>\n",
       "      <td>Chennai</td>\n",
       "    </tr>\n",
       "    <tr>\n",
       "      <th>3</th>\n",
       "      <td>BAMS</td>\n",
       "      <td>Ayurveda</td>\n",
       "      <td>0</td>\n",
       "      <td>12</td>\n",
       "      <td>New Ashok Nagar</td>\n",
       "      <td>Delhi</td>\n",
       "    </tr>\n",
       "    <tr>\n",
       "      <th>4</th>\n",
       "      <td>BDS, MDS - Conservative Dentistry &amp; Endodontics</td>\n",
       "      <td>Dentist</td>\n",
       "      <td>10</td>\n",
       "      <td>20</td>\n",
       "      <td>Kanakpura Road</td>\n",
       "      <td>Bangalore</td>\n",
       "    </tr>\n",
       "  </tbody>\n",
       "</table>\n",
       "</div>"
      ],
      "text/plain": [
       "                                     Qualification           Profile  \\\n",
       "0                                             MBBS  General Medicine   \n",
       "1       MBBS, Diploma in Otorhinolaryngology (DLO)    ENT Specialist   \n",
       "2                                       MBBS, DDVL    Dermatologists   \n",
       "3                                             BAMS          Ayurveda   \n",
       "4  BDS, MDS - Conservative Dentistry & Endodontics           Dentist   \n",
       "\n",
       "  num_rating  Exp          Locality        city  \n",
       "0         10   24    Ghatkopar East      Mumbai  \n",
       "1         10   12  West Marredpally   Hyderabad  \n",
       "2          0    9          KK Nagar     Chennai  \n",
       "3          0   12   New Ashok Nagar       Delhi  \n",
       "4         10   20    Kanakpura Road   Bangalore  "
      ]
     },
     "execution_count": 40,
     "metadata": {},
     "output_type": "execute_result"
    }
   ],
   "source": [
    "#Lets check the head again of test data\n",
    "dfte.head()"
   ]
  },
  {
   "cell_type": "code",
   "execution_count": 41,
   "metadata": {},
   "outputs": [
    {
     "data": {
      "text/plain": [
       "1420"
      ]
     },
     "execution_count": 41,
     "metadata": {},
     "output_type": "execute_result"
    }
   ],
   "source": [
    "#LETS EXPLORE THE QUALIFICATION COLUMN\n",
    "dftr['Qualification'].nunique()"
   ]
  },
  {
   "cell_type": "code",
   "execution_count": 42,
   "metadata": {},
   "outputs": [],
   "source": [
    "#Lets extract the information from qualification column \n",
    "qual = dftr['Qualification'].str.split(',')\n",
    "qual1=dfte['Qualification'].str.split(',')"
   ]
  },
  {
   "cell_type": "code",
   "execution_count": 43,
   "metadata": {},
   "outputs": [],
   "source": [
    "#Lets extract the number of qualification of each doctor\n",
    "dftr['No.of Qual']=qual.apply(lambda x:len(x))\n",
    "dfte['No.of Qual']=qual1.apply(lambda x:len(x))"
   ]
  },
  {
   "cell_type": "code",
   "execution_count": 44,
   "metadata": {},
   "outputs": [
    {
     "data": {
      "text/html": [
       "<div>\n",
       "<style scoped>\n",
       "    .dataframe tbody tr th:only-of-type {\n",
       "        vertical-align: middle;\n",
       "    }\n",
       "\n",
       "    .dataframe tbody tr th {\n",
       "        vertical-align: top;\n",
       "    }\n",
       "\n",
       "    .dataframe thead th {\n",
       "        text-align: right;\n",
       "    }\n",
       "</style>\n",
       "<table border=\"1\" class=\"dataframe\">\n",
       "  <thead>\n",
       "    <tr style=\"text-align: right;\">\n",
       "      <th></th>\n",
       "      <th>Qualification</th>\n",
       "      <th>Profile</th>\n",
       "      <th>Fees</th>\n",
       "      <th>num_rating</th>\n",
       "      <th>Exp</th>\n",
       "      <th>Locality</th>\n",
       "      <th>city</th>\n",
       "      <th>No.of Qual</th>\n",
       "    </tr>\n",
       "  </thead>\n",
       "  <tbody>\n",
       "    <tr>\n",
       "      <th>0</th>\n",
       "      <td>BHMS, MD - Homeopathy</td>\n",
       "      <td>Homeopath</td>\n",
       "      <td>100</td>\n",
       "      <td>10</td>\n",
       "      <td>24</td>\n",
       "      <td>Kakkanad</td>\n",
       "      <td>Ernakulam</td>\n",
       "      <td>2</td>\n",
       "    </tr>\n",
       "    <tr>\n",
       "      <th>1</th>\n",
       "      <td>BAMS, MD - Ayurveda Medicine</td>\n",
       "      <td>Ayurveda</td>\n",
       "      <td>350</td>\n",
       "      <td>10</td>\n",
       "      <td>12</td>\n",
       "      <td>Whitefield</td>\n",
       "      <td>Bangalore</td>\n",
       "      <td>2</td>\n",
       "    </tr>\n",
       "    <tr>\n",
       "      <th>2</th>\n",
       "      <td>MBBS, MS - Otorhinolaryngology</td>\n",
       "      <td>ENT Specialist</td>\n",
       "      <td>300</td>\n",
       "      <td>0</td>\n",
       "      <td>9</td>\n",
       "      <td>Mathikere - BEL</td>\n",
       "      <td>Bangalore</td>\n",
       "      <td>2</td>\n",
       "    </tr>\n",
       "    <tr>\n",
       "      <th>3</th>\n",
       "      <td>BSc - Zoology, BAMS</td>\n",
       "      <td>Ayurveda</td>\n",
       "      <td>250</td>\n",
       "      <td>0</td>\n",
       "      <td>12</td>\n",
       "      <td>Bannerghatta Road</td>\n",
       "      <td>Bangalore</td>\n",
       "      <td>2</td>\n",
       "    </tr>\n",
       "    <tr>\n",
       "      <th>4</th>\n",
       "      <td>BAMS</td>\n",
       "      <td>Ayurveda</td>\n",
       "      <td>250</td>\n",
       "      <td>10</td>\n",
       "      <td>20</td>\n",
       "      <td>Keelkattalai</td>\n",
       "      <td>Chennai</td>\n",
       "      <td>1</td>\n",
       "    </tr>\n",
       "  </tbody>\n",
       "</table>\n",
       "</div>"
      ],
      "text/plain": [
       "                    Qualification         Profile  Fees num_rating  Exp  \\\n",
       "0           BHMS, MD - Homeopathy       Homeopath   100         10   24   \n",
       "1    BAMS, MD - Ayurveda Medicine        Ayurveda   350         10   12   \n",
       "2  MBBS, MS - Otorhinolaryngology  ENT Specialist   300          0    9   \n",
       "3             BSc - Zoology, BAMS        Ayurveda   250          0   12   \n",
       "4                            BAMS        Ayurveda   250         10   20   \n",
       "\n",
       "            Locality        city  No.of Qual  \n",
       "0           Kakkanad   Ernakulam           2  \n",
       "1         Whitefield   Bangalore           2  \n",
       "2    Mathikere - BEL   Bangalore           2  \n",
       "3  Bannerghatta Road   Bangalore           2  \n",
       "4       Keelkattalai     Chennai           1  "
      ]
     },
     "execution_count": 44,
     "metadata": {},
     "output_type": "execute_result"
    }
   ],
   "source": [
    "#Lets check the first five rows\n",
    "dftr.head()"
   ]
  },
  {
   "cell_type": "code",
   "execution_count": 45,
   "metadata": {},
   "outputs": [
    {
     "data": {
      "text/html": [
       "<div>\n",
       "<style scoped>\n",
       "    .dataframe tbody tr th:only-of-type {\n",
       "        vertical-align: middle;\n",
       "    }\n",
       "\n",
       "    .dataframe tbody tr th {\n",
       "        vertical-align: top;\n",
       "    }\n",
       "\n",
       "    .dataframe thead th {\n",
       "        text-align: right;\n",
       "    }\n",
       "</style>\n",
       "<table border=\"1\" class=\"dataframe\">\n",
       "  <thead>\n",
       "    <tr style=\"text-align: right;\">\n",
       "      <th></th>\n",
       "      <th>Qualification</th>\n",
       "      <th>Profile</th>\n",
       "      <th>num_rating</th>\n",
       "      <th>Exp</th>\n",
       "      <th>Locality</th>\n",
       "      <th>city</th>\n",
       "      <th>No.of Qual</th>\n",
       "    </tr>\n",
       "  </thead>\n",
       "  <tbody>\n",
       "    <tr>\n",
       "      <th>0</th>\n",
       "      <td>MBBS</td>\n",
       "      <td>General Medicine</td>\n",
       "      <td>10</td>\n",
       "      <td>24</td>\n",
       "      <td>Ghatkopar East</td>\n",
       "      <td>Mumbai</td>\n",
       "      <td>1</td>\n",
       "    </tr>\n",
       "    <tr>\n",
       "      <th>1</th>\n",
       "      <td>MBBS, Diploma in Otorhinolaryngology (DLO)</td>\n",
       "      <td>ENT Specialist</td>\n",
       "      <td>10</td>\n",
       "      <td>12</td>\n",
       "      <td>West Marredpally</td>\n",
       "      <td>Hyderabad</td>\n",
       "      <td>2</td>\n",
       "    </tr>\n",
       "    <tr>\n",
       "      <th>2</th>\n",
       "      <td>MBBS, DDVL</td>\n",
       "      <td>Dermatologists</td>\n",
       "      <td>0</td>\n",
       "      <td>9</td>\n",
       "      <td>KK Nagar</td>\n",
       "      <td>Chennai</td>\n",
       "      <td>2</td>\n",
       "    </tr>\n",
       "    <tr>\n",
       "      <th>3</th>\n",
       "      <td>BAMS</td>\n",
       "      <td>Ayurveda</td>\n",
       "      <td>0</td>\n",
       "      <td>12</td>\n",
       "      <td>New Ashok Nagar</td>\n",
       "      <td>Delhi</td>\n",
       "      <td>1</td>\n",
       "    </tr>\n",
       "    <tr>\n",
       "      <th>4</th>\n",
       "      <td>BDS, MDS - Conservative Dentistry &amp; Endodontics</td>\n",
       "      <td>Dentist</td>\n",
       "      <td>10</td>\n",
       "      <td>20</td>\n",
       "      <td>Kanakpura Road</td>\n",
       "      <td>Bangalore</td>\n",
       "      <td>2</td>\n",
       "    </tr>\n",
       "  </tbody>\n",
       "</table>\n",
       "</div>"
      ],
      "text/plain": [
       "                                     Qualification           Profile  \\\n",
       "0                                             MBBS  General Medicine   \n",
       "1       MBBS, Diploma in Otorhinolaryngology (DLO)    ENT Specialist   \n",
       "2                                       MBBS, DDVL    Dermatologists   \n",
       "3                                             BAMS          Ayurveda   \n",
       "4  BDS, MDS - Conservative Dentistry & Endodontics           Dentist   \n",
       "\n",
       "  num_rating  Exp          Locality        city  No.of Qual  \n",
       "0         10   24    Ghatkopar East      Mumbai           1  \n",
       "1         10   12  West Marredpally   Hyderabad           2  \n",
       "2          0    9          KK Nagar     Chennai           2  \n",
       "3          0   12   New Ashok Nagar       Delhi           1  \n",
       "4         10   20    Kanakpura Road   Bangalore           2  "
      ]
     },
     "execution_count": 45,
     "metadata": {},
     "output_type": "execute_result"
    }
   ],
   "source": [
    "#Lets check the first five rows\n",
    "dfte.head()"
   ]
  },
  {
   "cell_type": "code",
   "execution_count": 46,
   "metadata": {},
   "outputs": [
    {
     "data": {
      "text/plain": [
       "<matplotlib.axes._subplots.AxesSubplot at 0x3fda14e8d0>"
      ]
     },
     "execution_count": 46,
     "metadata": {},
     "output_type": "execute_result"
    },
    {
     "data": {
      "image/png": "[encoded data removed]",
      "text/plain": [
       "<Figure size 1080x360 with 1 Axes>"
      ]
     },
     "metadata": {
      "needs_background": "light"
     },
     "output_type": "display_data"
    }
   ],
   "source": [
    "#Lets explore the relation betweeen fee and number of qualifications\n",
    "plt.figure(figsize=(15,5))\n",
    "sns.barplot(x='No.of Qual',y='Fees',data=dftr)"
   ]
  },
  {
   "cell_type": "code",
   "execution_count": 47,
   "metadata": {},
   "outputs": [],
   "source": [
    "#we can see that doctor with  only 1 qualification has lowest fee\n",
    "#The doctor with 7 qualifications has highest fee"
   ]
  },
  {
   "cell_type": "code",
   "execution_count": 48,
   "metadata": {},
   "outputs": [],
   "source": [
    "#Lets explore qualification a little more\n",
    "quali = dftr['Qualification'].str.split(\",\",expand=True)\n",
    "quali1= dfte['Qualification'].str.split(\",\",expand=True)"
   ]
  },
  {
   "cell_type": "code",
   "execution_count": 49,
   "metadata": {
    "scrolled": true
   },
   "outputs": [
    {
     "data": {
      "text/html": [
       "<div>\n",
       "<style scoped>\n",
       "    .dataframe tbody tr th:only-of-type {\n",
       "        vertical-align: middle;\n",
       "    }\n",
       "\n",
       "    .dataframe tbody tr th {\n",
       "        vertical-align: top;\n",
       "    }\n",
       "\n",
       "    .dataframe thead th {\n",
       "        text-align: right;\n",
       "    }\n",
       "</style>\n",
       "<table border=\"1\" class=\"dataframe\">\n",
       "  <thead>\n",
       "    <tr style=\"text-align: right;\">\n",
       "      <th></th>\n",
       "      <th>0</th>\n",
       "      <th>1</th>\n",
       "      <th>2</th>\n",
       "      <th>3</th>\n",
       "      <th>4</th>\n",
       "      <th>5</th>\n",
       "      <th>6</th>\n",
       "      <th>7</th>\n",
       "      <th>8</th>\n",
       "      <th>9</th>\n",
       "    </tr>\n",
       "  </thead>\n",
       "  <tbody>\n",
       "    <tr>\n",
       "      <th>0</th>\n",
       "      <td>BHMS</td>\n",
       "      <td>MD - Homeopathy</td>\n",
       "      <td>None</td>\n",
       "      <td>None</td>\n",
       "      <td>None</td>\n",
       "      <td>None</td>\n",
       "      <td>None</td>\n",
       "      <td>None</td>\n",
       "      <td>None</td>\n",
       "      <td>None</td>\n",
       "    </tr>\n",
       "    <tr>\n",
       "      <th>1</th>\n",
       "      <td>BAMS</td>\n",
       "      <td>MD - Ayurveda Medicine</td>\n",
       "      <td>None</td>\n",
       "      <td>None</td>\n",
       "      <td>None</td>\n",
       "      <td>None</td>\n",
       "      <td>None</td>\n",
       "      <td>None</td>\n",
       "      <td>None</td>\n",
       "      <td>None</td>\n",
       "    </tr>\n",
       "    <tr>\n",
       "      <th>2</th>\n",
       "      <td>MBBS</td>\n",
       "      <td>MS - Otorhinolaryngology</td>\n",
       "      <td>None</td>\n",
       "      <td>None</td>\n",
       "      <td>None</td>\n",
       "      <td>None</td>\n",
       "      <td>None</td>\n",
       "      <td>None</td>\n",
       "      <td>None</td>\n",
       "      <td>None</td>\n",
       "    </tr>\n",
       "    <tr>\n",
       "      <th>3</th>\n",
       "      <td>BSc - Zoology</td>\n",
       "      <td>BAMS</td>\n",
       "      <td>None</td>\n",
       "      <td>None</td>\n",
       "      <td>None</td>\n",
       "      <td>None</td>\n",
       "      <td>None</td>\n",
       "      <td>None</td>\n",
       "      <td>None</td>\n",
       "      <td>None</td>\n",
       "    </tr>\n",
       "    <tr>\n",
       "      <th>4</th>\n",
       "      <td>BAMS</td>\n",
       "      <td>None</td>\n",
       "      <td>None</td>\n",
       "      <td>None</td>\n",
       "      <td>None</td>\n",
       "      <td>None</td>\n",
       "      <td>None</td>\n",
       "      <td>None</td>\n",
       "      <td>None</td>\n",
       "      <td>None</td>\n",
       "    </tr>\n",
       "  </tbody>\n",
       "</table>\n",
       "</div>"
      ],
      "text/plain": [
       "               0                          1     2     3     4     5     6  \\\n",
       "0           BHMS            MD - Homeopathy  None  None  None  None  None   \n",
       "1           BAMS     MD - Ayurveda Medicine  None  None  None  None  None   \n",
       "2           MBBS   MS - Otorhinolaryngology  None  None  None  None  None   \n",
       "3  BSc - Zoology                       BAMS  None  None  None  None  None   \n",
       "4           BAMS                       None  None  None  None  None  None   \n",
       "\n",
       "      7     8     9  \n",
       "0  None  None  None  \n",
       "1  None  None  None  \n",
       "2  None  None  None  \n",
       "3  None  None  None  \n",
       "4  None  None  None  "
      ]
     },
     "execution_count": 49,
     "metadata": {},
     "output_type": "execute_result"
    }
   ],
   "source": [
    "#Lets check first five rows of qualification\n",
    "quali.head()\n",
    "#in train data doctors are having upto 10 qualifications"
   ]
  },
  {
   "cell_type": "code",
   "execution_count": 50,
   "metadata": {},
   "outputs": [
    {
     "data": {
      "text/html": [
       "<div>\n",
       "<style scoped>\n",
       "    .dataframe tbody tr th:only-of-type {\n",
       "        vertical-align: middle;\n",
       "    }\n",
       "\n",
       "    .dataframe tbody tr th {\n",
       "        vertical-align: top;\n",
       "    }\n",
       "\n",
       "    .dataframe thead th {\n",
       "        text-align: right;\n",
       "    }\n",
       "</style>\n",
       "<table border=\"1\" class=\"dataframe\">\n",
       "  <thead>\n",
       "    <tr style=\"text-align: right;\">\n",
       "      <th></th>\n",
       "      <th>0</th>\n",
       "      <th>1</th>\n",
       "      <th>2</th>\n",
       "      <th>3</th>\n",
       "      <th>4</th>\n",
       "      <th>5</th>\n",
       "      <th>6</th>\n",
       "      <th>7</th>\n",
       "      <th>8</th>\n",
       "      <th>9</th>\n",
       "      <th>10</th>\n",
       "      <th>11</th>\n",
       "      <th>12</th>\n",
       "      <th>13</th>\n",
       "      <th>14</th>\n",
       "      <th>15</th>\n",
       "      <th>16</th>\n",
       "    </tr>\n",
       "  </thead>\n",
       "  <tbody>\n",
       "    <tr>\n",
       "      <th>0</th>\n",
       "      <td>MBBS</td>\n",
       "      <td>None</td>\n",
       "      <td>None</td>\n",
       "      <td>None</td>\n",
       "      <td>None</td>\n",
       "      <td>None</td>\n",
       "      <td>None</td>\n",
       "      <td>None</td>\n",
       "      <td>None</td>\n",
       "      <td>None</td>\n",
       "      <td>None</td>\n",
       "      <td>None</td>\n",
       "      <td>None</td>\n",
       "      <td>None</td>\n",
       "      <td>None</td>\n",
       "      <td>None</td>\n",
       "      <td>None</td>\n",
       "    </tr>\n",
       "    <tr>\n",
       "      <th>1</th>\n",
       "      <td>MBBS</td>\n",
       "      <td>Diploma in Otorhinolaryngology (DLO)</td>\n",
       "      <td>None</td>\n",
       "      <td>None</td>\n",
       "      <td>None</td>\n",
       "      <td>None</td>\n",
       "      <td>None</td>\n",
       "      <td>None</td>\n",
       "      <td>None</td>\n",
       "      <td>None</td>\n",
       "      <td>None</td>\n",
       "      <td>None</td>\n",
       "      <td>None</td>\n",
       "      <td>None</td>\n",
       "      <td>None</td>\n",
       "      <td>None</td>\n",
       "      <td>None</td>\n",
       "    </tr>\n",
       "    <tr>\n",
       "      <th>2</th>\n",
       "      <td>MBBS</td>\n",
       "      <td>DDVL</td>\n",
       "      <td>None</td>\n",
       "      <td>None</td>\n",
       "      <td>None</td>\n",
       "      <td>None</td>\n",
       "      <td>None</td>\n",
       "      <td>None</td>\n",
       "      <td>None</td>\n",
       "      <td>None</td>\n",
       "      <td>None</td>\n",
       "      <td>None</td>\n",
       "      <td>None</td>\n",
       "      <td>None</td>\n",
       "      <td>None</td>\n",
       "      <td>None</td>\n",
       "      <td>None</td>\n",
       "    </tr>\n",
       "    <tr>\n",
       "      <th>3</th>\n",
       "      <td>BAMS</td>\n",
       "      <td>None</td>\n",
       "      <td>None</td>\n",
       "      <td>None</td>\n",
       "      <td>None</td>\n",
       "      <td>None</td>\n",
       "      <td>None</td>\n",
       "      <td>None</td>\n",
       "      <td>None</td>\n",
       "      <td>None</td>\n",
       "      <td>None</td>\n",
       "      <td>None</td>\n",
       "      <td>None</td>\n",
       "      <td>None</td>\n",
       "      <td>None</td>\n",
       "      <td>None</td>\n",
       "      <td>None</td>\n",
       "    </tr>\n",
       "    <tr>\n",
       "      <th>4</th>\n",
       "      <td>BDS</td>\n",
       "      <td>MDS - Conservative Dentistry &amp; Endodontics</td>\n",
       "      <td>None</td>\n",
       "      <td>None</td>\n",
       "      <td>None</td>\n",
       "      <td>None</td>\n",
       "      <td>None</td>\n",
       "      <td>None</td>\n",
       "      <td>None</td>\n",
       "      <td>None</td>\n",
       "      <td>None</td>\n",
       "      <td>None</td>\n",
       "      <td>None</td>\n",
       "      <td>None</td>\n",
       "      <td>None</td>\n",
       "      <td>None</td>\n",
       "      <td>None</td>\n",
       "    </tr>\n",
       "  </tbody>\n",
       "</table>\n",
       "</div>"
      ],
      "text/plain": [
       "     0                                            1     2     3     4     5   \\\n",
       "0  MBBS                                         None  None  None  None  None   \n",
       "1  MBBS         Diploma in Otorhinolaryngology (DLO)  None  None  None  None   \n",
       "2  MBBS                                         DDVL  None  None  None  None   \n",
       "3  BAMS                                         None  None  None  None  None   \n",
       "4   BDS   MDS - Conservative Dentistry & Endodontics  None  None  None  None   \n",
       "\n",
       "     6     7     8     9     10    11    12    13    14    15    16  \n",
       "0  None  None  None  None  None  None  None  None  None  None  None  \n",
       "1  None  None  None  None  None  None  None  None  None  None  None  \n",
       "2  None  None  None  None  None  None  None  None  None  None  None  \n",
       "3  None  None  None  None  None  None  None  None  None  None  None  \n",
       "4  None  None  None  None  None  None  None  None  None  None  None  "
      ]
     },
     "execution_count": 50,
     "metadata": {},
     "output_type": "execute_result"
    }
   ],
   "source": [
    "#Lets check first five rows of qualification in test data\n",
    "quali1.head()\n",
    "#in test data, doctors have upto 17 qualifications"
   ]
  },
  {
   "cell_type": "code",
   "execution_count": 51,
   "metadata": {},
   "outputs": [
    {
     "name": "stdout",
     "output_type": "stream",
     "text": [
      "[151, 426, 406, 212, 95, 32, 12, 6, 4, 1]\n"
     ]
    }
   ],
   "source": [
    "#Lets check unique values in each column of train data\n",
    "unique=[]\n",
    "for i in quali.columns:\n",
    "    unique.append(quali[i].nunique())\n",
    "print(unique)"
   ]
  },
  {
   "cell_type": "code",
   "execution_count": 52,
   "metadata": {},
   "outputs": [
    {
     "name": "stdout",
     "output_type": "stream",
     "text": [
      "[87, 243, 195, 90, 35, 8, 3, 2, 2, 1, 1, 1, 1, 1, 1, 1, 1]\n"
     ]
    }
   ],
   "source": [
    "#Lets check unique values in each column of test data\n",
    "unique=[]\n",
    "for i in quali1.columns:\n",
    "    unique.append(quali1[i].nunique())\n",
    "print(unique)"
   ]
  },
  {
   "cell_type": "code",
   "execution_count": 53,
   "metadata": {},
   "outputs": [],
   "source": [
    "#we can see that most of the  unique qualifications are in starting 4 columns \n",
    "#Lets select only four columns of qualification\n",
    "dftr['qual_1'] = quali[0]\n",
    "dftr['qual_2'] = quali[1]\n",
    "dftr['qual_3'] = quali[2]\n",
    "dftr['qual_4'] = quali[3]\n",
    "dfte['qual_1'] = quali1[0]\n",
    "dfte['qual_2'] = quali1[1]\n",
    "dfte['qual_3'] = quali1[2]\n",
    "dfte['qual_4'] = quali1[3]"
   ]
  },
  {
   "cell_type": "code",
   "execution_count": 54,
   "metadata": {
    "scrolled": true
   },
   "outputs": [
    {
     "data": {
      "text/html": [
       "<div>\n",
       "<style scoped>\n",
       "    .dataframe tbody tr th:only-of-type {\n",
       "        vertical-align: middle;\n",
       "    }\n",
       "\n",
       "    .dataframe tbody tr th {\n",
       "        vertical-align: top;\n",
       "    }\n",
       "\n",
       "    .dataframe thead th {\n",
       "        text-align: right;\n",
       "    }\n",
       "</style>\n",
       "<table border=\"1\" class=\"dataframe\">\n",
       "  <thead>\n",
       "    <tr style=\"text-align: right;\">\n",
       "      <th></th>\n",
       "      <th>Qualification</th>\n",
       "      <th>Profile</th>\n",
       "      <th>Fees</th>\n",
       "      <th>num_rating</th>\n",
       "      <th>Exp</th>\n",
       "      <th>Locality</th>\n",
       "      <th>city</th>\n",
       "      <th>No.of Qual</th>\n",
       "      <th>qual_1</th>\n",
       "      <th>qual_2</th>\n",
       "      <th>qual_3</th>\n",
       "      <th>qual_4</th>\n",
       "    </tr>\n",
       "  </thead>\n",
       "  <tbody>\n",
       "    <tr>\n",
       "      <th>0</th>\n",
       "      <td>BHMS, MD - Homeopathy</td>\n",
       "      <td>Homeopath</td>\n",
       "      <td>100</td>\n",
       "      <td>10</td>\n",
       "      <td>24</td>\n",
       "      <td>Kakkanad</td>\n",
       "      <td>Ernakulam</td>\n",
       "      <td>2</td>\n",
       "      <td>BHMS</td>\n",
       "      <td>MD - Homeopathy</td>\n",
       "      <td>None</td>\n",
       "      <td>None</td>\n",
       "    </tr>\n",
       "    <tr>\n",
       "      <th>1</th>\n",
       "      <td>BAMS, MD - Ayurveda Medicine</td>\n",
       "      <td>Ayurveda</td>\n",
       "      <td>350</td>\n",
       "      <td>10</td>\n",
       "      <td>12</td>\n",
       "      <td>Whitefield</td>\n",
       "      <td>Bangalore</td>\n",
       "      <td>2</td>\n",
       "      <td>BAMS</td>\n",
       "      <td>MD - Ayurveda Medicine</td>\n",
       "      <td>None</td>\n",
       "      <td>None</td>\n",
       "    </tr>\n",
       "    <tr>\n",
       "      <th>2</th>\n",
       "      <td>MBBS, MS - Otorhinolaryngology</td>\n",
       "      <td>ENT Specialist</td>\n",
       "      <td>300</td>\n",
       "      <td>0</td>\n",
       "      <td>9</td>\n",
       "      <td>Mathikere - BEL</td>\n",
       "      <td>Bangalore</td>\n",
       "      <td>2</td>\n",
       "      <td>MBBS</td>\n",
       "      <td>MS - Otorhinolaryngology</td>\n",
       "      <td>None</td>\n",
       "      <td>None</td>\n",
       "    </tr>\n",
       "    <tr>\n",
       "      <th>3</th>\n",
       "      <td>BSc - Zoology, BAMS</td>\n",
       "      <td>Ayurveda</td>\n",
       "      <td>250</td>\n",
       "      <td>0</td>\n",
       "      <td>12</td>\n",
       "      <td>Bannerghatta Road</td>\n",
       "      <td>Bangalore</td>\n",
       "      <td>2</td>\n",
       "      <td>BSc - Zoology</td>\n",
       "      <td>BAMS</td>\n",
       "      <td>None</td>\n",
       "      <td>None</td>\n",
       "    </tr>\n",
       "    <tr>\n",
       "      <th>4</th>\n",
       "      <td>BAMS</td>\n",
       "      <td>Ayurveda</td>\n",
       "      <td>250</td>\n",
       "      <td>10</td>\n",
       "      <td>20</td>\n",
       "      <td>Keelkattalai</td>\n",
       "      <td>Chennai</td>\n",
       "      <td>1</td>\n",
       "      <td>BAMS</td>\n",
       "      <td>None</td>\n",
       "      <td>None</td>\n",
       "      <td>None</td>\n",
       "    </tr>\n",
       "  </tbody>\n",
       "</table>\n",
       "</div>"
      ],
      "text/plain": [
       "                    Qualification         Profile  Fees num_rating  Exp  \\\n",
       "0           BHMS, MD - Homeopathy       Homeopath   100         10   24   \n",
       "1    BAMS, MD - Ayurveda Medicine        Ayurveda   350         10   12   \n",
       "2  MBBS, MS - Otorhinolaryngology  ENT Specialist   300          0    9   \n",
       "3             BSc - Zoology, BAMS        Ayurveda   250          0   12   \n",
       "4                            BAMS        Ayurveda   250         10   20   \n",
       "\n",
       "            Locality        city  No.of Qual         qual_1  \\\n",
       "0           Kakkanad   Ernakulam           2           BHMS   \n",
       "1         Whitefield   Bangalore           2           BAMS   \n",
       "2    Mathikere - BEL   Bangalore           2           MBBS   \n",
       "3  Bannerghatta Road   Bangalore           2  BSc - Zoology   \n",
       "4       Keelkattalai     Chennai           1           BAMS   \n",
       "\n",
       "                      qual_2 qual_3 qual_4  \n",
       "0            MD - Homeopathy   None   None  \n",
       "1     MD - Ayurveda Medicine   None   None  \n",
       "2   MS - Otorhinolaryngology   None   None  \n",
       "3                       BAMS   None   None  \n",
       "4                       None   None   None  "
      ]
     },
     "execution_count": 54,
     "metadata": {},
     "output_type": "execute_result"
    }
   ],
   "source": [
    "#Lets check the first five rows of  training data\n",
    "dftr.head()"
   ]
  },
  {
   "cell_type": "code",
   "execution_count": 55,
   "metadata": {},
   "outputs": [
    {
     "data": {
      "text/html": [
       "<div>\n",
       "<style scoped>\n",
       "    .dataframe tbody tr th:only-of-type {\n",
       "        vertical-align: middle;\n",
       "    }\n",
       "\n",
       "    .dataframe tbody tr th {\n",
       "        vertical-align: top;\n",
       "    }\n",
       "\n",
       "    .dataframe thead th {\n",
       "        text-align: right;\n",
       "    }\n",
       "</style>\n",
       "<table border=\"1\" class=\"dataframe\">\n",
       "  <thead>\n",
       "    <tr style=\"text-align: right;\">\n",
       "      <th></th>\n",
       "      <th>Qualification</th>\n",
       "      <th>Profile</th>\n",
       "      <th>num_rating</th>\n",
       "      <th>Exp</th>\n",
       "      <th>Locality</th>\n",
       "      <th>city</th>\n",
       "      <th>No.of Qual</th>\n",
       "      <th>qual_1</th>\n",
       "      <th>qual_2</th>\n",
       "      <th>qual_3</th>\n",
       "      <th>qual_4</th>\n",
       "    </tr>\n",
       "  </thead>\n",
       "  <tbody>\n",
       "    <tr>\n",
       "      <th>0</th>\n",
       "      <td>MBBS</td>\n",
       "      <td>General Medicine</td>\n",
       "      <td>10</td>\n",
       "      <td>24</td>\n",
       "      <td>Ghatkopar East</td>\n",
       "      <td>Mumbai</td>\n",
       "      <td>1</td>\n",
       "      <td>MBBS</td>\n",
       "      <td>None</td>\n",
       "      <td>None</td>\n",
       "      <td>None</td>\n",
       "    </tr>\n",
       "    <tr>\n",
       "      <th>1</th>\n",
       "      <td>MBBS, Diploma in Otorhinolaryngology (DLO)</td>\n",
       "      <td>ENT Specialist</td>\n",
       "      <td>10</td>\n",
       "      <td>12</td>\n",
       "      <td>West Marredpally</td>\n",
       "      <td>Hyderabad</td>\n",
       "      <td>2</td>\n",
       "      <td>MBBS</td>\n",
       "      <td>Diploma in Otorhinolaryngology (DLO)</td>\n",
       "      <td>None</td>\n",
       "      <td>None</td>\n",
       "    </tr>\n",
       "    <tr>\n",
       "      <th>2</th>\n",
       "      <td>MBBS, DDVL</td>\n",
       "      <td>Dermatologists</td>\n",
       "      <td>0</td>\n",
       "      <td>9</td>\n",
       "      <td>KK Nagar</td>\n",
       "      <td>Chennai</td>\n",
       "      <td>2</td>\n",
       "      <td>MBBS</td>\n",
       "      <td>DDVL</td>\n",
       "      <td>None</td>\n",
       "      <td>None</td>\n",
       "    </tr>\n",
       "    <tr>\n",
       "      <th>3</th>\n",
       "      <td>BAMS</td>\n",
       "      <td>Ayurveda</td>\n",
       "      <td>0</td>\n",
       "      <td>12</td>\n",
       "      <td>New Ashok Nagar</td>\n",
       "      <td>Delhi</td>\n",
       "      <td>1</td>\n",
       "      <td>BAMS</td>\n",
       "      <td>None</td>\n",
       "      <td>None</td>\n",
       "      <td>None</td>\n",
       "    </tr>\n",
       "    <tr>\n",
       "      <th>4</th>\n",
       "      <td>BDS, MDS - Conservative Dentistry &amp; Endodontics</td>\n",
       "      <td>Dentist</td>\n",
       "      <td>10</td>\n",
       "      <td>20</td>\n",
       "      <td>Kanakpura Road</td>\n",
       "      <td>Bangalore</td>\n",
       "      <td>2</td>\n",
       "      <td>BDS</td>\n",
       "      <td>MDS - Conservative Dentistry &amp; Endodontics</td>\n",
       "      <td>None</td>\n",
       "      <td>None</td>\n",
       "    </tr>\n",
       "  </tbody>\n",
       "</table>\n",
       "</div>"
      ],
      "text/plain": [
       "                                     Qualification           Profile  \\\n",
       "0                                             MBBS  General Medicine   \n",
       "1       MBBS, Diploma in Otorhinolaryngology (DLO)    ENT Specialist   \n",
       "2                                       MBBS, DDVL    Dermatologists   \n",
       "3                                             BAMS          Ayurveda   \n",
       "4  BDS, MDS - Conservative Dentistry & Endodontics           Dentist   \n",
       "\n",
       "  num_rating  Exp          Locality        city  No.of Qual qual_1  \\\n",
       "0         10   24    Ghatkopar East      Mumbai           1   MBBS   \n",
       "1         10   12  West Marredpally   Hyderabad           2   MBBS   \n",
       "2          0    9          KK Nagar     Chennai           2   MBBS   \n",
       "3          0   12   New Ashok Nagar       Delhi           1   BAMS   \n",
       "4         10   20    Kanakpura Road   Bangalore           2    BDS   \n",
       "\n",
       "                                        qual_2 qual_3 qual_4  \n",
       "0                                         None   None   None  \n",
       "1         Diploma in Otorhinolaryngology (DLO)   None   None  \n",
       "2                                         DDVL   None   None  \n",
       "3                                         None   None   None  \n",
       "4   MDS - Conservative Dentistry & Endodontics   None   None  "
      ]
     },
     "execution_count": 55,
     "metadata": {},
     "output_type": "execute_result"
    }
   ],
   "source": [
    "#Lets check the first five rows of  test data\n",
    "dfte.head()"
   ]
  },
  {
   "cell_type": "code",
   "execution_count": 56,
   "metadata": {
    "scrolled": true
   },
   "outputs": [],
   "source": [
    "#Lets replace the missing values in qual columns\n",
    "dftr['qual_1'].fillna('xxx',inplace=True)\n",
    "dftr['qual_2'].fillna('yyy',inplace=True)\n",
    "dftr['qual_3'].fillna('zzz',inplace=True)\n",
    "dftr['qual_4'].fillna('www',inplace=True)\n",
    "dfte['qual_1'].fillna('xxx',inplace=True)\n",
    "dfte['qual_2'].fillna('yyy',inplace=True)\n",
    "dfte['qual_3'].fillna('zzz',inplace=True)\n",
    "dfte['qual_4'].fillna('www',inplace=True)"
   ]
  },
  {
   "cell_type": "code",
   "execution_count": 57,
   "metadata": {},
   "outputs": [],
   "source": [
    "#Lets drop the Qualification colum\n",
    "dftr.drop('Qualification',axis=1,inplace=True)\n",
    "dfte.drop('Qualification',axis=1,inplace=True)"
   ]
  },
  {
   "cell_type": "code",
   "execution_count": 58,
   "metadata": {},
   "outputs": [],
   "source": [
    "#Lets create a copy of train and test data\n",
    "df=dftr.copy()\n",
    "dft=dfte.copy()"
   ]
  },
  {
   "cell_type": "code",
   "execution_count": 59,
   "metadata": {},
   "outputs": [
    {
     "data": {
      "text/plain": [
       "General Medicine    444\n",
       "Dentist             441\n",
       "Dermatologists      339\n",
       "Homeopath           277\n",
       "Ayurveda            251\n",
       "ENT Specialist      235\n",
       "Name: Profile, dtype: int64"
      ]
     },
     "execution_count": 59,
     "metadata": {},
     "output_type": "execute_result"
    }
   ],
   "source": [
    "#Lets see the profile in test data\n",
    "dfte['Profile'].value_counts()"
   ]
  },
  {
   "cell_type": "code",
   "execution_count": 60,
   "metadata": {},
   "outputs": [
    {
     "data": {
      "text/plain": [
       "Dentist             1396\n",
       "General Medicine    1173\n",
       "Dermatologists      1034\n",
       "Homeopath            843\n",
       "Ayurveda             786\n",
       "ENT Specialist       728\n",
       "Name: Profile, dtype: int64"
      ]
     },
     "execution_count": 60,
     "metadata": {},
     "output_type": "execute_result"
    }
   ],
   "source": [
    "#Lets see the profile in train data\n",
    "dftr['Profile'].value_counts()"
   ]
  },
  {
   "cell_type": "code",
   "execution_count": 61,
   "metadata": {
    "scrolled": true
   },
   "outputs": [
    {
     "data": {
      "text/plain": [
       "<matplotlib.axes._subplots.AxesSubplot at 0x3fd9ade7b8>"
      ]
     },
     "execution_count": 61,
     "metadata": {},
     "output_type": "execute_result"
    },
    {
     "data": {
      "image/png": "[encoded data removed]",
      "text/plain": [
       "<Figure size 1080x360 with 1 Axes>"
      ]
     },
     "metadata": {
      "needs_background": "light"
     },
     "output_type": "display_data"
    }
   ],
   "source": [
    "#Lets explore the relation between Profile and fee\n",
    "plt.figure(figsize=(15,5))\n",
    "sns.barplot(x='Profile',y='Fees',data=dftr)"
   ]
  },
  {
   "cell_type": "code",
   "execution_count": 62,
   "metadata": {},
   "outputs": [],
   "source": [
    "# As expected we can see that different specialist charge different fee  \n",
    "#As expected We can see that Aurveda and Dentist normally have normally lower fee then other specilization\n",
    "#Highest fee is charged  by ENT Specialist and Dermatologist"
   ]
  },
  {
   "cell_type": "code",
   "execution_count": 63,
   "metadata": {},
   "outputs": [
    {
     "data": {
      "text/plain": [
       " Bangalore             1258\n",
       " Mumbai                1219\n",
       " Delhi                 1184\n",
       " Hyderabad              951\n",
       " Chennai                855\n",
       " Coimbatore             228\n",
       " Ernakulam              153\n",
       " Thiruvananthapuram      86\n",
       "Unknown                  25\n",
       " Sector 5                 1\n",
       "Name: city, dtype: int64"
      ]
     },
     "execution_count": 63,
     "metadata": {},
     "output_type": "execute_result"
    }
   ],
   "source": [
    "#There are ten cities in training data\n",
    "dftr['city'].value_counts()"
   ]
  },
  {
   "cell_type": "code",
   "execution_count": 64,
   "metadata": {},
   "outputs": [
    {
     "data": {
      "text/plain": [
       " Bangalore             420\n",
       " Delhi                 417\n",
       " Mumbai                389\n",
       " Hyderabad             333\n",
       " Chennai               287\n",
       " Coimbatore             70\n",
       " Ernakulam              48\n",
       " Thiruvananthapuram     17\n",
       "Unknown                  6\n",
       "Name: city, dtype: int64"
      ]
     },
     "execution_count": 64,
     "metadata": {},
     "output_type": "execute_result"
    }
   ],
   "source": [
    "#There are just 9 cities in test data\n",
    "dfte['city'].value_counts()"
   ]
  },
  {
   "cell_type": "code",
   "execution_count": 65,
   "metadata": {},
   "outputs": [],
   "source": [
    "#By visulization we encountered that sector 5 is in dwarika delhi, so replacing it by delhi\n",
    "dftr['city'] = dftr['city'].apply(lambda x: ' Delhi' if x==\" Sector 5\" else x)\n",
    "   "
   ]
  },
  {
   "cell_type": "code",
   "execution_count": 66,
   "metadata": {
    "scrolled": true
   },
   "outputs": [
    {
     "data": {
      "text/plain": [
       " Bangalore             1258\n",
       " Mumbai                1219\n",
       " Delhi                 1185\n",
       " Hyderabad              951\n",
       " Chennai                855\n",
       " Coimbatore             228\n",
       " Ernakulam              153\n",
       " Thiruvananthapuram      86\n",
       "Unknown                  25\n",
       "Name: city, dtype: int64"
      ]
     },
     "execution_count": 66,
     "metadata": {},
     "output_type": "execute_result"
    }
   ],
   "source": [
    "#Now both have same number of unique values\n",
    "dftr['city'].value_counts()"
   ]
  },
  {
   "cell_type": "code",
   "execution_count": 67,
   "metadata": {
    "scrolled": true
   },
   "outputs": [
    {
     "data": {
      "text/plain": [
       "<matplotlib.axes._subplots.AxesSubplot at 0x3fda35d828>"
      ]
     },
     "execution_count": 67,
     "metadata": {},
     "output_type": "execute_result"
    },
    {
     "data": {
      "image/png": "[encoded data removed]",
      "text/plain": [
       "<Figure size 1080x360 with 1 Axes>"
      ]
     },
     "metadata": {
      "needs_background": "light"
     },
     "output_type": "display_data"
    }
   ],
   "source": [
    "#Lets explore the relation between city and fee\n",
    "plt.figure(figsize=(15,5))\n",
    "sns.barplot(x='city',y='Fees',data=dftr)"
   ]
  },
  {
   "cell_type": "code",
   "execution_count": 68,
   "metadata": {},
   "outputs": [],
   "source": [
    "# We can see that fee varies according to city\n",
    "#Highest fee is in Delhi\n",
    "#Infact metro cities normally have high fee"
   ]
  },
  {
   "cell_type": "code",
   "execution_count": 69,
   "metadata": {},
   "outputs": [],
   "source": [
    "#Lets create dummy variables for profile and city\n",
    "dftr = pd.get_dummies(dftr,columns=['Profile', 'city'],prefix=['Prof','City'],drop_first=True)\n",
    "dfte = pd.get_dummies(dfte,columns=['Profile', 'city'],prefix=['Prof','City'],drop_first=True)"
   ]
  },
  {
   "cell_type": "code",
   "execution_count": 70,
   "metadata": {},
   "outputs": [],
   "source": [
    "#Lets label encode qual and locality features\n",
    "from sklearn.preprocessing import LabelEncoder\n",
    "encode = ['qual_1','qual_2','qual_3','qual_4','Locality','num_rating']\n",
    "le=LabelEncoder()\n",
    "for i in encode:\n",
    "    dftr[i]=le.fit_transform(dftr[i])\n",
    "    dfte[i]=le.fit_transform(dfte[i])\n"
   ]
  },
  {
   "cell_type": "code",
   "execution_count": 71,
   "metadata": {},
   "outputs": [
    {
     "data": {
      "text/html": [
       "<div>\n",
       "<style scoped>\n",
       "    .dataframe tbody tr th:only-of-type {\n",
       "        vertical-align: middle;\n",
       "    }\n",
       "\n",
       "    .dataframe tbody tr th {\n",
       "        vertical-align: top;\n",
       "    }\n",
       "\n",
       "    .dataframe thead th {\n",
       "        text-align: right;\n",
       "    }\n",
       "</style>\n",
       "<table border=\"1\" class=\"dataframe\">\n",
       "  <thead>\n",
       "    <tr style=\"text-align: right;\">\n",
       "      <th></th>\n",
       "      <th>Fees</th>\n",
       "      <th>num_rating</th>\n",
       "      <th>Exp</th>\n",
       "      <th>Locality</th>\n",
       "      <th>No.of Qual</th>\n",
       "      <th>qual_1</th>\n",
       "      <th>qual_2</th>\n",
       "      <th>qual_3</th>\n",
       "      <th>qual_4</th>\n",
       "      <th>Prof_Dentist</th>\n",
       "      <th>...</th>\n",
       "      <th>Prof_General Medicine</th>\n",
       "      <th>Prof_Homeopath</th>\n",
       "      <th>City_ Chennai</th>\n",
       "      <th>City_ Coimbatore</th>\n",
       "      <th>City_ Delhi</th>\n",
       "      <th>City_ Ernakulam</th>\n",
       "      <th>City_ Hyderabad</th>\n",
       "      <th>City_ Mumbai</th>\n",
       "      <th>City_ Thiruvananthapuram</th>\n",
       "      <th>City_Unknown</th>\n",
       "    </tr>\n",
       "  </thead>\n",
       "  <tbody>\n",
       "    <tr>\n",
       "      <th>0</th>\n",
       "      <td>100</td>\n",
       "      <td>8</td>\n",
       "      <td>24</td>\n",
       "      <td>296</td>\n",
       "      <td>2</td>\n",
       "      <td>8</td>\n",
       "      <td>252</td>\n",
       "      <td>406</td>\n",
       "      <td>212</td>\n",
       "      <td>0</td>\n",
       "      <td>...</td>\n",
       "      <td>0</td>\n",
       "      <td>1</td>\n",
       "      <td>0</td>\n",
       "      <td>0</td>\n",
       "      <td>0</td>\n",
       "      <td>1</td>\n",
       "      <td>0</td>\n",
       "      <td>0</td>\n",
       "      <td>0</td>\n",
       "      <td>0</td>\n",
       "    </tr>\n",
       "    <tr>\n",
       "      <th>1</th>\n",
       "      <td>350</td>\n",
       "      <td>8</td>\n",
       "      <td>12</td>\n",
       "      <td>856</td>\n",
       "      <td>2</td>\n",
       "      <td>5</td>\n",
       "      <td>241</td>\n",
       "      <td>406</td>\n",
       "      <td>212</td>\n",
       "      <td>0</td>\n",
       "      <td>...</td>\n",
       "      <td>0</td>\n",
       "      <td>0</td>\n",
       "      <td>0</td>\n",
       "      <td>0</td>\n",
       "      <td>0</td>\n",
       "      <td>0</td>\n",
       "      <td>0</td>\n",
       "      <td>0</td>\n",
       "      <td>0</td>\n",
       "      <td>0</td>\n",
       "    </tr>\n",
       "    <tr>\n",
       "      <th>2</th>\n",
       "      <td>300</td>\n",
       "      <td>0</td>\n",
       "      <td>9</td>\n",
       "      <td>452</td>\n",
       "      <td>2</td>\n",
       "      <td>79</td>\n",
       "      <td>334</td>\n",
       "      <td>406</td>\n",
       "      <td>212</td>\n",
       "      <td>0</td>\n",
       "      <td>...</td>\n",
       "      <td>0</td>\n",
       "      <td>0</td>\n",
       "      <td>0</td>\n",
       "      <td>0</td>\n",
       "      <td>0</td>\n",
       "      <td>0</td>\n",
       "      <td>0</td>\n",
       "      <td>0</td>\n",
       "      <td>0</td>\n",
       "      <td>0</td>\n",
       "    </tr>\n",
       "    <tr>\n",
       "      <th>3</th>\n",
       "      <td>250</td>\n",
       "      <td>0</td>\n",
       "      <td>12</td>\n",
       "      <td>68</td>\n",
       "      <td>2</td>\n",
       "      <td>12</td>\n",
       "      <td>7</td>\n",
       "      <td>406</td>\n",
       "      <td>212</td>\n",
       "      <td>0</td>\n",
       "      <td>...</td>\n",
       "      <td>0</td>\n",
       "      <td>0</td>\n",
       "      <td>0</td>\n",
       "      <td>0</td>\n",
       "      <td>0</td>\n",
       "      <td>0</td>\n",
       "      <td>0</td>\n",
       "      <td>0</td>\n",
       "      <td>0</td>\n",
       "      <td>0</td>\n",
       "    </tr>\n",
       "    <tr>\n",
       "      <th>4</th>\n",
       "      <td>250</td>\n",
       "      <td>8</td>\n",
       "      <td>20</td>\n",
       "      <td>335</td>\n",
       "      <td>1</td>\n",
       "      <td>5</td>\n",
       "      <td>426</td>\n",
       "      <td>406</td>\n",
       "      <td>212</td>\n",
       "      <td>0</td>\n",
       "      <td>...</td>\n",
       "      <td>0</td>\n",
       "      <td>0</td>\n",
       "      <td>1</td>\n",
       "      <td>0</td>\n",
       "      <td>0</td>\n",
       "      <td>0</td>\n",
       "      <td>0</td>\n",
       "      <td>0</td>\n",
       "      <td>0</td>\n",
       "      <td>0</td>\n",
       "    </tr>\n",
       "  </tbody>\n",
       "</table>\n",
       "<p>5 rows × 22 columns</p>\n",
       "</div>"
      ],
      "text/plain": [
       "   Fees  num_rating  Exp  Locality  No.of Qual  qual_1  qual_2  qual_3  \\\n",
       "0   100           8   24       296           2       8     252     406   \n",
       "1   350           8   12       856           2       5     241     406   \n",
       "2   300           0    9       452           2      79     334     406   \n",
       "3   250           0   12        68           2      12       7     406   \n",
       "4   250           8   20       335           1       5     426     406   \n",
       "\n",
       "   qual_4  Prof_Dentist  ...  Prof_General Medicine  Prof_Homeopath  \\\n",
       "0     212             0  ...                      0               1   \n",
       "1     212             0  ...                      0               0   \n",
       "2     212             0  ...                      0               0   \n",
       "3     212             0  ...                      0               0   \n",
       "4     212             0  ...                      0               0   \n",
       "\n",
       "   City_ Chennai  City_ Coimbatore  City_ Delhi  City_ Ernakulam  \\\n",
       "0              0                 0            0                1   \n",
       "1              0                 0            0                0   \n",
       "2              0                 0            0                0   \n",
       "3              0                 0            0                0   \n",
       "4              1                 0            0                0   \n",
       "\n",
       "   City_ Hyderabad  City_ Mumbai  City_ Thiruvananthapuram  City_Unknown  \n",
       "0                0             0                         0             0  \n",
       "1                0             0                         0             0  \n",
       "2                0             0                         0             0  \n",
       "3                0             0                         0             0  \n",
       "4                0             0                         0             0  \n",
       "\n",
       "[5 rows x 22 columns]"
      ]
     },
     "execution_count": 71,
     "metadata": {},
     "output_type": "execute_result"
    }
   ],
   "source": [
    "#Lets check the traning data\n",
    "dftr.head()"
   ]
  },
  {
   "cell_type": "code",
   "execution_count": 72,
   "metadata": {},
   "outputs": [
    {
     "data": {
      "text/html": [
       "<div>\n",
       "<style scoped>\n",
       "    .dataframe tbody tr th:only-of-type {\n",
       "        vertical-align: middle;\n",
       "    }\n",
       "\n",
       "    .dataframe tbody tr th {\n",
       "        vertical-align: top;\n",
       "    }\n",
       "\n",
       "    .dataframe thead th {\n",
       "        text-align: right;\n",
       "    }\n",
       "</style>\n",
       "<table border=\"1\" class=\"dataframe\">\n",
       "  <thead>\n",
       "    <tr style=\"text-align: right;\">\n",
       "      <th></th>\n",
       "      <th>num_rating</th>\n",
       "      <th>Exp</th>\n",
       "      <th>Locality</th>\n",
       "      <th>No.of Qual</th>\n",
       "      <th>qual_1</th>\n",
       "      <th>qual_2</th>\n",
       "      <th>qual_3</th>\n",
       "      <th>qual_4</th>\n",
       "      <th>Prof_Dentist</th>\n",
       "      <th>Prof_Dermatologists</th>\n",
       "      <th>...</th>\n",
       "      <th>Prof_General Medicine</th>\n",
       "      <th>Prof_Homeopath</th>\n",
       "      <th>City_ Chennai</th>\n",
       "      <th>City_ Coimbatore</th>\n",
       "      <th>City_ Delhi</th>\n",
       "      <th>City_ Ernakulam</th>\n",
       "      <th>City_ Hyderabad</th>\n",
       "      <th>City_ Mumbai</th>\n",
       "      <th>City_ Thiruvananthapuram</th>\n",
       "      <th>City_Unknown</th>\n",
       "    </tr>\n",
       "  </thead>\n",
       "  <tbody>\n",
       "    <tr>\n",
       "      <th>0</th>\n",
       "      <td>7</td>\n",
       "      <td>24</td>\n",
       "      <td>142</td>\n",
       "      <td>1</td>\n",
       "      <td>48</td>\n",
       "      <td>243</td>\n",
       "      <td>195</td>\n",
       "      <td>90</td>\n",
       "      <td>0</td>\n",
       "      <td>0</td>\n",
       "      <td>...</td>\n",
       "      <td>1</td>\n",
       "      <td>0</td>\n",
       "      <td>0</td>\n",
       "      <td>0</td>\n",
       "      <td>0</td>\n",
       "      <td>0</td>\n",
       "      <td>0</td>\n",
       "      <td>1</td>\n",
       "      <td>0</td>\n",
       "      <td>0</td>\n",
       "    </tr>\n",
       "    <tr>\n",
       "      <th>1</th>\n",
       "      <td>7</td>\n",
       "      <td>12</td>\n",
       "      <td>578</td>\n",
       "      <td>2</td>\n",
       "      <td>48</td>\n",
       "      <td>79</td>\n",
       "      <td>195</td>\n",
       "      <td>90</td>\n",
       "      <td>0</td>\n",
       "      <td>0</td>\n",
       "      <td>...</td>\n",
       "      <td>0</td>\n",
       "      <td>0</td>\n",
       "      <td>0</td>\n",
       "      <td>0</td>\n",
       "      <td>0</td>\n",
       "      <td>0</td>\n",
       "      <td>1</td>\n",
       "      <td>0</td>\n",
       "      <td>0</td>\n",
       "      <td>0</td>\n",
       "    </tr>\n",
       "    <tr>\n",
       "      <th>2</th>\n",
       "      <td>0</td>\n",
       "      <td>9</td>\n",
       "      <td>212</td>\n",
       "      <td>2</td>\n",
       "      <td>48</td>\n",
       "      <td>28</td>\n",
       "      <td>195</td>\n",
       "      <td>90</td>\n",
       "      <td>0</td>\n",
       "      <td>1</td>\n",
       "      <td>...</td>\n",
       "      <td>0</td>\n",
       "      <td>0</td>\n",
       "      <td>1</td>\n",
       "      <td>0</td>\n",
       "      <td>0</td>\n",
       "      <td>0</td>\n",
       "      <td>0</td>\n",
       "      <td>0</td>\n",
       "      <td>0</td>\n",
       "      <td>0</td>\n",
       "    </tr>\n",
       "    <tr>\n",
       "      <th>3</th>\n",
       "      <td>0</td>\n",
       "      <td>12</td>\n",
       "      <td>373</td>\n",
       "      <td>1</td>\n",
       "      <td>1</td>\n",
       "      <td>243</td>\n",
       "      <td>195</td>\n",
       "      <td>90</td>\n",
       "      <td>0</td>\n",
       "      <td>0</td>\n",
       "      <td>...</td>\n",
       "      <td>0</td>\n",
       "      <td>0</td>\n",
       "      <td>0</td>\n",
       "      <td>0</td>\n",
       "      <td>1</td>\n",
       "      <td>0</td>\n",
       "      <td>0</td>\n",
       "      <td>0</td>\n",
       "      <td>0</td>\n",
       "      <td>0</td>\n",
       "    </tr>\n",
       "    <tr>\n",
       "      <th>4</th>\n",
       "      <td>7</td>\n",
       "      <td>20</td>\n",
       "      <td>231</td>\n",
       "      <td>2</td>\n",
       "      <td>2</td>\n",
       "      <td>157</td>\n",
       "      <td>195</td>\n",
       "      <td>90</td>\n",
       "      <td>1</td>\n",
       "      <td>0</td>\n",
       "      <td>...</td>\n",
       "      <td>0</td>\n",
       "      <td>0</td>\n",
       "      <td>0</td>\n",
       "      <td>0</td>\n",
       "      <td>0</td>\n",
       "      <td>0</td>\n",
       "      <td>0</td>\n",
       "      <td>0</td>\n",
       "      <td>0</td>\n",
       "      <td>0</td>\n",
       "    </tr>\n",
       "  </tbody>\n",
       "</table>\n",
       "<p>5 rows × 21 columns</p>\n",
       "</div>"
      ],
      "text/plain": [
       "   num_rating  Exp  Locality  No.of Qual  qual_1  qual_2  qual_3  qual_4  \\\n",
       "0           7   24       142           1      48     243     195      90   \n",
       "1           7   12       578           2      48      79     195      90   \n",
       "2           0    9       212           2      48      28     195      90   \n",
       "3           0   12       373           1       1     243     195      90   \n",
       "4           7   20       231           2       2     157     195      90   \n",
       "\n",
       "   Prof_Dentist  Prof_Dermatologists  ...  Prof_General Medicine  \\\n",
       "0             0                    0  ...                      1   \n",
       "1             0                    0  ...                      0   \n",
       "2             0                    1  ...                      0   \n",
       "3             0                    0  ...                      0   \n",
       "4             1                    0  ...                      0   \n",
       "\n",
       "   Prof_Homeopath  City_ Chennai  City_ Coimbatore  City_ Delhi  \\\n",
       "0               0              0                 0            0   \n",
       "1               0              0                 0            0   \n",
       "2               0              1                 0            0   \n",
       "3               0              0                 0            1   \n",
       "4               0              0                 0            0   \n",
       "\n",
       "   City_ Ernakulam  City_ Hyderabad  City_ Mumbai  City_ Thiruvananthapuram  \\\n",
       "0                0                0             1                         0   \n",
       "1                0                1             0                         0   \n",
       "2                0                0             0                         0   \n",
       "3                0                0             0                         0   \n",
       "4                0                0             0                         0   \n",
       "\n",
       "   City_Unknown  \n",
       "0             0  \n",
       "1             0  \n",
       "2             0  \n",
       "3             0  \n",
       "4             0  \n",
       "\n",
       "[5 rows x 21 columns]"
      ]
     },
     "execution_count": 72,
     "metadata": {},
     "output_type": "execute_result"
    }
   ],
   "source": [
    "#Lets check the test data\n",
    "dfte.head()\n"
   ]
  },
  {
   "cell_type": "code",
   "execution_count": 73,
   "metadata": {},
   "outputs": [],
   "source": [
    "#Now all the data is in numeric form"
   ]
  },
  {
   "cell_type": "code",
   "execution_count": 74,
   "metadata": {},
   "outputs": [
    {
     "data": {
      "text/plain": [
       "array([[<matplotlib.axes._subplots.AxesSubplot object at 0x0000003FDAD1EAC8>,\n",
       "        <matplotlib.axes._subplots.AxesSubplot object at 0x0000003FDAD64E10>,\n",
       "        <matplotlib.axes._subplots.AxesSubplot object at 0x0000003FDAD963C8>,\n",
       "        <matplotlib.axes._subplots.AxesSubplot object at 0x0000003FDADBC940>,\n",
       "        <matplotlib.axes._subplots.AxesSubplot object at 0x0000003FDADE5EB8>],\n",
       "       [<matplotlib.axes._subplots.AxesSubplot object at 0x0000003FDAE15470>,\n",
       "        <matplotlib.axes._subplots.AxesSubplot object at 0x0000003FDAE3C9E8>,\n",
       "        <matplotlib.axes._subplots.AxesSubplot object at 0x0000003FDAE66F98>,\n",
       "        <matplotlib.axes._subplots.AxesSubplot object at 0x0000003FDAE66FD0>,\n",
       "        <matplotlib.axes._subplots.AxesSubplot object at 0x0000003FDAEBEA90>],\n",
       "       [<matplotlib.axes._subplots.AxesSubplot object at 0x0000003FDAEF1048>,\n",
       "        <matplotlib.axes._subplots.AxesSubplot object at 0x0000003FDAF165C0>,\n",
       "        <matplotlib.axes._subplots.AxesSubplot object at 0x0000003FDAF3FB38>,\n",
       "        <matplotlib.axes._subplots.AxesSubplot object at 0x0000003FDAF710F0>,\n",
       "        <matplotlib.axes._subplots.AxesSubplot object at 0x0000003FDAF99668>],\n",
       "       [<matplotlib.axes._subplots.AxesSubplot object at 0x0000003FDAFC1BE0>,\n",
       "        <matplotlib.axes._subplots.AxesSubplot object at 0x0000003FDAFF4160>,\n",
       "        <matplotlib.axes._subplots.AxesSubplot object at 0x0000003FDB01A6D8>,\n",
       "        <matplotlib.axes._subplots.AxesSubplot object at 0x0000003FDB041C50>,\n",
       "        <matplotlib.axes._subplots.AxesSubplot object at 0x0000003FDB073208>],\n",
       "       [<matplotlib.axes._subplots.AxesSubplot object at 0x0000003FDB09B780>,\n",
       "        <matplotlib.axes._subplots.AxesSubplot object at 0x0000003FDB0C3CF8>,\n",
       "        <matplotlib.axes._subplots.AxesSubplot object at 0x0000003FDB0F32B0>,\n",
       "        <matplotlib.axes._subplots.AxesSubplot object at 0x0000003FDB11B828>,\n",
       "        <matplotlib.axes._subplots.AxesSubplot object at 0x0000003FDB143DA0>]],\n",
       "      dtype=object)"
      ]
     },
     "execution_count": 74,
     "metadata": {},
     "output_type": "execute_result"
    },
    {
     "data": {
      "image/png": "[encoded data removed]",
      "text/plain": [
       "<Figure size 1080x1080 with 25 Axes>"
      ]
     },
     "metadata": {
      "needs_background": "light"
     },
     "output_type": "display_data"
    }
   ],
   "source": [
    "#Lets check the distribution of  train data\n",
    "dftr.hist(sharex=False, sharey=False, xlabelsize=1, ylabelsize=1,   figsize=(15,15))\n",
    "# we can see the skewness in data"
   ]
  },
  {
   "cell_type": "code",
   "execution_count": 75,
   "metadata": {},
   "outputs": [
    {
     "data": {
      "text/plain": [
       "array([[<matplotlib.axes._subplots.AxesSubplot object at 0x0000003FDC21EA90>,\n",
       "        <matplotlib.axes._subplots.AxesSubplot object at 0x0000003FDC2A99E8>,\n",
       "        <matplotlib.axes._subplots.AxesSubplot object at 0x0000003FDCE4AF28>,\n",
       "        <matplotlib.axes._subplots.AxesSubplot object at 0x0000003FDCE704E0>,\n",
       "        <matplotlib.axes._subplots.AxesSubplot object at 0x0000003FDC528A58>],\n",
       "       [<matplotlib.axes._subplots.AxesSubplot object at 0x0000003FDC551FD0>,\n",
       "        <matplotlib.axes._subplots.AxesSubplot object at 0x0000003FDC580588>,\n",
       "        <matplotlib.axes._subplots.AxesSubplot object at 0x0000003FDC5A7B38>,\n",
       "        <matplotlib.axes._subplots.AxesSubplot object at 0x0000003FDC5A7B70>,\n",
       "        <matplotlib.axes._subplots.AxesSubplot object at 0x0000003FDC601630>],\n",
       "       [<matplotlib.axes._subplots.AxesSubplot object at 0x0000003FDC629BA8>,\n",
       "        <matplotlib.axes._subplots.AxesSubplot object at 0x0000003FDC659160>,\n",
       "        <matplotlib.axes._subplots.AxesSubplot object at 0x0000003FDC6816D8>,\n",
       "        <matplotlib.axes._subplots.AxesSubplot object at 0x0000003FDC6A9C50>,\n",
       "        <matplotlib.axes._subplots.AxesSubplot object at 0x0000003FDC6DB208>],\n",
       "       [<matplotlib.axes._subplots.AxesSubplot object at 0x0000003FDC702748>,\n",
       "        <matplotlib.axes._subplots.AxesSubplot object at 0x0000003FDC72ACC0>,\n",
       "        <matplotlib.axes._subplots.AxesSubplot object at 0x0000003FDC75C278>,\n",
       "        <matplotlib.axes._subplots.AxesSubplot object at 0x0000003FDC7847F0>,\n",
       "        <matplotlib.axes._subplots.AxesSubplot object at 0x0000003FDC7ABD68>],\n",
       "       [<matplotlib.axes._subplots.AxesSubplot object at 0x0000003FDC7DC320>,\n",
       "        <matplotlib.axes._subplots.AxesSubplot object at 0x0000003FDC804898>,\n",
       "        <matplotlib.axes._subplots.AxesSubplot object at 0x0000003FDC82DE10>,\n",
       "        <matplotlib.axes._subplots.AxesSubplot object at 0x0000003FDC85E3C8>,\n",
       "        <matplotlib.axes._subplots.AxesSubplot object at 0x0000003FDC884940>]],\n",
       "      dtype=object)"
      ]
     },
     "execution_count": 75,
     "metadata": {},
     "output_type": "execute_result"
    },
    {
     "data": {
      "image/png": "[encoded data removed]",
      "text/plain": [
       "<Figure size 1080x1080 with 25 Axes>"
      ]
     },
     "metadata": {
      "needs_background": "light"
     },
     "output_type": "display_data"
    }
   ],
   "source": [
    "#Lets check the distribution of  test data\n",
    "dfte.hist(sharex=False, sharey=False, xlabelsize=1, ylabelsize=1,   figsize=(15,15))\n",
    "# we can see the skewness in data"
   ]
  },
  {
   "cell_type": "code",
   "execution_count": 76,
   "metadata": {},
   "outputs": [
    {
     "data": {
      "text/plain": [
       "Fees             AxesSubplot(0.125,0.125;0.227941x0.755)\n",
       "Exp           AxesSubplot(0.398529,0.125;0.227941x0.755)\n",
       "No.of Qual    AxesSubplot(0.672059,0.125;0.227941x0.755)\n",
       "dtype: object"
      ]
     },
     "execution_count": 76,
     "metadata": {},
     "output_type": "execute_result"
    },
    {
     "data": {
      "image/png": "[encoded data removed]",
      "text/plain": [
       "<Figure size 1080x216 with 3 Axes>"
      ]
     },
     "metadata": {
      "needs_background": "light"
     },
     "output_type": "display_data"
    }
   ],
   "source": [
    "#Lets plot the box plot of each numeric variable in train data\n",
    "dftr[['Fees','Exp','No.of Qual']].plot(kind='box', subplots=True, layout=(1,3), sharex=False, sharey=False, figsize=(15,3))\n",
    "# we can see the  presence of outliers in few variables, we will deal with them soon"
   ]
  },
  {
   "cell_type": "code",
   "execution_count": 77,
   "metadata": {},
   "outputs": [
    {
     "data": {
      "text/plain": [
       "Exp              AxesSubplot(0.125,0.125;0.352273x0.755)\n",
       "No.of Qual    AxesSubplot(0.547727,0.125;0.352273x0.755)\n",
       "dtype: object"
      ]
     },
     "execution_count": 77,
     "metadata": {},
     "output_type": "execute_result"
    },
    {
     "data": {
      "image/png": "[encoded data removed]",
      "text/plain": [
       "<Figure size 720x216 with 2 Axes>"
      ]
     },
     "metadata": {
      "needs_background": "light"
     },
     "output_type": "display_data"
    }
   ],
   "source": [
    "#Lets plot the box plot of each numeric variable in test data\n",
    "dfte[['Exp','No.of Qual']].plot(kind='box', subplots=True, layout=(1,2), sharex=False, sharey=False, figsize=(10,3))\n",
    "# we can see the  presence of outliers in few variables, we will deal with them soon"
   ]
  },
  {
   "cell_type": "code",
   "execution_count": 78,
   "metadata": {
    "scrolled": false
   },
   "outputs": [
    {
     "data": {
      "text/plain": [
       "Fees                         0.751676\n",
       "num_rating                   0.251484\n",
       "Exp                          0.991306\n",
       "Locality                     0.109281\n",
       "No.of Qual                   1.433475\n",
       "qual_1                       0.067980\n",
       "qual_2                      -0.611113\n",
       "qual_3                      -2.237435\n",
       "qual_4                      -4.946729\n",
       "Prof_Dentist                 1.255391\n",
       "Prof_Dermatologists          1.724943\n",
       "Prof_ENT Specialist          2.308384\n",
       "Prof_General Medicine        1.525516\n",
       "Prof_Homeopath               2.058365\n",
       "City_ Chennai                2.034779\n",
       "City_ Coimbatore             4.815787\n",
       "City_ Delhi                  1.509586\n",
       "City_ Ernakulam              5.999893\n",
       "City_ Hyderabad              1.859754\n",
       "City_ Mumbai                 1.465419\n",
       "City_ Thiruvananthapuram     8.145573\n",
       "City_Unknown                15.346751\n",
       "dtype: float64"
      ]
     },
     "execution_count": 78,
     "metadata": {},
     "output_type": "execute_result"
    }
   ],
   "source": [
    "#Lets check the skewness in  train data\n",
    "dftr.skew()"
   ]
  },
  {
   "cell_type": "code",
   "execution_count": 79,
   "metadata": {},
   "outputs": [],
   "source": [
    "#Lets reduce positive skewness in train data \n",
    "for col in dftr.columns:                                      \n",
    "    if dftr.skew().loc[col]>0.55:\n",
    "        dftr[col]=np.log1p(dftr[col])\n"
   ]
  },
  {
   "cell_type": "code",
   "execution_count": 80,
   "metadata": {},
   "outputs": [
    {
     "data": {
      "text/plain": [
       "Fees                        -0.298146\n",
       "num_rating                   0.251484\n",
       "Exp                         -0.894938\n",
       "Locality                     0.109281\n",
       "No.of Qual                   0.393419\n",
       "qual_1                       0.067980\n",
       "qual_2                      -0.611113\n",
       "qual_3                      -2.237435\n",
       "qual_4                      -4.946729\n",
       "Prof_Dentist                 1.255391\n",
       "Prof_Dermatologists          1.724943\n",
       "Prof_ENT Specialist          2.308384\n",
       "Prof_General Medicine        1.525516\n",
       "Prof_Homeopath               2.058365\n",
       "City_ Chennai                2.034779\n",
       "City_ Coimbatore             4.815787\n",
       "City_ Delhi                  1.509586\n",
       "City_ Ernakulam              5.999893\n",
       "City_ Hyderabad              1.859754\n",
       "City_ Mumbai                 1.465419\n",
       "City_ Thiruvananthapuram     8.145573\n",
       "City_Unknown                15.346751\n",
       "dtype: float64"
      ]
     },
     "execution_count": 80,
     "metadata": {},
     "output_type": "execute_result"
    }
   ],
   "source": [
    "#Lets check the skewness  again in train  data\n",
    "dftr.skew()"
   ]
  },
  {
   "cell_type": "code",
   "execution_count": 81,
   "metadata": {
    "scrolled": true
   },
   "outputs": [],
   "source": [
    "#Lets reduce negative skewness in train data\n",
    "for col in dftr.columns:                                      \n",
    "    if dftr.skew().loc[col]<-0.55:\n",
    "        dftr[col]=np.power(dftr[col],2)\n"
   ]
  },
  {
   "cell_type": "code",
   "execution_count": 82,
   "metadata": {},
   "outputs": [
    {
     "data": {
      "text/plain": [
       "num_rating                   0.279966\n",
       "Exp                          0.925722\n",
       "Locality                     0.036802\n",
       "No.of Qual                   2.684026\n",
       "qual_1                       0.013098\n",
       "qual_2                      -0.458845\n",
       "qual_3                      -2.177083\n",
       "qual_4                      -5.039675\n",
       "Prof_Dentist                 1.339264\n",
       "Prof_Dermatologists          1.752626\n",
       "Prof_ENT Specialist          2.365989\n",
       "Prof_General Medicine        1.328775\n",
       "Prof_Homeopath               2.083705\n",
       "City_ Chennai                2.024439\n",
       "City_ Coimbatore             5.045856\n",
       "City_ Delhi                  1.426066\n",
       "City_ Ernakulam              6.203118\n",
       "City_ Hyderabad              1.781316\n",
       "City_ Mumbai                 1.534586\n",
       "City_ Thiruvananthapuram    10.680036\n",
       "City_Unknown                18.129143\n",
       "dtype: float64"
      ]
     },
     "execution_count": 82,
     "metadata": {},
     "output_type": "execute_result"
    }
   ],
   "source": [
    "#Lets check the skewness in  test data\n",
    "dfte.skew()"
   ]
  },
  {
   "cell_type": "code",
   "execution_count": 83,
   "metadata": {},
   "outputs": [],
   "source": [
    "#Lets reduce positive skewness in test data \n",
    "for col in dfte.columns:                                      \n",
    "    if dfte.skew().loc[col]>0.55:\n",
    "        dfte[col]=np.log1p(dfte[col])"
   ]
  },
  {
   "cell_type": "code",
   "execution_count": 84,
   "metadata": {
    "scrolled": true
   },
   "outputs": [
    {
     "data": {
      "text/plain": [
       "num_rating                   0.279966\n",
       "Exp                         -0.993708\n",
       "Locality                     0.036802\n",
       "No.of Qual                   0.367794\n",
       "qual_1                       0.013098\n",
       "qual_2                      -0.458845\n",
       "qual_3                      -2.177083\n",
       "qual_4                      -5.039675\n",
       "Prof_Dentist                 1.339264\n",
       "Prof_Dermatologists          1.752626\n",
       "Prof_ENT Specialist          2.365989\n",
       "Prof_General Medicine        1.328775\n",
       "Prof_Homeopath               2.083705\n",
       "City_ Chennai                2.024439\n",
       "City_ Coimbatore             5.045856\n",
       "City_ Delhi                  1.426066\n",
       "City_ Ernakulam              6.203118\n",
       "City_ Hyderabad              1.781316\n",
       "City_ Mumbai                 1.534586\n",
       "City_ Thiruvananthapuram    10.680036\n",
       "City_Unknown                18.129143\n",
       "dtype: float64"
      ]
     },
     "execution_count": 84,
     "metadata": {},
     "output_type": "execute_result"
    }
   ],
   "source": [
    "#Lets check the skewness again\n",
    "dfte.skew()"
   ]
  },
  {
   "cell_type": "code",
   "execution_count": 85,
   "metadata": {},
   "outputs": [],
   "source": [
    "#Lets reduce negative skewness in test data\n",
    "for col in dfte.columns:                                      \n",
    "    if dfte.skew().loc[col]<-0.55:\n",
    "        dfte[col]=np.power(dfte[col],2)\n"
   ]
  },
  {
   "cell_type": "code",
   "execution_count": 86,
   "metadata": {
    "scrolled": true
   },
   "outputs": [
    {
     "data": {
      "text/plain": [
       "num_rating                   0.279966\n",
       "Exp                          0.137517\n",
       "Locality                     0.036802\n",
       "No.of Qual                   0.367794\n",
       "qual_1                       0.013098\n",
       "qual_2                      -0.458845\n",
       "qual_3                      -1.866031\n",
       "qual_4                      -4.450106\n",
       "Prof_Dentist                 1.339264\n",
       "Prof_Dermatologists          1.752626\n",
       "Prof_ENT Specialist          2.365989\n",
       "Prof_General Medicine        1.328775\n",
       "Prof_Homeopath               2.083705\n",
       "City_ Chennai                2.024439\n",
       "City_ Coimbatore             5.045856\n",
       "City_ Delhi                  1.426066\n",
       "City_ Ernakulam              6.203118\n",
       "City_ Hyderabad              1.781316\n",
       "City_ Mumbai                 1.534586\n",
       "City_ Thiruvananthapuram    10.680036\n",
       "City_Unknown                18.129143\n",
       "dtype: float64"
      ]
     },
     "execution_count": 86,
     "metadata": {},
     "output_type": "execute_result"
    }
   ],
   "source": [
    "#Lets check the skewness again\n",
    "dfte.skew()"
   ]
  },
  {
   "cell_type": "code",
   "execution_count": 87,
   "metadata": {},
   "outputs": [
    {
     "name": "stdout",
     "output_type": "stream",
     "text": [
      "The shape of original dataframe was = (5960, 22)\n",
      "The shape of dataframe after removing outliers is = (5917, 22)\n"
     ]
    }
   ],
   "source": [
    "# Lets remove the outliers if any\n",
    "from scipy.stats import zscore\n",
    "colm=dftr[['Fees','Exp','No.of Qual']]\n",
    "z_score =abs(zscore(colm))\n",
    "dfx = dftr.loc[(z_score<3).all(axis=1)]\n",
    "print('The shape of original dataframe was =', dftr.shape)\n",
    "print('The shape of dataframe after removing outliers is =', dfx.shape)\n",
    "# There were few outliers which have been removed"
   ]
  },
  {
   "cell_type": "code",
   "execution_count": 88,
   "metadata": {
    "scrolled": true
   },
   "outputs": [],
   "source": [
    "#Now lets seperate features and target\n",
    "xtrain=dfx.drop('Fees',axis=1)\n",
    "ytrain=dfx[['Fees']]"
   ]
  },
  {
   "cell_type": "code",
   "execution_count": 89,
   "metadata": {},
   "outputs": [
    {
     "data": {
      "text/html": [
       "<div>\n",
       "<style scoped>\n",
       "    .dataframe tbody tr th:only-of-type {\n",
       "        vertical-align: middle;\n",
       "    }\n",
       "\n",
       "    .dataframe tbody tr th {\n",
       "        vertical-align: top;\n",
       "    }\n",
       "\n",
       "    .dataframe thead th {\n",
       "        text-align: right;\n",
       "    }\n",
       "</style>\n",
       "<table border=\"1\" class=\"dataframe\">\n",
       "  <thead>\n",
       "    <tr style=\"text-align: right;\">\n",
       "      <th></th>\n",
       "      <th>num_rating</th>\n",
       "      <th>Exp</th>\n",
       "      <th>Locality</th>\n",
       "      <th>No.of Qual</th>\n",
       "      <th>qual_1</th>\n",
       "      <th>qual_2</th>\n",
       "      <th>qual_3</th>\n",
       "      <th>qual_4</th>\n",
       "      <th>Prof_Dentist</th>\n",
       "      <th>Prof_Dermatologists</th>\n",
       "      <th>...</th>\n",
       "      <th>Prof_General Medicine</th>\n",
       "      <th>Prof_Homeopath</th>\n",
       "      <th>City_ Chennai</th>\n",
       "      <th>City_ Coimbatore</th>\n",
       "      <th>City_ Delhi</th>\n",
       "      <th>City_ Ernakulam</th>\n",
       "      <th>City_ Hyderabad</th>\n",
       "      <th>City_ Mumbai</th>\n",
       "      <th>City_ Thiruvananthapuram</th>\n",
       "      <th>City_Unknown</th>\n",
       "    </tr>\n",
       "  </thead>\n",
       "  <tbody>\n",
       "    <tr>\n",
       "      <th>0</th>\n",
       "      <td>8</td>\n",
       "      <td>10.361162</td>\n",
       "      <td>296</td>\n",
       "      <td>1.098612</td>\n",
       "      <td>8</td>\n",
       "      <td>63504</td>\n",
       "      <td>164836</td>\n",
       "      <td>44944</td>\n",
       "      <td>0.0</td>\n",
       "      <td>0.0</td>\n",
       "      <td>...</td>\n",
       "      <td>0.0</td>\n",
       "      <td>0.693359</td>\n",
       "      <td>0.000000</td>\n",
       "      <td>0.0</td>\n",
       "      <td>0.0</td>\n",
       "      <td>0.693359</td>\n",
       "      <td>0.0</td>\n",
       "      <td>0.0</td>\n",
       "      <td>0.0</td>\n",
       "      <td>0.0</td>\n",
       "    </tr>\n",
       "    <tr>\n",
       "      <th>1</th>\n",
       "      <td>8</td>\n",
       "      <td>6.578965</td>\n",
       "      <td>856</td>\n",
       "      <td>1.098612</td>\n",
       "      <td>5</td>\n",
       "      <td>58081</td>\n",
       "      <td>164836</td>\n",
       "      <td>44944</td>\n",
       "      <td>0.0</td>\n",
       "      <td>0.0</td>\n",
       "      <td>...</td>\n",
       "      <td>0.0</td>\n",
       "      <td>0.000000</td>\n",
       "      <td>0.000000</td>\n",
       "      <td>0.0</td>\n",
       "      <td>0.0</td>\n",
       "      <td>0.000000</td>\n",
       "      <td>0.0</td>\n",
       "      <td>0.0</td>\n",
       "      <td>0.0</td>\n",
       "      <td>0.0</td>\n",
       "    </tr>\n",
       "    <tr>\n",
       "      <th>2</th>\n",
       "      <td>0</td>\n",
       "      <td>5.301898</td>\n",
       "      <td>452</td>\n",
       "      <td>1.098612</td>\n",
       "      <td>79</td>\n",
       "      <td>111556</td>\n",
       "      <td>164836</td>\n",
       "      <td>44944</td>\n",
       "      <td>0.0</td>\n",
       "      <td>0.0</td>\n",
       "      <td>...</td>\n",
       "      <td>0.0</td>\n",
       "      <td>0.000000</td>\n",
       "      <td>0.000000</td>\n",
       "      <td>0.0</td>\n",
       "      <td>0.0</td>\n",
       "      <td>0.000000</td>\n",
       "      <td>0.0</td>\n",
       "      <td>0.0</td>\n",
       "      <td>0.0</td>\n",
       "      <td>0.0</td>\n",
       "    </tr>\n",
       "    <tr>\n",
       "      <th>3</th>\n",
       "      <td>0</td>\n",
       "      <td>6.578965</td>\n",
       "      <td>68</td>\n",
       "      <td>1.098612</td>\n",
       "      <td>12</td>\n",
       "      <td>49</td>\n",
       "      <td>164836</td>\n",
       "      <td>44944</td>\n",
       "      <td>0.0</td>\n",
       "      <td>0.0</td>\n",
       "      <td>...</td>\n",
       "      <td>0.0</td>\n",
       "      <td>0.000000</td>\n",
       "      <td>0.000000</td>\n",
       "      <td>0.0</td>\n",
       "      <td>0.0</td>\n",
       "      <td>0.000000</td>\n",
       "      <td>0.0</td>\n",
       "      <td>0.0</td>\n",
       "      <td>0.0</td>\n",
       "      <td>0.0</td>\n",
       "    </tr>\n",
       "    <tr>\n",
       "      <th>4</th>\n",
       "      <td>8</td>\n",
       "      <td>9.269117</td>\n",
       "      <td>335</td>\n",
       "      <td>0.693147</td>\n",
       "      <td>5</td>\n",
       "      <td>181476</td>\n",
       "      <td>164836</td>\n",
       "      <td>44944</td>\n",
       "      <td>0.0</td>\n",
       "      <td>0.0</td>\n",
       "      <td>...</td>\n",
       "      <td>0.0</td>\n",
       "      <td>0.000000</td>\n",
       "      <td>0.693359</td>\n",
       "      <td>0.0</td>\n",
       "      <td>0.0</td>\n",
       "      <td>0.000000</td>\n",
       "      <td>0.0</td>\n",
       "      <td>0.0</td>\n",
       "      <td>0.0</td>\n",
       "      <td>0.0</td>\n",
       "    </tr>\n",
       "  </tbody>\n",
       "</table>\n",
       "<p>5 rows × 21 columns</p>\n",
       "</div>"
      ],
      "text/plain": [
       "   num_rating        Exp  Locality  No.of Qual  qual_1  qual_2  qual_3  \\\n",
       "0           8  10.361162       296    1.098612       8   63504  164836   \n",
       "1           8   6.578965       856    1.098612       5   58081  164836   \n",
       "2           0   5.301898       452    1.098612      79  111556  164836   \n",
       "3           0   6.578965        68    1.098612      12      49  164836   \n",
       "4           8   9.269117       335    0.693147       5  181476  164836   \n",
       "\n",
       "   qual_4  Prof_Dentist  Prof_Dermatologists  ...  Prof_General Medicine  \\\n",
       "0   44944           0.0                  0.0  ...                    0.0   \n",
       "1   44944           0.0                  0.0  ...                    0.0   \n",
       "2   44944           0.0                  0.0  ...                    0.0   \n",
       "3   44944           0.0                  0.0  ...                    0.0   \n",
       "4   44944           0.0                  0.0  ...                    0.0   \n",
       "\n",
       "   Prof_Homeopath  City_ Chennai  City_ Coimbatore  City_ Delhi  \\\n",
       "0        0.693359       0.000000               0.0          0.0   \n",
       "1        0.000000       0.000000               0.0          0.0   \n",
       "2        0.000000       0.000000               0.0          0.0   \n",
       "3        0.000000       0.000000               0.0          0.0   \n",
       "4        0.000000       0.693359               0.0          0.0   \n",
       "\n",
       "   City_ Ernakulam  City_ Hyderabad  City_ Mumbai  City_ Thiruvananthapuram  \\\n",
       "0         0.693359              0.0           0.0                       0.0   \n",
       "1         0.000000              0.0           0.0                       0.0   \n",
       "2         0.000000              0.0           0.0                       0.0   \n",
       "3         0.000000              0.0           0.0                       0.0   \n",
       "4         0.000000              0.0           0.0                       0.0   \n",
       "\n",
       "   City_Unknown  \n",
       "0           0.0  \n",
       "1           0.0  \n",
       "2           0.0  \n",
       "3           0.0  \n",
       "4           0.0  \n",
       "\n",
       "[5 rows x 21 columns]"
      ]
     },
     "execution_count": 89,
     "metadata": {},
     "output_type": "execute_result"
    }
   ],
   "source": [
    "#Lets see the first five rows of features\n",
    "xtrain.head()"
   ]
  },
  {
   "cell_type": "code",
   "execution_count": 90,
   "metadata": {
    "scrolled": true
   },
   "outputs": [
    {
     "data": {
      "text/html": [
       "<div>\n",
       "<style scoped>\n",
       "    .dataframe tbody tr th:only-of-type {\n",
       "        vertical-align: middle;\n",
       "    }\n",
       "\n",
       "    .dataframe tbody tr th {\n",
       "        vertical-align: top;\n",
       "    }\n",
       "\n",
       "    .dataframe thead th {\n",
       "        text-align: right;\n",
       "    }\n",
       "</style>\n",
       "<table border=\"1\" class=\"dataframe\">\n",
       "  <thead>\n",
       "    <tr style=\"text-align: right;\">\n",
       "      <th></th>\n",
       "      <th>Fees</th>\n",
       "    </tr>\n",
       "  </thead>\n",
       "  <tbody>\n",
       "    <tr>\n",
       "      <th>0</th>\n",
       "      <td>4.615121</td>\n",
       "    </tr>\n",
       "    <tr>\n",
       "      <th>1</th>\n",
       "      <td>5.860786</td>\n",
       "    </tr>\n",
       "    <tr>\n",
       "      <th>2</th>\n",
       "      <td>5.707110</td>\n",
       "    </tr>\n",
       "    <tr>\n",
       "      <th>3</th>\n",
       "      <td>5.525453</td>\n",
       "    </tr>\n",
       "    <tr>\n",
       "      <th>4</th>\n",
       "      <td>5.525453</td>\n",
       "    </tr>\n",
       "  </tbody>\n",
       "</table>\n",
       "</div>"
      ],
      "text/plain": [
       "       Fees\n",
       "0  4.615121\n",
       "1  5.860786\n",
       "2  5.707110\n",
       "3  5.525453\n",
       "4  5.525453"
      ]
     },
     "execution_count": 90,
     "metadata": {},
     "output_type": "execute_result"
    }
   ],
   "source": [
    "#Lets see the first five rows of target\n",
    "ytrain.head()"
   ]
  },
  {
   "cell_type": "code",
   "execution_count": 91,
   "metadata": {},
   "outputs": [],
   "source": [
    "#Lets import the algorithims/models to be evaluated  AND OTHER REQUIRED LIBRARIES\n",
    "from sklearn.linear_model import LinearRegression\n",
    "from sklearn.svm import SVR\n",
    "from sklearn.tree import DecisionTreeRegressor\n",
    "from sklearn.neighbors import KNeighborsRegressor\n",
    "from sklearn.linear_model import Lasso\n",
    "from sklearn.linear_model import Ridge\n",
    "from sklearn.linear_model import ElasticNet\n",
    "from sklearn.model_selection import cross_val_score\n",
    "from sklearn.model_selection import KFold\n",
    "from sklearn.metrics import r2_score,mean_absolute_error,mean_squared_error\n",
    "from sklearn.preprocessing import StandardScaler\n",
    "from sklearn.model_selection import train_test_split\n",
    "from sklearn.pipeline import Pipeline"
   ]
  },
  {
   "cell_type": "raw",
   "metadata": {},
   "source": [
    "Lets see which of the algorithims performs well on the given data\n",
    "Lets test Linear Regression, Decision Tree, SVM,KNN,LASSO,RIDGE and Elastic Net\n",
    "Let choose mse as metric of evaluation"
   ]
  },
  {
   "cell_type": "code",
   "execution_count": 92,
   "metadata": {},
   "outputs": [],
   "source": [
    "# Lets import standard scaler as distance based algorithim require data to be in same scale\n",
    "from sklearn.preprocessing import StandardScaler\n",
    "# Lets create a list of models to be evaluated ALONG with pipeline\n",
    "pipelines = []\n",
    "pipelines.append(('LR', Pipeline([('Scaler', StandardScaler()),('LR', LinearRegression())])))\n",
    "pipelines.append(('Lasso', Pipeline([('Scaler', StandardScaler()),('Lasso',Lasso(random_state=5))])))\n",
    "pipelines.append(('Ridge', Pipeline([('Scaler', StandardScaler()),('Ridge', Ridge(random_state=5))])))\n",
    "pipelines.append(('EN', Pipeline([('Scaler', StandardScaler()),('EN', ElasticNet(random_state=5))])))\n",
    "pipelines.append(('DT', Pipeline([('Scaler', StandardScaler()),('DT', DecisionTreeRegressor(random_state=5))])))\n",
    "pipelines.append(('SVR', Pipeline([('Scaler', StandardScaler()),('SVM', SVR())])))\n",
    "pipelines.append(('KNN', Pipeline([('Scaler', StandardScaler()),('KNN', KNeighborsRegressor())])))"
   ]
  },
  {
   "cell_type": "code",
   "execution_count": 93,
   "metadata": {},
   "outputs": [
    {
     "name": "stdout",
     "output_type": "stream",
     "text": [
      "LR: -0.369828 (0.014507)\n",
      "Lasso: -0.454399 (0.014993)\n",
      "Ridge: -0.369827 (0.014507)\n",
      "EN: -0.454399 (0.014993)\n",
      "DT: -0.655186 (0.027976)\n",
      "SVR: -0.384352 (0.023220)\n",
      "KNN: -0.419605 (0.014565)\n"
     ]
    }
   ],
   "source": [
    "#Let us check which model will perform well on the given data on the basis of mean crossval score(neg_mean_squared_error) and its std dev\n",
    "results1 = []\n",
    "names1 = []\n",
    "for name, model in pipelines: \n",
    "    kfold1 = KFold(n_splits=10, random_state=1) \n",
    "    cv_results1 = cross_val_score(model, xtrain, ytrain, cv=kfold1, scoring='neg_mean_squared_error') \n",
    "    results1.append(cv_results1.mean()) \n",
    "    names1.append(name) \n",
    "    msg = \"%s: %f (%f)\" % (name, cv_results1.mean(), cv_results1.std())\n",
    "    print(msg)"
   ]
  },
  {
   "cell_type": "code",
   "execution_count": 94,
   "metadata": {},
   "outputs": [
    {
     "name": "stdout",
     "output_type": "stream",
     "text": [
      "LR: 0.184859 (0.018225)\n",
      "Lasso: -0.001524 (0.001662)\n",
      "Ridge: 0.184861 (0.018226)\n",
      "EN: -0.001524 (0.001662)\n",
      "DT: -0.445936 (0.084539)\n",
      "SVR: 0.152927 (0.041534)\n",
      "KNN: 0.074791 (0.027641)\n"
     ]
    }
   ],
   "source": [
    "#Let us check which model will perform well on the given data on the basis of mean crossval r2score and its std dev\n",
    "results = []\n",
    "names = []\n",
    "for name, model in pipelines: \n",
    "    kfold = KFold(n_splits=10, random_state=1) \n",
    "    cv_results = cross_val_score(model, xtrain, ytrain, cv=kfold, scoring='r2') \n",
    "    results.append(cv_results.mean()) \n",
    "    names.append(name) \n",
    "    msg = \"%s: %f (%f)\" % (name, cv_results.mean(), cv_results.std())\n",
    "    print(msg)"
   ]
  },
  {
   "cell_type": "code",
   "execution_count": 95,
   "metadata": {},
   "outputs": [
    {
     "data": {
      "text/html": [
       "<div>\n",
       "<style scoped>\n",
       "    .dataframe tbody tr th:only-of-type {\n",
       "        vertical-align: middle;\n",
       "    }\n",
       "\n",
       "    .dataframe tbody tr th {\n",
       "        vertical-align: top;\n",
       "    }\n",
       "\n",
       "    .dataframe thead th {\n",
       "        text-align: right;\n",
       "    }\n",
       "</style>\n",
       "<table border=\"1\" class=\"dataframe\">\n",
       "  <thead>\n",
       "    <tr style=\"text-align: right;\">\n",
       "      <th></th>\n",
       "      <th>ModelName</th>\n",
       "      <th>R2_score</th>\n",
       "      <th>NMSE</th>\n",
       "    </tr>\n",
       "  </thead>\n",
       "  <tbody>\n",
       "    <tr>\n",
       "      <th>2</th>\n",
       "      <td>Ridge</td>\n",
       "      <td>0.184861</td>\n",
       "      <td>-0.369827</td>\n",
       "    </tr>\n",
       "    <tr>\n",
       "      <th>0</th>\n",
       "      <td>LR</td>\n",
       "      <td>0.184859</td>\n",
       "      <td>-0.369828</td>\n",
       "    </tr>\n",
       "    <tr>\n",
       "      <th>5</th>\n",
       "      <td>SVR</td>\n",
       "      <td>0.152927</td>\n",
       "      <td>-0.384352</td>\n",
       "    </tr>\n",
       "    <tr>\n",
       "      <th>6</th>\n",
       "      <td>KNN</td>\n",
       "      <td>0.074791</td>\n",
       "      <td>-0.419605</td>\n",
       "    </tr>\n",
       "    <tr>\n",
       "      <th>1</th>\n",
       "      <td>Lasso</td>\n",
       "      <td>-0.001524</td>\n",
       "      <td>-0.454399</td>\n",
       "    </tr>\n",
       "    <tr>\n",
       "      <th>3</th>\n",
       "      <td>EN</td>\n",
       "      <td>-0.001524</td>\n",
       "      <td>-0.454399</td>\n",
       "    </tr>\n",
       "    <tr>\n",
       "      <th>4</th>\n",
       "      <td>DT</td>\n",
       "      <td>-0.445936</td>\n",
       "      <td>-0.655186</td>\n",
       "    </tr>\n",
       "  </tbody>\n",
       "</table>\n",
       "</div>"
      ],
      "text/plain": [
       "  ModelName  R2_score      NMSE\n",
       "2     Ridge  0.184861 -0.369827\n",
       "0        LR  0.184859 -0.369828\n",
       "5       SVR  0.152927 -0.384352\n",
       "6       KNN  0.074791 -0.419605\n",
       "1     Lasso -0.001524 -0.454399\n",
       "3        EN -0.001524 -0.454399\n",
       "4        DT -0.445936 -0.655186"
      ]
     },
     "execution_count": 95,
     "metadata": {},
     "output_type": "execute_result"
    }
   ],
   "source": [
    "#Lets create a comparison\n",
    "Comparison = pd.DataFrame({'ModelName':names,'R2_score': results,'NMSE':results1})\n",
    "Comparison.sort_values(by='R2_score', ascending=False)"
   ]
  },
  {
   "cell_type": "code",
   "execution_count": 96,
   "metadata": {},
   "outputs": [],
   "source": [
    "#Lets see if ensemble technique can perform better\n",
    "#lETS CREATE PIPLELINE FOR ENSEMBLE TECHNIQUE\n",
    "from sklearn.ensemble import RandomForestRegressor\n",
    "from sklearn.ensemble import AdaBoostRegressor\n",
    "from sklearn.ensemble import GradientBoostingRegressor\n",
    "pipelines1 = []\n",
    "pipelines1.append(('RF', Pipeline([('Scaler', StandardScaler()),('RF', RandomForestRegressor(random_state=5))])))\n",
    "pipelines1.append(('ADC', Pipeline([('Scaler', StandardScaler()),('ADC', AdaBoostRegressor(random_state=5))])))\n",
    "pipelines1.append(('GBC', Pipeline([('Scaler', StandardScaler()),('GBC', GradientBoostingRegressor(random_state=5))])))"
   ]
  },
  {
   "cell_type": "code",
   "execution_count": 97,
   "metadata": {},
   "outputs": [
    {
     "name": "stdout",
     "output_type": "stream",
     "text": [
      "RF: -0.395373 (0.019552)\n",
      "ADC: -0.389931 (0.015571)\n",
      "GBC: -0.348762 (0.016163)\n"
     ]
    }
   ],
   "source": [
    "#lets  see  the performance if any of the three chosen ensemble technique  with default paramters can perform better in terms of NMSE\n",
    "\n",
    "results2 = []\n",
    "names2 = []\n",
    "for name, model in pipelines1: \n",
    "    kfold2 = KFold(n_splits=10, random_state=1) \n",
    "    cv_results2 = cross_val_score(model, xtrain, ytrain, cv=kfold2, scoring='neg_mean_squared_error') \n",
    "    results2.append(cv_results2.mean()) \n",
    "    names2.append(name) \n",
    "    msg2 = \"%s: %f (%f)\" % (name, cv_results2.mean(), cv_results2.std())\n",
    "    print(msg2)"
   ]
  },
  {
   "cell_type": "code",
   "execution_count": 98,
   "metadata": {},
   "outputs": [
    {
     "name": "stdout",
     "output_type": "stream",
     "text": [
      "RF: 0.128513 (0.034171)\n",
      "ADC: 0.140702 (0.011877)\n",
      "GBC: 0.231352 (0.023669)\n"
     ]
    }
   ],
   "source": [
    "#lets  see  the performance if any of the three chosen ensemble technique  with default paramters can perform better in terms of r2 score\n",
    "results3 = []\n",
    "names3 = []\n",
    "for name, model in pipelines1: \n",
    "    kfold3 = KFold(n_splits=10, random_state=1) \n",
    "    cv_results3 = cross_val_score(model, xtrain, ytrain, cv=kfold3, scoring='r2') \n",
    "    results3.append(cv_results3.mean()) \n",
    "    names3.append(name) \n",
    "    msg3 = \"%s: %f (%f)\" % (name, cv_results3.mean(), cv_results3.std())\n",
    "    print(msg3) "
   ]
  },
  {
   "cell_type": "code",
   "execution_count": 99,
   "metadata": {},
   "outputs": [
    {
     "data": {
      "text/html": [
       "<div>\n",
       "<style scoped>\n",
       "    .dataframe tbody tr th:only-of-type {\n",
       "        vertical-align: middle;\n",
       "    }\n",
       "\n",
       "    .dataframe tbody tr th {\n",
       "        vertical-align: top;\n",
       "    }\n",
       "\n",
       "    .dataframe thead th {\n",
       "        text-align: right;\n",
       "    }\n",
       "</style>\n",
       "<table border=\"1\" class=\"dataframe\">\n",
       "  <thead>\n",
       "    <tr style=\"text-align: right;\">\n",
       "      <th></th>\n",
       "      <th>ModelName</th>\n",
       "      <th>R2_score</th>\n",
       "      <th>NMSE</th>\n",
       "    </tr>\n",
       "  </thead>\n",
       "  <tbody>\n",
       "    <tr>\n",
       "      <th>2</th>\n",
       "      <td>GBC</td>\n",
       "      <td>0.231352</td>\n",
       "      <td>-0.348762</td>\n",
       "    </tr>\n",
       "    <tr>\n",
       "      <th>1</th>\n",
       "      <td>ADC</td>\n",
       "      <td>0.140702</td>\n",
       "      <td>-0.389931</td>\n",
       "    </tr>\n",
       "    <tr>\n",
       "      <th>0</th>\n",
       "      <td>RF</td>\n",
       "      <td>0.128513</td>\n",
       "      <td>-0.395373</td>\n",
       "    </tr>\n",
       "  </tbody>\n",
       "</table>\n",
       "</div>"
      ],
      "text/plain": [
       "  ModelName  R2_score      NMSE\n",
       "2       GBC  0.231352 -0.348762\n",
       "1       ADC  0.140702 -0.389931\n",
       "0        RF  0.128513 -0.395373"
      ]
     },
     "execution_count": 99,
     "metadata": {},
     "output_type": "execute_result"
    }
   ],
   "source": [
    "#Lets see the comparison between ensemble techniques\n",
    "Comparison2 = pd.DataFrame({'ModelName':names2,'R2_score': results3,'NMSE':results2})\n",
    "Comparison2.sort_values(by='R2_score', ascending=False)"
   ]
  },
  {
   "cell_type": "code",
   "execution_count": 100,
   "metadata": {},
   "outputs": [
    {
     "data": {
      "text/html": [
       "<div>\n",
       "<style scoped>\n",
       "    .dataframe tbody tr th:only-of-type {\n",
       "        vertical-align: middle;\n",
       "    }\n",
       "\n",
       "    .dataframe tbody tr th {\n",
       "        vertical-align: top;\n",
       "    }\n",
       "\n",
       "    .dataframe thead th {\n",
       "        text-align: right;\n",
       "    }\n",
       "</style>\n",
       "<table border=\"1\" class=\"dataframe\">\n",
       "  <thead>\n",
       "    <tr style=\"text-align: right;\">\n",
       "      <th></th>\n",
       "      <th>ModelName</th>\n",
       "      <th>R2_score</th>\n",
       "      <th>NMSE</th>\n",
       "    </tr>\n",
       "  </thead>\n",
       "  <tbody>\n",
       "    <tr>\n",
       "      <th>2</th>\n",
       "      <td>GBC</td>\n",
       "      <td>0.231352</td>\n",
       "      <td>-0.348762</td>\n",
       "    </tr>\n",
       "    <tr>\n",
       "      <th>2</th>\n",
       "      <td>Ridge</td>\n",
       "      <td>0.184861</td>\n",
       "      <td>-0.369827</td>\n",
       "    </tr>\n",
       "    <tr>\n",
       "      <th>0</th>\n",
       "      <td>LR</td>\n",
       "      <td>0.184859</td>\n",
       "      <td>-0.369828</td>\n",
       "    </tr>\n",
       "    <tr>\n",
       "      <th>5</th>\n",
       "      <td>SVR</td>\n",
       "      <td>0.152927</td>\n",
       "      <td>-0.384352</td>\n",
       "    </tr>\n",
       "    <tr>\n",
       "      <th>1</th>\n",
       "      <td>ADC</td>\n",
       "      <td>0.140702</td>\n",
       "      <td>-0.389931</td>\n",
       "    </tr>\n",
       "    <tr>\n",
       "      <th>0</th>\n",
       "      <td>RF</td>\n",
       "      <td>0.128513</td>\n",
       "      <td>-0.395373</td>\n",
       "    </tr>\n",
       "    <tr>\n",
       "      <th>6</th>\n",
       "      <td>KNN</td>\n",
       "      <td>0.074791</td>\n",
       "      <td>-0.419605</td>\n",
       "    </tr>\n",
       "    <tr>\n",
       "      <th>1</th>\n",
       "      <td>Lasso</td>\n",
       "      <td>-0.001524</td>\n",
       "      <td>-0.454399</td>\n",
       "    </tr>\n",
       "    <tr>\n",
       "      <th>3</th>\n",
       "      <td>EN</td>\n",
       "      <td>-0.001524</td>\n",
       "      <td>-0.454399</td>\n",
       "    </tr>\n",
       "    <tr>\n",
       "      <th>4</th>\n",
       "      <td>DT</td>\n",
       "      <td>-0.445936</td>\n",
       "      <td>-0.655186</td>\n",
       "    </tr>\n",
       "  </tbody>\n",
       "</table>\n",
       "</div>"
      ],
      "text/plain": [
       "  ModelName  R2_score      NMSE\n",
       "2       GBC  0.231352 -0.348762\n",
       "2     Ridge  0.184861 -0.369827\n",
       "0        LR  0.184859 -0.369828\n",
       "5       SVR  0.152927 -0.384352\n",
       "1       ADC  0.140702 -0.389931\n",
       "0        RF  0.128513 -0.395373\n",
       "6       KNN  0.074791 -0.419605\n",
       "1     Lasso -0.001524 -0.454399\n",
       "3        EN -0.001524 -0.454399\n",
       "4        DT -0.445936 -0.655186"
      ]
     },
     "execution_count": 100,
     "metadata": {},
     "output_type": "execute_result"
    }
   ],
   "source": [
    "#Lets see the comparison between all the basic and ensemble techniques\n",
    "final_comparison =pd.concat([Comparison,Comparison2])\n",
    "final_comparison.sort_values(by='R2_score', ascending=False)"
   ]
  },
  {
   "cell_type": "raw",
   "metadata": {},
   "source": [
    "Findings:  Gradient Boosting Regressor is performing best as it is giving best r2 score and least nmse"
   ]
  },
  {
   "cell_type": "code",
   "execution_count": 101,
   "metadata": {},
   "outputs": [],
   "source": [
    "#Lets create kfold\n",
    "kfoldx = KFold(n_splits=10, random_state=1)"
   ]
  },
  {
   "cell_type": "code",
   "execution_count": 102,
   "metadata": {},
   "outputs": [
    {
     "name": "stdout",
     "output_type": "stream",
     "text": [
      "Fitting 10 folds for each of 216 candidates, totalling 2160 fits\n"
     ]
    },
    {
     "name": "stderr",
     "output_type": "stream",
     "text": [
      "[Parallel(n_jobs=-1)]: Using backend LokyBackend with 4 concurrent workers.\n",
      "[Parallel(n_jobs=-1)]: Done  42 tasks      | elapsed:    9.8s\n",
      "[Parallel(n_jobs=-1)]: Done 192 tasks      | elapsed:   35.6s\n",
      "[Parallel(n_jobs=-1)]: Done 442 tasks      | elapsed:  1.8min\n",
      "[Parallel(n_jobs=-1)]: Done 792 tasks      | elapsed:  3.6min\n",
      "[Parallel(n_jobs=-1)]: Done 1242 tasks      | elapsed:  5.4min\n",
      "[Parallel(n_jobs=-1)]: Done 1792 tasks      | elapsed:  7.6min\n",
      "[Parallel(n_jobs=-1)]: Done 2160 out of 2160 | elapsed:  9.8min finished\n"
     ]
    }
   ],
   "source": [
    "#Lets try to check if  cross val performance of GBC can be increased by tuning parameters\n",
    "from sklearn.model_selection import GridSearchCV\n",
    "scaler = StandardScaler().fit(xtrain)\n",
    "scXtrain = scaler.transform(xtrain)\n",
    "\n",
    "param_grid = {'n_estimators': [50,100,200,300],'learning_rate': [0.05,0.1,0.2],'max_depth': [2,3,4],'min_samples_split': [2,3,4], 'min_samples_leaf':[1,2]}\n",
    "mod = GradientBoostingRegressor(random_state=5)\n",
    "grid = GridSearchCV(estimator=mod, param_grid=param_grid, scoring='r2', cv=kfoldx,n_jobs=-1,verbose=True)\n",
    "grid_result = grid.fit(scXtrain, ytrain)"
   ]
  },
  {
   "cell_type": "code",
   "execution_count": 103,
   "metadata": {},
   "outputs": [
    {
     "data": {
      "text/plain": [
       "0.2502941488239198"
      ]
     },
     "execution_count": 103,
     "metadata": {},
     "output_type": "execute_result"
    }
   ],
   "source": [
    "#Lets see the best score\n",
    "grid_result.best_score_\n",
    "# we can see the r2 score has been improved from 0.2313 to 0.2502"
   ]
  },
  {
   "cell_type": "code",
   "execution_count": 104,
   "metadata": {},
   "outputs": [
    {
     "data": {
      "text/plain": [
       "{'learning_rate': 0.1,\n",
       " 'max_depth': 4,\n",
       " 'min_samples_leaf': 2,\n",
       " 'min_samples_split': 2,\n",
       " 'n_estimators': 200}"
      ]
     },
     "execution_count": 104,
     "metadata": {},
     "output_type": "execute_result"
    }
   ],
   "source": [
    "#Lets see the best parameters\n",
    "grid_result.best_params_"
   ]
  },
  {
   "cell_type": "code",
   "execution_count": 106,
   "metadata": {},
   "outputs": [
    {
     "data": {
      "text/plain": [
       "GradientBoostingRegressor(alpha=0.9, criterion='friedman_mse', init=None,\n",
       "             learning_rate=0.1, loss='ls', max_depth=4, max_features=None,\n",
       "             max_leaf_nodes=None, min_impurity_decrease=0.0,\n",
       "             min_impurity_split=None, min_samples_leaf=2,\n",
       "             min_samples_split=2, min_weight_fraction_leaf=0.0,\n",
       "             n_estimators=200, n_iter_no_change=None, presort='auto',\n",
       "             random_state=5, subsample=1.0, tol=0.0001,\n",
       "             validation_fraction=0.1, verbose=0, warm_start=False)"
      ]
     },
     "execution_count": 106,
     "metadata": {},
     "output_type": "execute_result"
    }
   ],
   "source": [
    "#Lets see the best estimator\n",
    "grid_result.best_estimator_"
   ]
  },
  {
   "cell_type": "code",
   "execution_count": 108,
   "metadata": {},
   "outputs": [
    {
     "name": "stdout",
     "output_type": "stream",
     "text": [
      "KFOLD Cross val nmse =  -0.34022569095706795\n",
      "KFOLD Cross val R2 =  0.250288808642377\n"
     ]
    }
   ],
   "source": [
    "# lETS CHECK ITS KFOLD CROSS VAL NMSE AND R2 SCORE\n",
    "modelf=GradientBoostingRegressor(alpha=0.9, criterion='friedman_mse', init=None,learning_rate=0.1, loss='ls', max_depth=4, max_features=None, max_leaf_nodes=None, min_impurity_decrease=0.0, min_impurity_split=None, min_samples_leaf=2,min_samples_split=2, min_weight_fraction_leaf=0.0,n_estimators=200, n_iter_no_change=None, presort='auto',random_state=5, subsample=1.0, tol=0.0001,validation_fraction=0.1, verbose=0, warm_start=False)\n",
    "\n",
    "print('KFOLD Cross val nmse = ',cross_val_score(modelf,scXtrain,ytrain,cv=kfoldx,scoring=\"neg_mean_squared_error\").mean())\n",
    "print('KFOLD Cross val R2 = ',cross_val_score(modelf,scXtrain,ytrain,cv=kfoldx,scoring=\"r2\").mean())"
   ]
  },
  {
   "cell_type": "code",
   "execution_count": 114,
   "metadata": {},
   "outputs": [],
   "source": [
    "#Lets implement the model using best parameters\n",
    "GBR = GradientBoostingRegressor(learning_rate=0.1,max_depth=4,min_samples_leaf=2,min_samples_split=2,n_estimators=200, random_state=5)\n",
    "sc = StandardScaler()\n",
    "X_train= sc.fit_transform(xtrain)\n",
    "X_test= sc.transform(dfte)\n",
    "GBR.fit(X_train,ytrain)\n",
    "ypred=GBR.predict(X_test)\n"
   ]
  },
  {
   "cell_type": "code",
   "execution_count": 115,
   "metadata": {},
   "outputs": [],
   "source": [
    "#As we have taken the log1p of fee colum to reduce skewness, we have to reverse the operation to get actual predicted values\n",
    "ypredx=np.expm1(ypred)"
   ]
  },
  {
   "cell_type": "code",
   "execution_count": 117,
   "metadata": {},
   "outputs": [],
   "source": [
    "# Lets save the predicted result to a excel file\n",
    "dfpr = pd.DataFrame(ypredx,columns=['Fees'])\n",
    "dfpr.to_csv('GBF_fee_prediction.csv')"
   ]
  },
  {
   "cell_type": "code",
   "execution_count": 118,
   "metadata": {},
   "outputs": [
    {
     "data": {
      "text/plain": [
       "['GBR_FEE_PRED.pkl']"
      ]
     },
     "execution_count": 118,
     "metadata": {},
     "output_type": "execute_result"
    }
   ],
   "source": [
    "# Lets dump our model into pkl file\n",
    "from sklearn.externals import joblib\n",
    "joblib.dump(GBR,'GBR_FEE_PRED.pkl')"
   ]
  }
 ],
 "metadata": {
  "kernelspec": {
   "display_name": "Python 3",
   "language": "python",
   "name": "python3"
  },
  "language_info": {
   "codemirror_mode": {
    "name": "ipython",
    "version": 3
   },
   "file_extension": ".py",
   "mimetype": "text/x-python",
   "name": "python",
   "nbconvert_exporter": "python",
   "pygments_lexer": "ipython3",
   "version": "3.7.3"
  }
 },
 "nbformat": 4,
 "nbformat_minor": 2
}
