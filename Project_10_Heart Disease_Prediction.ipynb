{
 "cells": [
  {
   "cell_type": "markdown",
   "metadata": {},
   "source": [
    "# PROJECT:HEART DISEASE PREDICTION"
   ]
  },
  {
   "cell_type": "code",
   "execution_count": 1,
   "metadata": {},
   "outputs": [],
   "source": [
    "#Import the required Libraries\n",
    "import pandas as pd\n",
    "import numpy as np\n",
    "import sklearn\n",
    "import seaborn as sns\n",
    "import matplotlib.pyplot as plt\n",
    "import warnings\n",
    "warnings.filterwarnings('ignore')"
   ]
  },
  {
   "cell_type": "code",
   "execution_count": 2,
   "metadata": {},
   "outputs": [],
   "source": [
    "# Lets create a dataframe from given csv file\n",
    "df = pd.read_csv(\"cleveland.csv\",names=['age', 'sex', 'cp', 'trestbps', 'chol','fbs', 'restecg', 'thalach', 'exang', \n",
    "              'oldpeak', 'slope', 'ca', 'thal', 'target'])\n"
   ]
  },
  {
   "cell_type": "code",
   "execution_count": 3,
   "metadata": {},
   "outputs": [
    {
     "data": {
      "text/html": [
       "<div>\n",
       "<style scoped>\n",
       "    .dataframe tbody tr th:only-of-type {\n",
       "        vertical-align: middle;\n",
       "    }\n",
       "\n",
       "    .dataframe tbody tr th {\n",
       "        vertical-align: top;\n",
       "    }\n",
       "\n",
       "    .dataframe thead th {\n",
       "        text-align: right;\n",
       "    }\n",
       "</style>\n",
       "<table border=\"1\" class=\"dataframe\">\n",
       "  <thead>\n",
       "    <tr style=\"text-align: right;\">\n",
       "      <th></th>\n",
       "      <th>age</th>\n",
       "      <th>sex</th>\n",
       "      <th>cp</th>\n",
       "      <th>trestbps</th>\n",
       "      <th>chol</th>\n",
       "      <th>fbs</th>\n",
       "      <th>restecg</th>\n",
       "      <th>thalach</th>\n",
       "      <th>exang</th>\n",
       "      <th>oldpeak</th>\n",
       "      <th>slope</th>\n",
       "      <th>ca</th>\n",
       "      <th>thal</th>\n",
       "      <th>target</th>\n",
       "    </tr>\n",
       "  </thead>\n",
       "  <tbody>\n",
       "    <tr>\n",
       "      <th>0</th>\n",
       "      <td>63</td>\n",
       "      <td>1</td>\n",
       "      <td>1</td>\n",
       "      <td>145</td>\n",
       "      <td>233</td>\n",
       "      <td>1</td>\n",
       "      <td>2</td>\n",
       "      <td>150</td>\n",
       "      <td>0</td>\n",
       "      <td>2.3</td>\n",
       "      <td>3</td>\n",
       "      <td>0.0</td>\n",
       "      <td>6.0</td>\n",
       "      <td>0</td>\n",
       "    </tr>\n",
       "    <tr>\n",
       "      <th>1</th>\n",
       "      <td>67</td>\n",
       "      <td>1</td>\n",
       "      <td>4</td>\n",
       "      <td>160</td>\n",
       "      <td>286</td>\n",
       "      <td>0</td>\n",
       "      <td>2</td>\n",
       "      <td>108</td>\n",
       "      <td>1</td>\n",
       "      <td>1.5</td>\n",
       "      <td>2</td>\n",
       "      <td>3.0</td>\n",
       "      <td>3.0</td>\n",
       "      <td>2</td>\n",
       "    </tr>\n",
       "    <tr>\n",
       "      <th>2</th>\n",
       "      <td>67</td>\n",
       "      <td>1</td>\n",
       "      <td>4</td>\n",
       "      <td>120</td>\n",
       "      <td>229</td>\n",
       "      <td>0</td>\n",
       "      <td>2</td>\n",
       "      <td>129</td>\n",
       "      <td>1</td>\n",
       "      <td>2.6</td>\n",
       "      <td>2</td>\n",
       "      <td>2.0</td>\n",
       "      <td>7.0</td>\n",
       "      <td>1</td>\n",
       "    </tr>\n",
       "    <tr>\n",
       "      <th>3</th>\n",
       "      <td>37</td>\n",
       "      <td>1</td>\n",
       "      <td>3</td>\n",
       "      <td>130</td>\n",
       "      <td>250</td>\n",
       "      <td>0</td>\n",
       "      <td>0</td>\n",
       "      <td>187</td>\n",
       "      <td>0</td>\n",
       "      <td>3.5</td>\n",
       "      <td>3</td>\n",
       "      <td>0.0</td>\n",
       "      <td>3.0</td>\n",
       "      <td>0</td>\n",
       "    </tr>\n",
       "    <tr>\n",
       "      <th>4</th>\n",
       "      <td>41</td>\n",
       "      <td>0</td>\n",
       "      <td>2</td>\n",
       "      <td>130</td>\n",
       "      <td>204</td>\n",
       "      <td>0</td>\n",
       "      <td>2</td>\n",
       "      <td>172</td>\n",
       "      <td>0</td>\n",
       "      <td>1.4</td>\n",
       "      <td>1</td>\n",
       "      <td>0.0</td>\n",
       "      <td>3.0</td>\n",
       "      <td>0</td>\n",
       "    </tr>\n",
       "  </tbody>\n",
       "</table>\n",
       "</div>"
      ],
      "text/plain": [
       "   age  sex  cp  trestbps  chol  fbs  restecg  thalach  exang  oldpeak  slope  \\\n",
       "0   63    1   1       145   233    1        2      150      0      2.3      3   \n",
       "1   67    1   4       160   286    0        2      108      1      1.5      2   \n",
       "2   67    1   4       120   229    0        2      129      1      2.6      2   \n",
       "3   37    1   3       130   250    0        0      187      0      3.5      3   \n",
       "4   41    0   2       130   204    0        2      172      0      1.4      1   \n",
       "\n",
       "    ca  thal  target  \n",
       "0  0.0   6.0       0  \n",
       "1  3.0   3.0       2  \n",
       "2  2.0   7.0       1  \n",
       "3  0.0   3.0       0  \n",
       "4  0.0   3.0       0  "
      ]
     },
     "execution_count": 3,
     "metadata": {},
     "output_type": "execute_result"
    }
   ],
   "source": [
    "#Lets see the first 5 rows of the data\n",
    "df.head()"
   ]
  },
  {
   "cell_type": "code",
   "execution_count": 4,
   "metadata": {
    "scrolled": true
   },
   "outputs": [
    {
     "data": {
      "text/plain": [
       "(303, 14)"
      ]
     },
     "execution_count": 4,
     "metadata": {},
     "output_type": "execute_result"
    }
   ],
   "source": [
    "#Lets check the shape of the data\n",
    "df.shape\n",
    "# There are 13 features and 1 Target(num) and have 303 rows"
   ]
  },
  {
   "cell_type": "code",
   "execution_count": 5,
   "metadata": {},
   "outputs": [
    {
     "data": {
      "text/plain": [
       "age           int64\n",
       "sex           int64\n",
       "cp            int64\n",
       "trestbps      int64\n",
       "chol          int64\n",
       "fbs           int64\n",
       "restecg       int64\n",
       "thalach       int64\n",
       "exang         int64\n",
       "oldpeak     float64\n",
       "slope         int64\n",
       "ca          float64\n",
       "thal        float64\n",
       "target        int64\n",
       "dtype: object"
      ]
     },
     "execution_count": 5,
     "metadata": {},
     "output_type": "execute_result"
    }
   ],
   "source": [
    "# Lets check the datatypes\n",
    "df.dtypes \n"
   ]
  },
  {
   "cell_type": "code",
   "execution_count": 6,
   "metadata": {},
   "outputs": [
    {
     "name": "stdout",
     "output_type": "stream",
     "text": [
      "<class 'pandas.core.frame.DataFrame'>\n",
      "RangeIndex: 303 entries, 0 to 302\n",
      "Data columns (total 14 columns):\n",
      "age         303 non-null int64\n",
      "sex         303 non-null int64\n",
      "cp          303 non-null int64\n",
      "trestbps    303 non-null int64\n",
      "chol        303 non-null int64\n",
      "fbs         303 non-null int64\n",
      "restecg     303 non-null int64\n",
      "thalach     303 non-null int64\n",
      "exang       303 non-null int64\n",
      "oldpeak     303 non-null float64\n",
      "slope       303 non-null int64\n",
      "ca          299 non-null float64\n",
      "thal        301 non-null float64\n",
      "target      303 non-null int64\n",
      "dtypes: float64(3), int64(11)\n",
      "memory usage: 33.2 KB\n"
     ]
    }
   ],
   "source": [
    "# Lets get more information about the data\n",
    "df.info()\n"
   ]
  },
  {
   "cell_type": "code",
   "execution_count": 7,
   "metadata": {},
   "outputs": [
    {
     "data": {
      "image/png": "[encoded data removed]",
      "text/plain": [
       "<Figure size 432x288 with 2 Axes>"
      ]
     },
     "metadata": {
      "needs_background": "light"
     },
     "output_type": "display_data"
    }
   ],
   "source": [
    "# Lets check the missing values\n",
    "sns.heatmap(df.isnull())\n",
    "plt.show()\n",
    "# There are few  missing values in ca and  thal"
   ]
  },
  {
   "cell_type": "code",
   "execution_count": 8,
   "metadata": {
    "scrolled": false
   },
   "outputs": [
    {
     "data": {
      "text/plain": [
       "age         0\n",
       "sex         0\n",
       "cp          0\n",
       "trestbps    0\n",
       "chol        0\n",
       "fbs         0\n",
       "restecg     0\n",
       "thalach     0\n",
       "exang       0\n",
       "oldpeak     0\n",
       "slope       0\n",
       "ca          4\n",
       "thal        2\n",
       "target      0\n",
       "dtype: int64"
      ]
     },
     "execution_count": 8,
     "metadata": {},
     "output_type": "execute_result"
    }
   ],
   "source": [
    "# Lets confirm about missing value once more\n",
    "df.isnull().sum()\n",
    "#Hence we are now sure there are 4 missing values in ca and 2 missing values in thal"
   ]
  },
  {
   "cell_type": "code",
   "execution_count": 9,
   "metadata": {},
   "outputs": [],
   "source": [
    "#Lets deal with missing values\n",
    "# if these would have been large number we would have impute using mean/median/mode\n",
    "# as these are very less we can drop them\n",
    "df.dropna(inplace=True)"
   ]
  },
  {
   "cell_type": "code",
   "execution_count": 10,
   "metadata": {
    "scrolled": true
   },
   "outputs": [
    {
     "data": {
      "text/plain": [
       "age         0\n",
       "sex         0\n",
       "cp          0\n",
       "trestbps    0\n",
       "chol        0\n",
       "fbs         0\n",
       "restecg     0\n",
       "thalach     0\n",
       "exang       0\n",
       "oldpeak     0\n",
       "slope       0\n",
       "ca          0\n",
       "thal        0\n",
       "target      0\n",
       "dtype: int64"
      ]
     },
     "execution_count": 10,
     "metadata": {},
     "output_type": "execute_result"
    }
   ],
   "source": [
    "#Lets check the missing values once more\n",
    "df.isnull().sum()\n",
    "#Great to see missing values have been dropped"
   ]
  },
  {
   "cell_type": "code",
   "execution_count": 11,
   "metadata": {},
   "outputs": [
    {
     "data": {
      "text/plain": [
       "(297, 14)"
      ]
     },
     "execution_count": 11,
     "metadata": {},
     "output_type": "execute_result"
    }
   ],
   "source": [
    "#Lets check the shape again\n",
    "df.shape\n",
    "#6 rows having missing values have been removed"
   ]
  },
  {
   "cell_type": "code",
   "execution_count": 12,
   "metadata": {},
   "outputs": [
    {
     "data": {
      "text/html": [
       "<div>\n",
       "<style scoped>\n",
       "    .dataframe tbody tr th:only-of-type {\n",
       "        vertical-align: middle;\n",
       "    }\n",
       "\n",
       "    .dataframe tbody tr th {\n",
       "        vertical-align: top;\n",
       "    }\n",
       "\n",
       "    .dataframe thead th {\n",
       "        text-align: right;\n",
       "    }\n",
       "</style>\n",
       "<table border=\"1\" class=\"dataframe\">\n",
       "  <thead>\n",
       "    <tr style=\"text-align: right;\">\n",
       "      <th></th>\n",
       "      <th>age</th>\n",
       "      <th>sex</th>\n",
       "      <th>cp</th>\n",
       "      <th>trestbps</th>\n",
       "      <th>chol</th>\n",
       "      <th>fbs</th>\n",
       "      <th>restecg</th>\n",
       "      <th>thalach</th>\n",
       "      <th>exang</th>\n",
       "      <th>oldpeak</th>\n",
       "      <th>slope</th>\n",
       "      <th>ca</th>\n",
       "      <th>thal</th>\n",
       "      <th>target</th>\n",
       "    </tr>\n",
       "  </thead>\n",
       "  <tbody>\n",
       "    <tr>\n",
       "      <th>count</th>\n",
       "      <td>297.000000</td>\n",
       "      <td>297.000000</td>\n",
       "      <td>297.000000</td>\n",
       "      <td>297.000000</td>\n",
       "      <td>297.000000</td>\n",
       "      <td>297.000000</td>\n",
       "      <td>297.000000</td>\n",
       "      <td>297.000000</td>\n",
       "      <td>297.000000</td>\n",
       "      <td>297.000000</td>\n",
       "      <td>297.000000</td>\n",
       "      <td>297.000000</td>\n",
       "      <td>297.000000</td>\n",
       "      <td>297.000000</td>\n",
       "    </tr>\n",
       "    <tr>\n",
       "      <th>mean</th>\n",
       "      <td>54.542088</td>\n",
       "      <td>0.676768</td>\n",
       "      <td>3.158249</td>\n",
       "      <td>131.693603</td>\n",
       "      <td>247.350168</td>\n",
       "      <td>0.144781</td>\n",
       "      <td>0.996633</td>\n",
       "      <td>149.599327</td>\n",
       "      <td>0.326599</td>\n",
       "      <td>1.055556</td>\n",
       "      <td>1.602694</td>\n",
       "      <td>0.676768</td>\n",
       "      <td>4.730640</td>\n",
       "      <td>0.946128</td>\n",
       "    </tr>\n",
       "    <tr>\n",
       "      <th>std</th>\n",
       "      <td>9.049736</td>\n",
       "      <td>0.468500</td>\n",
       "      <td>0.964859</td>\n",
       "      <td>17.762806</td>\n",
       "      <td>51.997583</td>\n",
       "      <td>0.352474</td>\n",
       "      <td>0.994914</td>\n",
       "      <td>22.941562</td>\n",
       "      <td>0.469761</td>\n",
       "      <td>1.166123</td>\n",
       "      <td>0.618187</td>\n",
       "      <td>0.938965</td>\n",
       "      <td>1.938629</td>\n",
       "      <td>1.234551</td>\n",
       "    </tr>\n",
       "    <tr>\n",
       "      <th>min</th>\n",
       "      <td>29.000000</td>\n",
       "      <td>0.000000</td>\n",
       "      <td>1.000000</td>\n",
       "      <td>94.000000</td>\n",
       "      <td>126.000000</td>\n",
       "      <td>0.000000</td>\n",
       "      <td>0.000000</td>\n",
       "      <td>71.000000</td>\n",
       "      <td>0.000000</td>\n",
       "      <td>0.000000</td>\n",
       "      <td>1.000000</td>\n",
       "      <td>0.000000</td>\n",
       "      <td>3.000000</td>\n",
       "      <td>0.000000</td>\n",
       "    </tr>\n",
       "    <tr>\n",
       "      <th>25%</th>\n",
       "      <td>48.000000</td>\n",
       "      <td>0.000000</td>\n",
       "      <td>3.000000</td>\n",
       "      <td>120.000000</td>\n",
       "      <td>211.000000</td>\n",
       "      <td>0.000000</td>\n",
       "      <td>0.000000</td>\n",
       "      <td>133.000000</td>\n",
       "      <td>0.000000</td>\n",
       "      <td>0.000000</td>\n",
       "      <td>1.000000</td>\n",
       "      <td>0.000000</td>\n",
       "      <td>3.000000</td>\n",
       "      <td>0.000000</td>\n",
       "    </tr>\n",
       "    <tr>\n",
       "      <th>50%</th>\n",
       "      <td>56.000000</td>\n",
       "      <td>1.000000</td>\n",
       "      <td>3.000000</td>\n",
       "      <td>130.000000</td>\n",
       "      <td>243.000000</td>\n",
       "      <td>0.000000</td>\n",
       "      <td>1.000000</td>\n",
       "      <td>153.000000</td>\n",
       "      <td>0.000000</td>\n",
       "      <td>0.800000</td>\n",
       "      <td>2.000000</td>\n",
       "      <td>0.000000</td>\n",
       "      <td>3.000000</td>\n",
       "      <td>0.000000</td>\n",
       "    </tr>\n",
       "    <tr>\n",
       "      <th>75%</th>\n",
       "      <td>61.000000</td>\n",
       "      <td>1.000000</td>\n",
       "      <td>4.000000</td>\n",
       "      <td>140.000000</td>\n",
       "      <td>276.000000</td>\n",
       "      <td>0.000000</td>\n",
       "      <td>2.000000</td>\n",
       "      <td>166.000000</td>\n",
       "      <td>1.000000</td>\n",
       "      <td>1.600000</td>\n",
       "      <td>2.000000</td>\n",
       "      <td>1.000000</td>\n",
       "      <td>7.000000</td>\n",
       "      <td>2.000000</td>\n",
       "    </tr>\n",
       "    <tr>\n",
       "      <th>max</th>\n",
       "      <td>77.000000</td>\n",
       "      <td>1.000000</td>\n",
       "      <td>4.000000</td>\n",
       "      <td>200.000000</td>\n",
       "      <td>564.000000</td>\n",
       "      <td>1.000000</td>\n",
       "      <td>2.000000</td>\n",
       "      <td>202.000000</td>\n",
       "      <td>1.000000</td>\n",
       "      <td>6.200000</td>\n",
       "      <td>3.000000</td>\n",
       "      <td>3.000000</td>\n",
       "      <td>7.000000</td>\n",
       "      <td>4.000000</td>\n",
       "    </tr>\n",
       "  </tbody>\n",
       "</table>\n",
       "</div>"
      ],
      "text/plain": [
       "              age         sex          cp    trestbps        chol         fbs  \\\n",
       "count  297.000000  297.000000  297.000000  297.000000  297.000000  297.000000   \n",
       "mean    54.542088    0.676768    3.158249  131.693603  247.350168    0.144781   \n",
       "std      9.049736    0.468500    0.964859   17.762806   51.997583    0.352474   \n",
       "min     29.000000    0.000000    1.000000   94.000000  126.000000    0.000000   \n",
       "25%     48.000000    0.000000    3.000000  120.000000  211.000000    0.000000   \n",
       "50%     56.000000    1.000000    3.000000  130.000000  243.000000    0.000000   \n",
       "75%     61.000000    1.000000    4.000000  140.000000  276.000000    0.000000   \n",
       "max     77.000000    1.000000    4.000000  200.000000  564.000000    1.000000   \n",
       "\n",
       "          restecg     thalach       exang     oldpeak       slope          ca  \\\n",
       "count  297.000000  297.000000  297.000000  297.000000  297.000000  297.000000   \n",
       "mean     0.996633  149.599327    0.326599    1.055556    1.602694    0.676768   \n",
       "std      0.994914   22.941562    0.469761    1.166123    0.618187    0.938965   \n",
       "min      0.000000   71.000000    0.000000    0.000000    1.000000    0.000000   \n",
       "25%      0.000000  133.000000    0.000000    0.000000    1.000000    0.000000   \n",
       "50%      1.000000  153.000000    0.000000    0.800000    2.000000    0.000000   \n",
       "75%      2.000000  166.000000    1.000000    1.600000    2.000000    1.000000   \n",
       "max      2.000000  202.000000    1.000000    6.200000    3.000000    3.000000   \n",
       "\n",
       "             thal      target  \n",
       "count  297.000000  297.000000  \n",
       "mean     4.730640    0.946128  \n",
       "std      1.938629    1.234551  \n",
       "min      3.000000    0.000000  \n",
       "25%      3.000000    0.000000  \n",
       "50%      3.000000    0.000000  \n",
       "75%      7.000000    2.000000  \n",
       "max      7.000000    4.000000  "
      ]
     },
     "execution_count": 12,
     "metadata": {},
     "output_type": "execute_result"
    }
   ],
   "source": [
    "# Lets see the descriptive statistics\n",
    "df.describe()"
   ]
  },
  {
   "cell_type": "code",
   "execution_count": 13,
   "metadata": {},
   "outputs": [
    {
     "data": {
      "text/html": [
       "<div>\n",
       "<style scoped>\n",
       "    .dataframe tbody tr th:only-of-type {\n",
       "        vertical-align: middle;\n",
       "    }\n",
       "\n",
       "    .dataframe tbody tr th {\n",
       "        vertical-align: top;\n",
       "    }\n",
       "\n",
       "    .dataframe thead th {\n",
       "        text-align: right;\n",
       "    }\n",
       "</style>\n",
       "<table border=\"1\" class=\"dataframe\">\n",
       "  <thead>\n",
       "    <tr style=\"text-align: right;\">\n",
       "      <th></th>\n",
       "      <th>age</th>\n",
       "      <th>sex</th>\n",
       "      <th>cp</th>\n",
       "      <th>trestbps</th>\n",
       "      <th>chol</th>\n",
       "      <th>fbs</th>\n",
       "      <th>restecg</th>\n",
       "      <th>thalach</th>\n",
       "      <th>exang</th>\n",
       "      <th>oldpeak</th>\n",
       "      <th>slope</th>\n",
       "      <th>ca</th>\n",
       "      <th>thal</th>\n",
       "      <th>target</th>\n",
       "    </tr>\n",
       "  </thead>\n",
       "  <tbody>\n",
       "    <tr>\n",
       "      <th>age</th>\n",
       "      <td>1.000000</td>\n",
       "      <td>-0.092399</td>\n",
       "      <td>0.110471</td>\n",
       "      <td>0.290476</td>\n",
       "      <td>0.202644</td>\n",
       "      <td>0.132062</td>\n",
       "      <td>0.149917</td>\n",
       "      <td>-0.394563</td>\n",
       "      <td>0.096489</td>\n",
       "      <td>0.197123</td>\n",
       "      <td>0.159405</td>\n",
       "      <td>0.362210</td>\n",
       "      <td>0.126586</td>\n",
       "      <td>0.222156</td>\n",
       "    </tr>\n",
       "    <tr>\n",
       "      <th>sex</th>\n",
       "      <td>-0.092399</td>\n",
       "      <td>1.000000</td>\n",
       "      <td>0.008908</td>\n",
       "      <td>-0.066340</td>\n",
       "      <td>-0.198089</td>\n",
       "      <td>0.038850</td>\n",
       "      <td>0.033897</td>\n",
       "      <td>-0.060496</td>\n",
       "      <td>0.143581</td>\n",
       "      <td>0.106567</td>\n",
       "      <td>0.033345</td>\n",
       "      <td>0.091925</td>\n",
       "      <td>0.383652</td>\n",
       "      <td>0.226797</td>\n",
       "    </tr>\n",
       "    <tr>\n",
       "      <th>cp</th>\n",
       "      <td>0.110471</td>\n",
       "      <td>0.008908</td>\n",
       "      <td>1.000000</td>\n",
       "      <td>-0.036980</td>\n",
       "      <td>0.072088</td>\n",
       "      <td>-0.057663</td>\n",
       "      <td>0.063905</td>\n",
       "      <td>-0.339308</td>\n",
       "      <td>0.377525</td>\n",
       "      <td>0.203244</td>\n",
       "      <td>0.151079</td>\n",
       "      <td>0.235644</td>\n",
       "      <td>0.268500</td>\n",
       "      <td>0.404248</td>\n",
       "    </tr>\n",
       "    <tr>\n",
       "      <th>trestbps</th>\n",
       "      <td>0.290476</td>\n",
       "      <td>-0.066340</td>\n",
       "      <td>-0.036980</td>\n",
       "      <td>1.000000</td>\n",
       "      <td>0.131536</td>\n",
       "      <td>0.180860</td>\n",
       "      <td>0.149242</td>\n",
       "      <td>-0.049108</td>\n",
       "      <td>0.066691</td>\n",
       "      <td>0.191243</td>\n",
       "      <td>0.121172</td>\n",
       "      <td>0.097954</td>\n",
       "      <td>0.138183</td>\n",
       "      <td>0.159620</td>\n",
       "    </tr>\n",
       "    <tr>\n",
       "      <th>chol</th>\n",
       "      <td>0.202644</td>\n",
       "      <td>-0.198089</td>\n",
       "      <td>0.072088</td>\n",
       "      <td>0.131536</td>\n",
       "      <td>1.000000</td>\n",
       "      <td>0.012708</td>\n",
       "      <td>0.165046</td>\n",
       "      <td>-0.000075</td>\n",
       "      <td>0.059339</td>\n",
       "      <td>0.038596</td>\n",
       "      <td>-0.009215</td>\n",
       "      <td>0.115945</td>\n",
       "      <td>0.010859</td>\n",
       "      <td>0.066448</td>\n",
       "    </tr>\n",
       "    <tr>\n",
       "      <th>fbs</th>\n",
       "      <td>0.132062</td>\n",
       "      <td>0.038850</td>\n",
       "      <td>-0.057663</td>\n",
       "      <td>0.180860</td>\n",
       "      <td>0.012708</td>\n",
       "      <td>1.000000</td>\n",
       "      <td>0.068831</td>\n",
       "      <td>-0.007842</td>\n",
       "      <td>-0.000893</td>\n",
       "      <td>0.008311</td>\n",
       "      <td>0.047819</td>\n",
       "      <td>0.152086</td>\n",
       "      <td>0.062209</td>\n",
       "      <td>0.049040</td>\n",
       "    </tr>\n",
       "    <tr>\n",
       "      <th>restecg</th>\n",
       "      <td>0.149917</td>\n",
       "      <td>0.033897</td>\n",
       "      <td>0.063905</td>\n",
       "      <td>0.149242</td>\n",
       "      <td>0.165046</td>\n",
       "      <td>0.068831</td>\n",
       "      <td>1.000000</td>\n",
       "      <td>-0.072290</td>\n",
       "      <td>0.081874</td>\n",
       "      <td>0.113726</td>\n",
       "      <td>0.135141</td>\n",
       "      <td>0.129021</td>\n",
       "      <td>0.018795</td>\n",
       "      <td>0.184136</td>\n",
       "    </tr>\n",
       "    <tr>\n",
       "      <th>thalach</th>\n",
       "      <td>-0.394563</td>\n",
       "      <td>-0.060496</td>\n",
       "      <td>-0.339308</td>\n",
       "      <td>-0.049108</td>\n",
       "      <td>-0.000075</td>\n",
       "      <td>-0.007842</td>\n",
       "      <td>-0.072290</td>\n",
       "      <td>1.000000</td>\n",
       "      <td>-0.384368</td>\n",
       "      <td>-0.347640</td>\n",
       "      <td>-0.389307</td>\n",
       "      <td>-0.268727</td>\n",
       "      <td>-0.274831</td>\n",
       "      <td>-0.420639</td>\n",
       "    </tr>\n",
       "    <tr>\n",
       "      <th>exang</th>\n",
       "      <td>0.096489</td>\n",
       "      <td>0.143581</td>\n",
       "      <td>0.377525</td>\n",
       "      <td>0.066691</td>\n",
       "      <td>0.059339</td>\n",
       "      <td>-0.000893</td>\n",
       "      <td>0.081874</td>\n",
       "      <td>-0.384368</td>\n",
       "      <td>1.000000</td>\n",
       "      <td>0.289310</td>\n",
       "      <td>0.250572</td>\n",
       "      <td>0.148232</td>\n",
       "      <td>0.326927</td>\n",
       "      <td>0.391613</td>\n",
       "    </tr>\n",
       "    <tr>\n",
       "      <th>oldpeak</th>\n",
       "      <td>0.197123</td>\n",
       "      <td>0.106567</td>\n",
       "      <td>0.203244</td>\n",
       "      <td>0.191243</td>\n",
       "      <td>0.038596</td>\n",
       "      <td>0.008311</td>\n",
       "      <td>0.113726</td>\n",
       "      <td>-0.347640</td>\n",
       "      <td>0.289310</td>\n",
       "      <td>1.000000</td>\n",
       "      <td>0.579037</td>\n",
       "      <td>0.294452</td>\n",
       "      <td>0.344976</td>\n",
       "      <td>0.501461</td>\n",
       "    </tr>\n",
       "    <tr>\n",
       "      <th>slope</th>\n",
       "      <td>0.159405</td>\n",
       "      <td>0.033345</td>\n",
       "      <td>0.151079</td>\n",
       "      <td>0.121172</td>\n",
       "      <td>-0.009215</td>\n",
       "      <td>0.047819</td>\n",
       "      <td>0.135141</td>\n",
       "      <td>-0.389307</td>\n",
       "      <td>0.250572</td>\n",
       "      <td>0.579037</td>\n",
       "      <td>1.000000</td>\n",
       "      <td>0.109761</td>\n",
       "      <td>0.279688</td>\n",
       "      <td>0.374689</td>\n",
       "    </tr>\n",
       "    <tr>\n",
       "      <th>ca</th>\n",
       "      <td>0.362210</td>\n",
       "      <td>0.091925</td>\n",
       "      <td>0.235644</td>\n",
       "      <td>0.097954</td>\n",
       "      <td>0.115945</td>\n",
       "      <td>0.152086</td>\n",
       "      <td>0.129021</td>\n",
       "      <td>-0.268727</td>\n",
       "      <td>0.148232</td>\n",
       "      <td>0.294452</td>\n",
       "      <td>0.109761</td>\n",
       "      <td>1.000000</td>\n",
       "      <td>0.256382</td>\n",
       "      <td>0.521178</td>\n",
       "    </tr>\n",
       "    <tr>\n",
       "      <th>thal</th>\n",
       "      <td>0.126586</td>\n",
       "      <td>0.383652</td>\n",
       "      <td>0.268500</td>\n",
       "      <td>0.138183</td>\n",
       "      <td>0.010859</td>\n",
       "      <td>0.062209</td>\n",
       "      <td>0.018795</td>\n",
       "      <td>-0.274831</td>\n",
       "      <td>0.326927</td>\n",
       "      <td>0.344976</td>\n",
       "      <td>0.279688</td>\n",
       "      <td>0.256382</td>\n",
       "      <td>1.000000</td>\n",
       "      <td>0.513377</td>\n",
       "    </tr>\n",
       "    <tr>\n",
       "      <th>target</th>\n",
       "      <td>0.222156</td>\n",
       "      <td>0.226797</td>\n",
       "      <td>0.404248</td>\n",
       "      <td>0.159620</td>\n",
       "      <td>0.066448</td>\n",
       "      <td>0.049040</td>\n",
       "      <td>0.184136</td>\n",
       "      <td>-0.420639</td>\n",
       "      <td>0.391613</td>\n",
       "      <td>0.501461</td>\n",
       "      <td>0.374689</td>\n",
       "      <td>0.521178</td>\n",
       "      <td>0.513377</td>\n",
       "      <td>1.000000</td>\n",
       "    </tr>\n",
       "  </tbody>\n",
       "</table>\n",
       "</div>"
      ],
      "text/plain": [
       "               age       sex        cp  trestbps      chol       fbs  \\\n",
       "age       1.000000 -0.092399  0.110471  0.290476  0.202644  0.132062   \n",
       "sex      -0.092399  1.000000  0.008908 -0.066340 -0.198089  0.038850   \n",
       "cp        0.110471  0.008908  1.000000 -0.036980  0.072088 -0.057663   \n",
       "trestbps  0.290476 -0.066340 -0.036980  1.000000  0.131536  0.180860   \n",
       "chol      0.202644 -0.198089  0.072088  0.131536  1.000000  0.012708   \n",
       "fbs       0.132062  0.038850 -0.057663  0.180860  0.012708  1.000000   \n",
       "restecg   0.149917  0.033897  0.063905  0.149242  0.165046  0.068831   \n",
       "thalach  -0.394563 -0.060496 -0.339308 -0.049108 -0.000075 -0.007842   \n",
       "exang     0.096489  0.143581  0.377525  0.066691  0.059339 -0.000893   \n",
       "oldpeak   0.197123  0.106567  0.203244  0.191243  0.038596  0.008311   \n",
       "slope     0.159405  0.033345  0.151079  0.121172 -0.009215  0.047819   \n",
       "ca        0.362210  0.091925  0.235644  0.097954  0.115945  0.152086   \n",
       "thal      0.126586  0.383652  0.268500  0.138183  0.010859  0.062209   \n",
       "target    0.222156  0.226797  0.404248  0.159620  0.066448  0.049040   \n",
       "\n",
       "           restecg   thalach     exang   oldpeak     slope        ca  \\\n",
       "age       0.149917 -0.394563  0.096489  0.197123  0.159405  0.362210   \n",
       "sex       0.033897 -0.060496  0.143581  0.106567  0.033345  0.091925   \n",
       "cp        0.063905 -0.339308  0.377525  0.203244  0.151079  0.235644   \n",
       "trestbps  0.149242 -0.049108  0.066691  0.191243  0.121172  0.097954   \n",
       "chol      0.165046 -0.000075  0.059339  0.038596 -0.009215  0.115945   \n",
       "fbs       0.068831 -0.007842 -0.000893  0.008311  0.047819  0.152086   \n",
       "restecg   1.000000 -0.072290  0.081874  0.113726  0.135141  0.129021   \n",
       "thalach  -0.072290  1.000000 -0.384368 -0.347640 -0.389307 -0.268727   \n",
       "exang     0.081874 -0.384368  1.000000  0.289310  0.250572  0.148232   \n",
       "oldpeak   0.113726 -0.347640  0.289310  1.000000  0.579037  0.294452   \n",
       "slope     0.135141 -0.389307  0.250572  0.579037  1.000000  0.109761   \n",
       "ca        0.129021 -0.268727  0.148232  0.294452  0.109761  1.000000   \n",
       "thal      0.018795 -0.274831  0.326927  0.344976  0.279688  0.256382   \n",
       "target    0.184136 -0.420639  0.391613  0.501461  0.374689  0.521178   \n",
       "\n",
       "              thal    target  \n",
       "age       0.126586  0.222156  \n",
       "sex       0.383652  0.226797  \n",
       "cp        0.268500  0.404248  \n",
       "trestbps  0.138183  0.159620  \n",
       "chol      0.010859  0.066448  \n",
       "fbs       0.062209  0.049040  \n",
       "restecg   0.018795  0.184136  \n",
       "thalach  -0.274831 -0.420639  \n",
       "exang     0.326927  0.391613  \n",
       "oldpeak   0.344976  0.501461  \n",
       "slope     0.279688  0.374689  \n",
       "ca        0.256382  0.521178  \n",
       "thal      1.000000  0.513377  \n",
       "target    0.513377  1.000000  "
      ]
     },
     "execution_count": 13,
     "metadata": {},
     "output_type": "execute_result"
    }
   ],
   "source": [
    "#Lets see the correlation among the different features as well as with target\n",
    "df.corr()\n",
    "# we can see some features have positive correlation with target and some have negative"
   ]
  },
  {
   "cell_type": "code",
   "execution_count": 14,
   "metadata": {},
   "outputs": [
    {
     "data": {
      "text/plain": [
       "<matplotlib.axes._subplots.AxesSubplot at 0x6ddf6cd588>"
      ]
     },
     "execution_count": 14,
     "metadata": {},
     "output_type": "execute_result"
    },
    {
     "data": {
      "image/png": "[encoded data removed]",
      "text/plain": [
       "<Figure size 720x576 with 2 Axes>"
      ]
     },
     "metadata": {
      "needs_background": "light"
     },
     "output_type": "display_data"
    }
   ],
   "source": [
    "# lets visualize the correlation with heat map\n",
    "plt.figure(figsize=(10,8))\n",
    "sns.heatmap(df.corr(),annot=True)\n"
   ]
  },
  {
   "cell_type": "code",
   "execution_count": 15,
   "metadata": {
    "scrolled": true
   },
   "outputs": [
    {
     "data": {
      "text/plain": [
       "0    160\n",
       "1     54\n",
       "3     35\n",
       "2     35\n",
       "4     13\n",
       "Name: target, dtype: int64"
      ]
     },
     "execution_count": 15,
     "metadata": {},
     "output_type": "execute_result"
    }
   ],
   "source": [
    "# Lets see target distribution\n",
    "df['target'].value_counts()\n",
    "# we know that 0: no heart disease and 1,2,3,4 :heart disease"
   ]
  },
  {
   "cell_type": "code",
   "execution_count": 16,
   "metadata": {},
   "outputs": [],
   "source": [
    "# Lets group them into 2 categories 0: no heart disease and 1,2,3,4 : heart disease\n",
    "df['target'] = df.target.map({0: 0, 1: 1, 2: 1, 3: 1, 4: 1})"
   ]
  },
  {
   "cell_type": "code",
   "execution_count": 17,
   "metadata": {},
   "outputs": [
    {
     "data": {
      "text/plain": [
       "0    160\n",
       "1    137\n",
       "Name: target, dtype: int64"
      ]
     },
     "execution_count": 17,
     "metadata": {},
     "output_type": "execute_result"
    }
   ],
   "source": [
    "# Lets see target distribution again\n",
    "df['target'].value_counts()\n",
    "#Now data seems almost balanced"
   ]
  },
  {
   "cell_type": "code",
   "execution_count": 18,
   "metadata": {},
   "outputs": [
    {
     "data": {
      "text/plain": [
       "array([[<matplotlib.axes._subplots.AxesSubplot object at 0x0000006DDE6D96A0>,\n",
       "        <matplotlib.axes._subplots.AxesSubplot object at 0x0000006DDFA68400>,\n",
       "        <matplotlib.axes._subplots.AxesSubplot object at 0x0000006DDF784978>,\n",
       "        <matplotlib.axes._subplots.AxesSubplot object at 0x0000006DDF7ADEF0>,\n",
       "        <matplotlib.axes._subplots.AxesSubplot object at 0x0000006DDF7DD4A8>]],\n",
       "      dtype=object)"
      ]
     },
     "execution_count": 18,
     "metadata": {},
     "output_type": "execute_result"
    },
    {
     "data": {
      "image/png": "[encoded data removed]",
      "text/plain": [
       "<Figure size 1080x216 with 5 Axes>"
      ]
     },
     "metadata": {
      "needs_background": "light"
     },
     "output_type": "display_data"
    }
   ],
   "source": [
    "# # Univariate Density Plots of all numeric(non categorical) variables\n",
    "df[['age','chol','oldpeak','thalach','trestbps']].plot(kind='density', subplots=True, layout=(1,5), sharex=False, figsize=(15,3))\n",
    "\n"
   ]
  },
  {
   "cell_type": "code",
   "execution_count": 19,
   "metadata": {
    "scrolled": true
   },
   "outputs": [
    {
     "data": {
      "text/plain": [
       "array([[<matplotlib.axes._subplots.AxesSubplot object at 0x0000006DDF82DF28>,\n",
       "        <matplotlib.axes._subplots.AxesSubplot object at 0x0000006DE01AEE80>,\n",
       "        <matplotlib.axes._subplots.AxesSubplot object at 0x0000006DE01DB438>,\n",
       "        <matplotlib.axes._subplots.AxesSubplot object at 0x0000006DE02039B0>,\n",
       "        <matplotlib.axes._subplots.AxesSubplot object at 0x0000006DE022BF28>]],\n",
       "      dtype=object)"
      ]
     },
     "execution_count": 19,
     "metadata": {},
     "output_type": "execute_result"
    },
    {
     "data": {
      "image/png": "[encoded data removed]",
      "text/plain": [
       "<Figure size 1080x216 with 5 Axes>"
      ]
     },
     "metadata": {
      "needs_background": "light"
     },
     "output_type": "display_data"
    }
   ],
   "source": [
    "#Lets visualize distribution of  numeric(non categorical) data\n",
    "df[['age','chol','oldpeak','thalach','trestbps']].plot(kind='hist', subplots=True, layout=(1,5), sharex=False, sharey= False, figsize=(15,3))\n"
   ]
  },
  {
   "cell_type": "code",
   "execution_count": 20,
   "metadata": {},
   "outputs": [
    {
     "data": {
      "text/plain": [
       "age            AxesSubplot(0.125,0.125;0.133621x0.755)\n",
       "chol        AxesSubplot(0.285345,0.125;0.133621x0.755)\n",
       "oldpeak      AxesSubplot(0.44569,0.125;0.133621x0.755)\n",
       "thalach     AxesSubplot(0.606034,0.125;0.133621x0.755)\n",
       "trestbps    AxesSubplot(0.766379,0.125;0.133621x0.755)\n",
       "dtype: object"
      ]
     },
     "execution_count": 20,
     "metadata": {},
     "output_type": "execute_result"
    },
    {
     "data": {
      "image/png": "[encoded data removed]",
      "text/plain": [
       "<Figure size 1080x216 with 5 Axes>"
      ]
     },
     "metadata": {
      "needs_background": "light"
     },
     "output_type": "display_data"
    }
   ],
   "source": [
    "#Lets plot the box plot of each numeric variable\n",
    "df[['age','chol','oldpeak','thalach','trestbps']].plot(kind='box', subplots=True, layout=(1,5), sharex=False, sharey=False, figsize=(15,3))\n",
    "#There seems the presence of few outliers in the data"
   ]
  },
  {
   "cell_type": "code",
   "execution_count": 21,
   "metadata": {},
   "outputs": [
    {
     "data": {
      "text/plain": [
       "<matplotlib.axes._subplots.AxesSubplot at 0x6ddfa33828>"
      ]
     },
     "execution_count": 21,
     "metadata": {},
     "output_type": "execute_result"
    },
    {
     "data": {
      "image/png": "[encoded data removed]",
      "text/plain": [
       "<Figure size 1080x432 with 6 Axes>"
      ]
     },
     "metadata": {
      "needs_background": "light"
     },
     "output_type": "display_data"
    }
   ],
   "source": [
    "#Lets visualize relation of numeric paramters with respect to 'Target'\n",
    "f,axes= plt.subplots(2,3, figsize=(15,6))\n",
    "sns.barplot(x='target', y ='age', data=df,ax=axes[0,0])\n",
    "sns.barplot(x='target', y ='chol', data=df, ax=axes[0,1])\n",
    "sns.barplot(x='target', y ='oldpeak', data=df, ax=axes[0,2])\n",
    "sns.barplot(x='target', y ='thalach', data=df, ax=axes[1,0])\n",
    "sns.barplot(x='target', y ='trestbps', data=df, ax=axes[1,1])\n",
    "\n"
   ]
  },
  {
   "cell_type": "raw",
   "metadata": {},
   "source": [
    "Inferences from Above Plots:\n",
    "1. people having age  between 50 and 60 have higher chances of heart disease\n",
    "2. People having higher cholestrol nearly 250 or above have higher chances of heart disease\n",
    "3. People having higher  oldpeak (ST depression induced by exercise relative to rest) have higher chances of heart disease\n",
    "4. People  having  higher thalach (maximum heart rate achieved) i.e above 150 have lesser chances of heart disease\n",
    "5  People having higher trestbps(resting blood pressure) have little more chances of heart disease"
   ]
  },
  {
   "cell_type": "code",
   "execution_count": 22,
   "metadata": {
    "scrolled": true
   },
   "outputs": [],
   "source": [
    "#As the ca and thal can have only discrete numeric values lets change then to integer\n",
    "df['ca'] = df['ca'].astype('int64')\n",
    "df['thal'] = df['thal'].astype('int64')"
   ]
  },
  {
   "cell_type": "code",
   "execution_count": 23,
   "metadata": {},
   "outputs": [
    {
     "data": {
      "text/plain": [
       "age           int64\n",
       "sex           int64\n",
       "cp            int64\n",
       "trestbps      int64\n",
       "chol          int64\n",
       "fbs           int64\n",
       "restecg       int64\n",
       "thalach       int64\n",
       "exang         int64\n",
       "oldpeak     float64\n",
       "slope         int64\n",
       "ca            int64\n",
       "thal          int64\n",
       "target        int64\n",
       "dtype: object"
      ]
     },
     "execution_count": 23,
     "metadata": {},
     "output_type": "execute_result"
    }
   ],
   "source": [
    "#Lets check the datatypes again\n",
    "df.dtypes"
   ]
  },
  {
   "cell_type": "code",
   "execution_count": 24,
   "metadata": {},
   "outputs": [
    {
     "data": {
      "text/html": [
       "<div>\n",
       "<style scoped>\n",
       "    .dataframe tbody tr th:only-of-type {\n",
       "        vertical-align: middle;\n",
       "    }\n",
       "\n",
       "    .dataframe tbody tr th {\n",
       "        vertical-align: top;\n",
       "    }\n",
       "\n",
       "    .dataframe thead th {\n",
       "        text-align: right;\n",
       "    }\n",
       "</style>\n",
       "<table border=\"1\" class=\"dataframe\">\n",
       "  <thead>\n",
       "    <tr style=\"text-align: right;\">\n",
       "      <th></th>\n",
       "      <th>ca</th>\n",
       "      <th>thal</th>\n",
       "    </tr>\n",
       "  </thead>\n",
       "  <tbody>\n",
       "    <tr>\n",
       "      <th>0</th>\n",
       "      <td>0</td>\n",
       "      <td>6</td>\n",
       "    </tr>\n",
       "    <tr>\n",
       "      <th>1</th>\n",
       "      <td>3</td>\n",
       "      <td>3</td>\n",
       "    </tr>\n",
       "    <tr>\n",
       "      <th>2</th>\n",
       "      <td>2</td>\n",
       "      <td>7</td>\n",
       "    </tr>\n",
       "    <tr>\n",
       "      <th>3</th>\n",
       "      <td>0</td>\n",
       "      <td>3</td>\n",
       "    </tr>\n",
       "    <tr>\n",
       "      <th>4</th>\n",
       "      <td>0</td>\n",
       "      <td>3</td>\n",
       "    </tr>\n",
       "  </tbody>\n",
       "</table>\n",
       "</div>"
      ],
      "text/plain": [
       "   ca  thal\n",
       "0   0     6\n",
       "1   3     3\n",
       "2   2     7\n",
       "3   0     3\n",
       "4   0     3"
      ]
     },
     "execution_count": 24,
     "metadata": {},
     "output_type": "execute_result"
    }
   ],
   "source": [
    "#Lets visualize the dataframe again to see values of ca and thal\n",
    "df[['ca','thal']].head()\n"
   ]
  },
  {
   "cell_type": "raw",
   "metadata": {},
   "source": [
    "Description of categorical variables:\n",
    "1. sex (1 = male; 0 = female)\n",
    "2. cp: chest pain type\n",
    "-- Value 1: typical angina\n",
    "-- Value 2: atypical angina\n",
    "-- Value 3: non-anginal pain\n",
    "-- Value 4: asymptomatic\n",
    "3.fbs: (fasting blood sugar > 120 mg/dl) (1 = true; 0 = false)\n",
    "4. restecg: resting electrocardiographic results\n",
    "-- Value 0: normal\n",
    "-- Value 1: having ST-T wave abnormality (T wave inversions and/or ST elevation or depression of > 0.05 mV)\n",
    "   Value 2: showing probable or definite left ventricular hypertrophy by Estes' criteria\n",
    "\n",
    "5. exang: exercise induced angina (1 = yes; 0 = no)\n",
    "6.slope: the slope of the peak exercise ST segment\n",
    "-- Value 1: upsloping\n",
    "-- Value 2: flat\n",
    "-- Value 3: downsloping\n",
    "7.ca: number of major vessels (0-3) colored by flourosopy\n",
    "8.thal: 3 = normal; 6 = fixed defect; 7 = reversable defect\n"
   ]
  },
  {
   "cell_type": "code",
   "execution_count": 25,
   "metadata": {},
   "outputs": [
    {
     "data": {
      "text/plain": [
       "<matplotlib.axes._subplots.AxesSubplot at 0x6de05070b8>"
      ]
     },
     "execution_count": 25,
     "metadata": {},
     "output_type": "execute_result"
    },
    {
     "data": {
      "image/png": "[encoded data removed]",
      "text/plain": [
       "<Figure size 432x288 with 1 Axes>"
      ]
     },
     "metadata": {
      "needs_background": "light"
     },
     "output_type": "display_data"
    }
   ],
   "source": [
    "#Lets visualize relation of sex with respect to 'Target'\n",
    "sns.countplot(x='sex', hue ='target', data=df)\n",
    "#  We can see that Females are more likely to have heart disease"
   ]
  },
  {
   "cell_type": "code",
   "execution_count": 26,
   "metadata": {
    "scrolled": true
   },
   "outputs": [
    {
     "data": {
      "text/plain": [
       "<matplotlib.axes._subplots.AxesSubplot at 0x6de05b1470>"
      ]
     },
     "execution_count": 26,
     "metadata": {},
     "output_type": "execute_result"
    },
    {
     "data": {
      "image/png": "[encoded data removed]",
      "text/plain": [
       "<Figure size 432x288 with 1 Axes>"
      ]
     },
     "metadata": {
      "needs_background": "light"
     },
     "output_type": "display_data"
    }
   ],
   "source": [
    "#Lets visualize relation of chestpain with respect to 'Target'\n",
    "sns.countplot(x='cp', hue ='target', data=df)\n",
    "#  People with asymptomatic chest pain(4) have higher chances of heart disease"
   ]
  },
  {
   "cell_type": "code",
   "execution_count": 27,
   "metadata": {},
   "outputs": [
    {
     "data": {
      "text/plain": [
       "<matplotlib.axes._subplots.AxesSubplot at 0x6de0621b00>"
      ]
     },
     "execution_count": 27,
     "metadata": {},
     "output_type": "execute_result"
    },
    {
     "data": {
      "image/png": "[encoded data removed]",
      "text/plain": [
       "<Figure size 432x288 with 1 Axes>"
      ]
     },
     "metadata": {
      "needs_background": "light"
     },
     "output_type": "display_data"
    }
   ],
   "source": [
    "#Lets visualize relation of restecg with respect to 'Target'\n",
    "sns.countplot(x='restecg', hue ='target', data=df)\n",
    "# As expected people with normal value of rest ecg have lesser chances of heart disease then restecg value of 1 and 2\n"
   ]
  },
  {
   "cell_type": "code",
   "execution_count": 28,
   "metadata": {},
   "outputs": [
    {
     "data": {
      "text/plain": [
       "<matplotlib.axes._subplots.AxesSubplot at 0x6de0673198>"
      ]
     },
     "execution_count": 28,
     "metadata": {},
     "output_type": "execute_result"
    },
    {
     "data": {
      "image/png": "[encoded data removed]",
      "text/plain": [
       "<Figure size 432x288 with 1 Axes>"
      ]
     },
     "metadata": {
      "needs_background": "light"
     },
     "output_type": "display_data"
    }
   ],
   "source": [
    "#Lets visualize relation of exang with respect to 'Target'\n",
    "sns.countplot(x='exang', hue ='target', data=df)\n",
    "# We can see that people with exercise induced angina have higher chances of heart disease then the one who does not have\n"
   ]
  },
  {
   "cell_type": "code",
   "execution_count": 29,
   "metadata": {},
   "outputs": [
    {
     "data": {
      "text/plain": [
       "<matplotlib.axes._subplots.AxesSubplot at 0x6de06d3f28>"
      ]
     },
     "execution_count": 29,
     "metadata": {},
     "output_type": "execute_result"
    },
    {
     "data": {
      "image/png": "[encoded data removed]",
      "text/plain": [
       "<Figure size 432x288 with 1 Axes>"
      ]
     },
     "metadata": {
      "needs_background": "light"
     },
     "output_type": "display_data"
    }
   ],
   "source": [
    "#Lets visualize relation of slope with respect to 'Target'\n",
    "sns.countplot(x='slope', hue ='target', data=df)\n",
    "# We can see that people with slope of 1 have lesser  chances of heart disease then the one who have slope of 2 and 3\n"
   ]
  },
  {
   "cell_type": "code",
   "execution_count": 30,
   "metadata": {},
   "outputs": [
    {
     "data": {
      "text/plain": [
       "<matplotlib.axes._subplots.AxesSubplot at 0x6de073fdd8>"
      ]
     },
     "execution_count": 30,
     "metadata": {},
     "output_type": "execute_result"
    },
    {
     "data": {
      "image/png": "[encoded data removed]",
      "text/plain": [
       "<Figure size 432x288 with 1 Axes>"
      ]
     },
     "metadata": {
      "needs_background": "light"
     },
     "output_type": "display_data"
    }
   ],
   "source": [
    "#Lets visualize relation of ca with respect to 'Target'\n",
    "sns.countplot(x='ca', hue ='target', data=df)\n",
    "# We can see that people with ca of 0 have lesser  chances of heart disease then the one who have ca of 1 , 2 and 3\n",
    "# as ca increase the chances of heart diseases are more\n"
   ]
  },
  {
   "cell_type": "code",
   "execution_count": 31,
   "metadata": {},
   "outputs": [
    {
     "data": {
      "text/plain": [
       "<matplotlib.axes._subplots.AxesSubplot at 0x6de09ac5f8>"
      ]
     },
     "execution_count": 31,
     "metadata": {},
     "output_type": "execute_result"
    },
    {
     "data": {
      "image/png": "[encoded data removed]",
      "text/plain": [
       "<Figure size 432x288 with 1 Axes>"
      ]
     },
     "metadata": {
      "needs_background": "light"
     },
     "output_type": "display_data"
    }
   ],
   "source": [
    "#Lets visualize relation of thal with respect to 'Target'\n",
    "sns.countplot(x='thal', hue ='target', data=df)\n",
    "# As expected the people thal value of 3 (normal) have lesser  chances of heart disease then the one who have thal of 6 and 7\n",
    "# as thal value increase the chances of heart diseases are more\n",
    "# when thal value is 7 the chances of heart disease are highest\n"
   ]
  },
  {
   "cell_type": "code",
   "execution_count": 32,
   "metadata": {
    "scrolled": true
   },
   "outputs": [
    {
     "data": {
      "text/plain": [
       "<matplotlib.axes._subplots.AxesSubplot at 0x6de0a28898>"
      ]
     },
     "execution_count": 32,
     "metadata": {},
     "output_type": "execute_result"
    },
    {
     "data": {
      "image/png": "[encoded data removed]",
      "text/plain": [
       "<Figure size 432x288 with 1 Axes>"
      ]
     },
     "metadata": {
      "needs_background": "light"
     },
     "output_type": "display_data"
    }
   ],
   "source": [
    "#Lets visualize relation of fasting blood sugrar with respect to 'Target'\n",
    "sns.countplot(x='fbs', hue ='target', data=df)\n"
   ]
  },
  {
   "cell_type": "code",
   "execution_count": 33,
   "metadata": {
    "scrolled": true
   },
   "outputs": [
    {
     "data": {
      "text/plain": [
       "age        -0.219775\n",
       "sex        -0.759727\n",
       "cp         -0.844412\n",
       "trestbps    0.700070\n",
       "chol        1.118096\n",
       "fbs         2.029240\n",
       "restecg     0.006768\n",
       "thalach    -0.536540\n",
       "exang       0.743256\n",
       "oldpeak     1.247131\n",
       "slope       0.510444\n",
       "ca          1.179548\n",
       "thal        0.247772\n",
       "target      0.156138\n",
       "dtype: float64"
      ]
     },
     "execution_count": 33,
     "metadata": {},
     "output_type": "execute_result"
    }
   ],
   "source": [
    "#Lets check the skewness \n",
    "df.skew()"
   ]
  },
  {
   "cell_type": "code",
   "execution_count": 34,
   "metadata": {},
   "outputs": [],
   "source": [
    "# Let us reduce the  positive Skewness\n",
    "for col in df.columns:                                      \n",
    "    if df.skew().loc[col]>0.55:\n",
    "        df[col]=np.log1p(df[col])\n"
   ]
  },
  {
   "cell_type": "code",
   "execution_count": 35,
   "metadata": {
    "scrolled": true
   },
   "outputs": [
    {
     "data": {
      "text/plain": [
       "age        -0.219775\n",
       "sex        -0.759727\n",
       "cp         -0.844412\n",
       "trestbps    0.282484\n",
       "chol        0.061315\n",
       "fbs         2.029240\n",
       "restecg     0.006768\n",
       "thalach    -0.536540\n",
       "exang       0.743256\n",
       "oldpeak     0.373601\n",
       "slope       0.510444\n",
       "ca          0.739166\n",
       "thal        0.247772\n",
       "target      0.156138\n",
       "dtype: float64"
      ]
     },
     "execution_count": 35,
     "metadata": {},
     "output_type": "execute_result"
    }
   ],
   "source": [
    "#Lets check the skewness again\n",
    "df.skew()\n",
    "#the skewness has been reduced except for categorical variables"
   ]
  },
  {
   "cell_type": "code",
   "execution_count": 36,
   "metadata": {},
   "outputs": [],
   "source": [
    "#Lets reduce negative skewness\n",
    "for col in df.columns:                                      \n",
    "    if df.skew().loc[col]<-0.55:\n",
    "        df[col]=np.power(df[col],2)"
   ]
  },
  {
   "cell_type": "code",
   "execution_count": 37,
   "metadata": {},
   "outputs": [
    {
     "data": {
      "text/plain": [
       "age        -0.219775\n",
       "sex        -0.759727\n",
       "cp         -0.440398\n",
       "trestbps    0.282484\n",
       "chol        0.061315\n",
       "fbs         2.029240\n",
       "restecg     0.006768\n",
       "thalach    -0.536540\n",
       "exang       0.743256\n",
       "oldpeak     0.373601\n",
       "slope       0.510444\n",
       "ca          0.739166\n",
       "thal        0.247772\n",
       "target      0.156138\n",
       "dtype: float64"
      ]
     },
     "execution_count": 37,
     "metadata": {},
     "output_type": "execute_result"
    }
   ],
   "source": [
    "#Lets check the skewness\n",
    "df.skew()"
   ]
  },
  {
   "cell_type": "code",
   "execution_count": 38,
   "metadata": {},
   "outputs": [
    {
     "name": "stdout",
     "output_type": "stream",
     "text": [
      "The shape of original dataframe was = (297, 14)\n",
      "The shape of dataframe after removing outliers is = (292, 14)\n"
     ]
    }
   ],
   "source": [
    "# Lets remove the outliers if any\n",
    "from scipy.stats import zscore\n",
    "z_score =abs(zscore(df))\n",
    "dfx = df.loc[(z_score<3).all(axis=1)]\n",
    "print('The shape of original dataframe was =', df.shape)\n",
    "print('The shape of dataframe after removing outliers is =', dfx.shape)\n",
    "# There were few outliers which have been removed"
   ]
  },
  {
   "cell_type": "raw",
   "metadata": {},
   "source": [
    "SKLEARN REQUIRE DATA TO BE IN  NUMERIC FORM\n",
    "\n",
    "THE VARIABLES WHICH ARE NOT NUMERIC NEEDS TO BE IN NUMERIC FORM\n",
    "\n",
    "FOR IT WE REQUIRE LABEL ENCODING AND ONE HOT ENCODING\n",
    "\n",
    "BUT OUR CATEGORICAL FATURES ARE ALREADY NUMERIC HERE SO WE DONT REQUIRE ANY CONVERSION\n",
    "\n",
    "\n"
   ]
  },
  {
   "cell_type": "code",
   "execution_count": 39,
   "metadata": {},
   "outputs": [],
   "source": [
    "# Let us seperate the features and Target\n",
    "x=dfx.drop(['target'],axis=1)    \n",
    "y=dfx[['target']]"
   ]
  },
  {
   "cell_type": "code",
   "execution_count": 40,
   "metadata": {},
   "outputs": [
    {
     "data": {
      "text/html": [
       "<div>\n",
       "<style scoped>\n",
       "    .dataframe tbody tr th:only-of-type {\n",
       "        vertical-align: middle;\n",
       "    }\n",
       "\n",
       "    .dataframe tbody tr th {\n",
       "        vertical-align: top;\n",
       "    }\n",
       "\n",
       "    .dataframe thead th {\n",
       "        text-align: right;\n",
       "    }\n",
       "</style>\n",
       "<table border=\"1\" class=\"dataframe\">\n",
       "  <thead>\n",
       "    <tr style=\"text-align: right;\">\n",
       "      <th></th>\n",
       "      <th>age</th>\n",
       "      <th>sex</th>\n",
       "      <th>cp</th>\n",
       "      <th>trestbps</th>\n",
       "      <th>chol</th>\n",
       "      <th>fbs</th>\n",
       "      <th>restecg</th>\n",
       "      <th>thalach</th>\n",
       "      <th>exang</th>\n",
       "      <th>oldpeak</th>\n",
       "      <th>slope</th>\n",
       "      <th>ca</th>\n",
       "      <th>thal</th>\n",
       "    </tr>\n",
       "  </thead>\n",
       "  <tbody>\n",
       "    <tr>\n",
       "      <th>0</th>\n",
       "      <td>63</td>\n",
       "      <td>1</td>\n",
       "      <td>1</td>\n",
       "      <td>4.983607</td>\n",
       "      <td>5.455321</td>\n",
       "      <td>0.693147</td>\n",
       "      <td>2</td>\n",
       "      <td>150</td>\n",
       "      <td>0.000000</td>\n",
       "      <td>1.193922</td>\n",
       "      <td>3</td>\n",
       "      <td>0.000000</td>\n",
       "      <td>6</td>\n",
       "    </tr>\n",
       "    <tr>\n",
       "      <th>1</th>\n",
       "      <td>67</td>\n",
       "      <td>1</td>\n",
       "      <td>16</td>\n",
       "      <td>5.081404</td>\n",
       "      <td>5.659482</td>\n",
       "      <td>0.000000</td>\n",
       "      <td>2</td>\n",
       "      <td>108</td>\n",
       "      <td>0.693147</td>\n",
       "      <td>0.916291</td>\n",
       "      <td>2</td>\n",
       "      <td>1.386294</td>\n",
       "      <td>3</td>\n",
       "    </tr>\n",
       "    <tr>\n",
       "      <th>2</th>\n",
       "      <td>67</td>\n",
       "      <td>1</td>\n",
       "      <td>16</td>\n",
       "      <td>4.795791</td>\n",
       "      <td>5.438079</td>\n",
       "      <td>0.000000</td>\n",
       "      <td>2</td>\n",
       "      <td>129</td>\n",
       "      <td>0.693147</td>\n",
       "      <td>1.280934</td>\n",
       "      <td>2</td>\n",
       "      <td>1.098612</td>\n",
       "      <td>7</td>\n",
       "    </tr>\n",
       "    <tr>\n",
       "      <th>3</th>\n",
       "      <td>37</td>\n",
       "      <td>1</td>\n",
       "      <td>9</td>\n",
       "      <td>4.875197</td>\n",
       "      <td>5.525453</td>\n",
       "      <td>0.000000</td>\n",
       "      <td>0</td>\n",
       "      <td>187</td>\n",
       "      <td>0.000000</td>\n",
       "      <td>1.504077</td>\n",
       "      <td>3</td>\n",
       "      <td>0.000000</td>\n",
       "      <td>3</td>\n",
       "    </tr>\n",
       "    <tr>\n",
       "      <th>4</th>\n",
       "      <td>41</td>\n",
       "      <td>0</td>\n",
       "      <td>4</td>\n",
       "      <td>4.875197</td>\n",
       "      <td>5.323010</td>\n",
       "      <td>0.000000</td>\n",
       "      <td>2</td>\n",
       "      <td>172</td>\n",
       "      <td>0.000000</td>\n",
       "      <td>0.875469</td>\n",
       "      <td>1</td>\n",
       "      <td>0.000000</td>\n",
       "      <td>3</td>\n",
       "    </tr>\n",
       "  </tbody>\n",
       "</table>\n",
       "</div>"
      ],
      "text/plain": [
       "   age  sex  cp  trestbps      chol       fbs  restecg  thalach     exang  \\\n",
       "0   63    1   1  4.983607  5.455321  0.693147        2      150  0.000000   \n",
       "1   67    1  16  5.081404  5.659482  0.000000        2      108  0.693147   \n",
       "2   67    1  16  4.795791  5.438079  0.000000        2      129  0.693147   \n",
       "3   37    1   9  4.875197  5.525453  0.000000        0      187  0.000000   \n",
       "4   41    0   4  4.875197  5.323010  0.000000        2      172  0.000000   \n",
       "\n",
       "    oldpeak  slope        ca  thal  \n",
       "0  1.193922      3  0.000000     6  \n",
       "1  0.916291      2  1.386294     3  \n",
       "2  1.280934      2  1.098612     7  \n",
       "3  1.504077      3  0.000000     3  \n",
       "4  0.875469      1  0.000000     3  "
      ]
     },
     "execution_count": 40,
     "metadata": {},
     "output_type": "execute_result"
    }
   ],
   "source": [
    "#lets see first 5 rows of x\n",
    "x.head()\n",
    "# x now contains only features"
   ]
  },
  {
   "cell_type": "code",
   "execution_count": 41,
   "metadata": {},
   "outputs": [
    {
     "data": {
      "text/html": [
       "<div>\n",
       "<style scoped>\n",
       "    .dataframe tbody tr th:only-of-type {\n",
       "        vertical-align: middle;\n",
       "    }\n",
       "\n",
       "    .dataframe tbody tr th {\n",
       "        vertical-align: top;\n",
       "    }\n",
       "\n",
       "    .dataframe thead th {\n",
       "        text-align: right;\n",
       "    }\n",
       "</style>\n",
       "<table border=\"1\" class=\"dataframe\">\n",
       "  <thead>\n",
       "    <tr style=\"text-align: right;\">\n",
       "      <th></th>\n",
       "      <th>target</th>\n",
       "    </tr>\n",
       "  </thead>\n",
       "  <tbody>\n",
       "    <tr>\n",
       "      <th>0</th>\n",
       "      <td>0</td>\n",
       "    </tr>\n",
       "    <tr>\n",
       "      <th>1</th>\n",
       "      <td>1</td>\n",
       "    </tr>\n",
       "    <tr>\n",
       "      <th>2</th>\n",
       "      <td>1</td>\n",
       "    </tr>\n",
       "    <tr>\n",
       "      <th>3</th>\n",
       "      <td>0</td>\n",
       "    </tr>\n",
       "    <tr>\n",
       "      <th>4</th>\n",
       "      <td>0</td>\n",
       "    </tr>\n",
       "  </tbody>\n",
       "</table>\n",
       "</div>"
      ],
      "text/plain": [
       "   target\n",
       "0       0\n",
       "1       1\n",
       "2       1\n",
       "3       0\n",
       "4       0"
      ]
     },
     "execution_count": 41,
     "metadata": {},
     "output_type": "execute_result"
    }
   ],
   "source": [
    "#Lets check first five rows of target\n",
    "y.head()\n",
    "# y now contains only target variable"
   ]
  },
  {
   "cell_type": "code",
   "execution_count": 42,
   "metadata": {},
   "outputs": [],
   "source": [
    "#As it is a classification problem lets import require metrics from  libraries\n",
    "from sklearn.metrics import accuracy_score, classification_report,roc_auc_score,roc_curve,confusion_matrix"
   ]
  },
  {
   "cell_type": "code",
   "execution_count": 43,
   "metadata": {},
   "outputs": [],
   "source": [
    "#Lets see which of the algorithims performs well on the given data\n",
    "# A good way to check their performance is cross validation\n",
    "#Lets import the algorithims/models to be evaluated  AND OTHER REQUIRED LIBRARIES\n",
    "from sklearn.linear_model import LogisticRegression\n",
    "from sklearn.svm import SVC\n",
    "from sklearn.naive_bayes import GaussianNB\n",
    "from sklearn.tree import DecisionTreeClassifier\n",
    "from sklearn.neighbors import KNeighborsClassifier\n",
    "from sklearn.discriminant_analysis import LinearDiscriminantAnalysis\n",
    "from sklearn.model_selection import cross_val_score\n",
    "from sklearn.model_selection import KFold\n",
    "from sklearn.pipeline import Pipeline"
   ]
  },
  {
   "cell_type": "code",
   "execution_count": 44,
   "metadata": {},
   "outputs": [],
   "source": [
    "# Lets import standard scaler as distance based algorithim require data to be in same scale\n",
    "from sklearn.preprocessing import StandardScaler\n",
    "# Lets create a list of models to be evaluated ALONG with pipeline\n",
    "pipelines = []\n",
    "pipelines.append(('LR', Pipeline([('Scaler', StandardScaler()),('LR', LogisticRegression())])))\n",
    "pipelines.append(('LDA', Pipeline([('Scaler', StandardScaler()),('LDA',LinearDiscriminantAnalysis())])))\n",
    "pipelines.append(('KNN', Pipeline([('Scaler', StandardScaler()),('KNN', KNeighborsClassifier())])))\n",
    "pipelines.append(('DT', Pipeline([('Scaler', StandardScaler()),('CART', DecisionTreeClassifier(random_state=5))])))\n",
    "pipelines.append(('NB', Pipeline([('Scaler', StandardScaler()),('NB', GaussianNB())])))\n",
    "pipelines.append(('SVM', Pipeline([('Scaler', StandardScaler()),('SVM', SVC())])))\n",
    "\n",
    "\n"
   ]
  },
  {
   "cell_type": "code",
   "execution_count": 45,
   "metadata": {},
   "outputs": [
    {
     "name": "stdout",
     "output_type": "stream",
     "text": [
      "LR: 0.832184 (0.063913)\n",
      "LDA: 0.839080 (0.061123)\n",
      "KNN: 0.818621 (0.056744)\n",
      "DT: 0.753103 (0.064042)\n",
      "NB: 0.839195 (0.064762)\n",
      "SVM: 0.838966 (0.067185)\n"
     ]
    }
   ],
   "source": [
    "#Let us check which model will perform well on the given data on the basis of mean crossval score and its std dev\n",
    "results = []\n",
    "names = []\n",
    "for name, model in pipelines: \n",
    "    kfold = KFold(n_splits=10, random_state=1) \n",
    "    cv_results = cross_val_score(model, x, y, cv=kfold, scoring='accuracy') \n",
    "    results.append(cv_results.mean()) \n",
    "    names.append(name) \n",
    "    msg = \"%s: %f (%f)\" % (name, cv_results.mean(), cv_results.std())\n",
    "    print(msg)\n"
   ]
  },
  {
   "cell_type": "code",
   "execution_count": 46,
   "metadata": {
    "scrolled": true
   },
   "outputs": [
    {
     "data": {
      "text/html": [
       "<div>\n",
       "<style scoped>\n",
       "    .dataframe tbody tr th:only-of-type {\n",
       "        vertical-align: middle;\n",
       "    }\n",
       "\n",
       "    .dataframe tbody tr th {\n",
       "        vertical-align: top;\n",
       "    }\n",
       "\n",
       "    .dataframe thead th {\n",
       "        text-align: right;\n",
       "    }\n",
       "</style>\n",
       "<table border=\"1\" class=\"dataframe\">\n",
       "  <thead>\n",
       "    <tr style=\"text-align: right;\">\n",
       "      <th></th>\n",
       "      <th>ModelName</th>\n",
       "      <th>cross_val_accuracy</th>\n",
       "    </tr>\n",
       "  </thead>\n",
       "  <tbody>\n",
       "    <tr>\n",
       "      <th>4</th>\n",
       "      <td>NB</td>\n",
       "      <td>0.839195</td>\n",
       "    </tr>\n",
       "    <tr>\n",
       "      <th>1</th>\n",
       "      <td>LDA</td>\n",
       "      <td>0.839080</td>\n",
       "    </tr>\n",
       "    <tr>\n",
       "      <th>5</th>\n",
       "      <td>SVM</td>\n",
       "      <td>0.838966</td>\n",
       "    </tr>\n",
       "    <tr>\n",
       "      <th>0</th>\n",
       "      <td>LR</td>\n",
       "      <td>0.832184</td>\n",
       "    </tr>\n",
       "    <tr>\n",
       "      <th>2</th>\n",
       "      <td>KNN</td>\n",
       "      <td>0.818621</td>\n",
       "    </tr>\n",
       "    <tr>\n",
       "      <th>3</th>\n",
       "      <td>DT</td>\n",
       "      <td>0.753103</td>\n",
       "    </tr>\n",
       "  </tbody>\n",
       "</table>\n",
       "</div>"
      ],
      "text/plain": [
       "  ModelName  cross_val_accuracy\n",
       "4        NB            0.839195\n",
       "1       LDA            0.839080\n",
       "5       SVM            0.838966\n",
       "0        LR            0.832184\n",
       "2       KNN            0.818621\n",
       "3        DT            0.753103"
      ]
     },
     "execution_count": 46,
     "metadata": {},
     "output_type": "execute_result"
    }
   ],
   "source": [
    "Comparisonc = pd.DataFrame({'ModelName':names,'cross_val_accuracy': results})\n",
    "Comparisonc.sort_values(by='cross_val_accuracy', ascending=False)"
   ]
  },
  {
   "cell_type": "raw",
   "metadata": {},
   "source": [
    "NB,LDA,SVM AND LR are very close in performance, lets check if any ensemble technique can give better result"
   ]
  },
  {
   "cell_type": "code",
   "execution_count": 47,
   "metadata": {},
   "outputs": [
    {
     "name": "stdout",
     "output_type": "stream",
     "text": [
      "RF: 0.811379 (0.079463)\n",
      "ADC: 0.797816 (0.054470)\n",
      "GBC: 0.794368 (0.096383)\n"
     ]
    }
   ],
   "source": [
    "#lets  see if any of the three chosen ensemble technique  with default paramters can give improved accuracy\n",
    "# by default they work on decision  tree so scaling is not required\n",
    "from sklearn.ensemble import RandomForestClassifier\n",
    "from sklearn.ensemble import AdaBoostClassifier\n",
    "from sklearn.ensemble import GradientBoostingClassifier\n",
    "ensemble = [('RF', RandomForestClassifier(random_state=5)),('ADC',AdaBoostClassifier(random_state=5)),('GBC',GradientBoostingClassifier(random_state=5))]\n",
    "results1 = []\n",
    "names1 = []\n",
    "for name, model in ensemble: \n",
    "    kfold = KFold(n_splits=10, random_state=1) \n",
    "    cv_results1 = cross_val_score(model, x, y, cv=kfold, scoring='accuracy') \n",
    "    results1.append(cv_results1.mean()) \n",
    "    names1.append(name) \n",
    "    msg1 = \"%s: %f (%f)\" % (name, cv_results1.mean(), cv_results1.std())\n",
    "    print(msg1)                                              \n"
   ]
  },
  {
   "cell_type": "code",
   "execution_count": 48,
   "metadata": {
    "scrolled": true
   },
   "outputs": [
    {
     "data": {
      "text/html": [
       "<div>\n",
       "<style scoped>\n",
       "    .dataframe tbody tr th:only-of-type {\n",
       "        vertical-align: middle;\n",
       "    }\n",
       "\n",
       "    .dataframe tbody tr th {\n",
       "        vertical-align: top;\n",
       "    }\n",
       "\n",
       "    .dataframe thead th {\n",
       "        text-align: right;\n",
       "    }\n",
       "</style>\n",
       "<table border=\"1\" class=\"dataframe\">\n",
       "  <thead>\n",
       "    <tr style=\"text-align: right;\">\n",
       "      <th></th>\n",
       "      <th>ModelName</th>\n",
       "      <th>cross_val_accuracy</th>\n",
       "    </tr>\n",
       "  </thead>\n",
       "  <tbody>\n",
       "    <tr>\n",
       "      <th>0</th>\n",
       "      <td>RF</td>\n",
       "      <td>0.811379</td>\n",
       "    </tr>\n",
       "    <tr>\n",
       "      <th>1</th>\n",
       "      <td>ADC</td>\n",
       "      <td>0.797816</td>\n",
       "    </tr>\n",
       "    <tr>\n",
       "      <th>2</th>\n",
       "      <td>GBC</td>\n",
       "      <td>0.794368</td>\n",
       "    </tr>\n",
       "  </tbody>\n",
       "</table>\n",
       "</div>"
      ],
      "text/plain": [
       "  ModelName  cross_val_accuracy\n",
       "0        RF            0.811379\n",
       "1       ADC            0.797816\n",
       "2       GBC            0.794368"
      ]
     },
     "execution_count": 48,
     "metadata": {},
     "output_type": "execute_result"
    }
   ],
   "source": [
    "Comparisonn = pd.DataFrame({'ModelName':names1,'cross_val_accuracy': results1})\n",
    "Comparisonn.sort_values(by='cross_val_accuracy', ascending=False)"
   ]
  },
  {
   "cell_type": "code",
   "execution_count": 49,
   "metadata": {},
   "outputs": [
    {
     "data": {
      "text/html": [
       "<div>\n",
       "<style scoped>\n",
       "    .dataframe tbody tr th:only-of-type {\n",
       "        vertical-align: middle;\n",
       "    }\n",
       "\n",
       "    .dataframe tbody tr th {\n",
       "        vertical-align: top;\n",
       "    }\n",
       "\n",
       "    .dataframe thead th {\n",
       "        text-align: right;\n",
       "    }\n",
       "</style>\n",
       "<table border=\"1\" class=\"dataframe\">\n",
       "  <thead>\n",
       "    <tr style=\"text-align: right;\">\n",
       "      <th></th>\n",
       "      <th>ModelName</th>\n",
       "      <th>cross_val_accuracy</th>\n",
       "    </tr>\n",
       "  </thead>\n",
       "  <tbody>\n",
       "    <tr>\n",
       "      <th>4</th>\n",
       "      <td>NB</td>\n",
       "      <td>0.839195</td>\n",
       "    </tr>\n",
       "    <tr>\n",
       "      <th>1</th>\n",
       "      <td>LDA</td>\n",
       "      <td>0.839080</td>\n",
       "    </tr>\n",
       "    <tr>\n",
       "      <th>5</th>\n",
       "      <td>SVM</td>\n",
       "      <td>0.838966</td>\n",
       "    </tr>\n",
       "    <tr>\n",
       "      <th>0</th>\n",
       "      <td>LR</td>\n",
       "      <td>0.832184</td>\n",
       "    </tr>\n",
       "    <tr>\n",
       "      <th>2</th>\n",
       "      <td>KNN</td>\n",
       "      <td>0.818621</td>\n",
       "    </tr>\n",
       "    <tr>\n",
       "      <th>0</th>\n",
       "      <td>RF</td>\n",
       "      <td>0.811379</td>\n",
       "    </tr>\n",
       "    <tr>\n",
       "      <th>1</th>\n",
       "      <td>ADC</td>\n",
       "      <td>0.797816</td>\n",
       "    </tr>\n",
       "    <tr>\n",
       "      <th>2</th>\n",
       "      <td>GBC</td>\n",
       "      <td>0.794368</td>\n",
       "    </tr>\n",
       "    <tr>\n",
       "      <th>3</th>\n",
       "      <td>DT</td>\n",
       "      <td>0.753103</td>\n",
       "    </tr>\n",
       "  </tbody>\n",
       "</table>\n",
       "</div>"
      ],
      "text/plain": [
       "  ModelName  cross_val_accuracy\n",
       "4        NB            0.839195\n",
       "1       LDA            0.839080\n",
       "5       SVM            0.838966\n",
       "0        LR            0.832184\n",
       "2       KNN            0.818621\n",
       "0        RF            0.811379\n",
       "1       ADC            0.797816\n",
       "2       GBC            0.794368\n",
       "3        DT            0.753103"
      ]
     },
     "execution_count": 49,
     "metadata": {},
     "output_type": "execute_result"
    }
   ],
   "source": [
    "finalcomparison = pd.concat([Comparisonc,Comparisonn])\n",
    "finalcomparison.sort_values(by='cross_val_accuracy',ascending =False)"
   ]
  },
  {
   "cell_type": "code",
   "execution_count": 50,
   "metadata": {},
   "outputs": [],
   "source": [
    "# We can see that Gaussian NB, Logistics regression, LDA, ,SVM are very close in performance\n",
    "#  Lets select SVM for implementation as its has several hyper paramters which can easily be tuned\n",
    "\n",
    "#Lets try to tune paramters of SVC  to find better cross val score"
   ]
  },
  {
   "cell_type": "code",
   "execution_count": 51,
   "metadata": {},
   "outputs": [],
   "source": [
    "#Lets try to check if  cross val performance of SVC can be increased by tuning parameters\n",
    "from sklearn.model_selection import GridSearchCV\n",
    "kfoldx = KFold(n_splits=10, random_state=1) \n",
    "scaler = StandardScaler().fit(x)\n",
    "scaledX = scaler.transform(x)\n",
    "c_values =  [0.01,0.1,0.5, 1, 2, 3, 4, 5,10,100]\n",
    "gamma = [0.0001,0.0005,0.001,0.01,0.1,1,2,10]\n",
    "kernel=['rbf','linear','poly']\n",
    "param_grid = dict(C=c_values,gamma=gamma,kernel=kernel)\n",
    "\n",
    "model = SVC()\n",
    "grid = GridSearchCV(estimator=model, param_grid=param_grid, scoring='accuracy', cv=kfoldx,n_jobs=-1)\n",
    "grid_result = grid.fit(scaledX, y)"
   ]
  },
  {
   "cell_type": "code",
   "execution_count": 52,
   "metadata": {},
   "outputs": [
    {
     "data": {
      "text/plain": [
       "0.8561643835616438"
      ]
     },
     "execution_count": 52,
     "metadata": {},
     "output_type": "execute_result"
    }
   ],
   "source": [
    "#Lets check best cross val score\n",
    "grid_result.best_score_\n",
    "# cross val score has been improved  from 0.8389 to 0.8561"
   ]
  },
  {
   "cell_type": "code",
   "execution_count": 53,
   "metadata": {},
   "outputs": [
    {
     "data": {
      "text/plain": [
       "{'C': 10, 'gamma': 0.001, 'kernel': 'rbf'}"
      ]
     },
     "execution_count": 53,
     "metadata": {},
     "output_type": "execute_result"
    }
   ],
   "source": [
    "#Lets check best parameters\n",
    "grid_result.best_params_ "
   ]
  },
  {
   "cell_type": "code",
   "execution_count": 54,
   "metadata": {},
   "outputs": [],
   "source": [
    "# Lets import the library to split train and test data\n",
    "from sklearn.model_selection import train_test_split"
   ]
  },
  {
   "cell_type": "code",
   "execution_count": 55,
   "metadata": {},
   "outputs": [
    {
     "name": "stdout",
     "output_type": "stream",
     "text": [
      "At random state  1 the value of accuracy is  0.8135593220338984\n",
      "At random state  2 the value of accuracy is  0.8813559322033898\n",
      "At random state  3 the value of accuracy is  0.8305084745762712\n",
      "At random state  4 the value of accuracy is  0.864406779661017\n",
      "At random state  5 the value of accuracy is  0.8813559322033898\n",
      "At random state  6 the value of accuracy is  0.7966101694915254\n",
      "At random state  7 the value of accuracy is  0.7288135593220338\n",
      "At random state  8 the value of accuracy is  0.8983050847457628\n",
      "At random state  9 the value of accuracy is  0.7796610169491526\n",
      "At random state  10 the value of accuracy is  0.8813559322033898\n",
      "At random state  11 the value of accuracy is  0.7627118644067796\n",
      "At random state  12 the value of accuracy is  0.8305084745762712\n",
      "At random state  13 the value of accuracy is  0.8135593220338984\n",
      "At random state  14 the value of accuracy is  0.7457627118644068\n",
      "At random state  15 the value of accuracy is  0.847457627118644\n",
      "At random state  16 the value of accuracy is  0.8305084745762712\n",
      "At random state  17 the value of accuracy is  0.8813559322033898\n",
      "At random state  18 the value of accuracy is  0.8813559322033898\n",
      "At random state  19 the value of accuracy is  0.8813559322033898\n",
      "At random state  20 the value of accuracy is  0.8135593220338984\n",
      "At random state  21 the value of accuracy is  0.7796610169491526\n",
      "At random state  22 the value of accuracy is  0.8983050847457628\n",
      "At random state  23 the value of accuracy is  0.8135593220338984\n",
      "At random state  24 the value of accuracy is  0.847457627118644\n",
      "At random state  25 the value of accuracy is  0.847457627118644\n",
      "At random state  26 the value of accuracy is  0.9322033898305084\n",
      "At random state  27 the value of accuracy is  0.864406779661017\n",
      "At random state  28 the value of accuracy is  0.8983050847457628\n",
      "At random state  29 the value of accuracy is  0.847457627118644\n",
      "At random state  30 the value of accuracy is  0.8813559322033898\n",
      "At random state  31 the value of accuracy is  0.847457627118644\n",
      "At random state  32 the value of accuracy is  0.8813559322033898\n",
      "At random state  33 the value of accuracy is  0.7966101694915254\n",
      "At random state  34 the value of accuracy is  0.8135593220338984\n",
      "At random state  35 the value of accuracy is  0.9152542372881356\n",
      "At random state  36 the value of accuracy is  0.8305084745762712\n",
      "At random state  37 the value of accuracy is  0.8983050847457628\n",
      "At random state  38 the value of accuracy is  0.8305084745762712\n",
      "At random state  39 the value of accuracy is  0.8983050847457628\n",
      "At random state  40 the value of accuracy is  0.8305084745762712\n",
      "At random state  41 the value of accuracy is  0.8983050847457628\n",
      "At random state  42 the value of accuracy is  0.864406779661017\n",
      "At random state  43 the value of accuracy is  0.8305084745762712\n",
      "At random state  44 the value of accuracy is  0.8305084745762712\n",
      "At random state  45 the value of accuracy is  0.847457627118644\n",
      "At random state  46 the value of accuracy is  0.7796610169491526\n",
      "At random state  47 the value of accuracy is  0.8305084745762712\n",
      "At random state  48 the value of accuracy is  0.864406779661017\n",
      "At random state  49 the value of accuracy is  0.9661016949152542\n",
      "At random state  50 the value of accuracy is  0.7966101694915254\n",
      "At random state  51 the value of accuracy is  0.8813559322033898\n",
      "At random state  52 the value of accuracy is  0.8983050847457628\n",
      "At random state  53 the value of accuracy is  0.8305084745762712\n",
      "At random state  54 the value of accuracy is  0.7457627118644068\n",
      "At random state  55 the value of accuracy is  0.7627118644067796\n",
      "At random state  56 the value of accuracy is  0.8983050847457628\n",
      "At random state  57 the value of accuracy is  0.7627118644067796\n",
      "At random state  58 the value of accuracy is  0.847457627118644\n",
      "At random state  59 the value of accuracy is  0.8305084745762712\n",
      "At random state  60 the value of accuracy is  0.8305084745762712\n",
      "At random state  61 the value of accuracy is  0.8813559322033898\n",
      "At random state  62 the value of accuracy is  0.8305084745762712\n",
      "At random state  63 the value of accuracy is  0.8135593220338984\n",
      "At random state  64 the value of accuracy is  0.8305084745762712\n",
      "At random state  65 the value of accuracy is  0.8135593220338984\n",
      "At random state  66 the value of accuracy is  0.7966101694915254\n",
      "At random state  67 the value of accuracy is  0.9322033898305084\n",
      "At random state  68 the value of accuracy is  0.7457627118644068\n",
      "At random state  69 the value of accuracy is  0.8983050847457628\n",
      "At random state  70 the value of accuracy is  0.7796610169491526\n",
      "At random state  71 the value of accuracy is  0.864406779661017\n",
      "At random state  72 the value of accuracy is  0.8305084745762712\n",
      "At random state  73 the value of accuracy is  0.847457627118644\n",
      "At random state  74 the value of accuracy is  0.847457627118644\n",
      "At random state  75 the value of accuracy is  0.8813559322033898\n",
      "At random state  76 the value of accuracy is  0.864406779661017\n",
      "At random state  77 the value of accuracy is  0.847457627118644\n",
      "At random state  78 the value of accuracy is  0.864406779661017\n",
      "At random state  79 the value of accuracy is  0.8813559322033898\n",
      "At random state  80 the value of accuracy is  0.9152542372881356\n",
      "At random state  81 the value of accuracy is  0.7966101694915254\n",
      "At random state  82 the value of accuracy is  0.8305084745762712\n",
      "At random state  83 the value of accuracy is  0.847457627118644\n",
      "At random state  84 the value of accuracy is  0.8135593220338984\n",
      "At random state  85 the value of accuracy is  0.847457627118644\n",
      "At random state  86 the value of accuracy is  0.8813559322033898\n",
      "At random state  87 the value of accuracy is  0.847457627118644\n",
      "At random state  88 the value of accuracy is  0.7966101694915254\n",
      "At random state  89 the value of accuracy is  0.8305084745762712\n",
      "At random state  90 the value of accuracy is  0.8813559322033898\n",
      "At random state  91 the value of accuracy is  0.864406779661017\n",
      "At random state  92 the value of accuracy is  0.847457627118644\n",
      "At random state  93 the value of accuracy is  0.8135593220338984\n",
      "At random state  94 the value of accuracy is  0.7966101694915254\n",
      "At random state  95 the value of accuracy is  0.847457627118644\n",
      "At random state  96 the value of accuracy is  0.8813559322033898\n",
      "At random state  97 the value of accuracy is  0.847457627118644\n",
      "At random state  98 the value of accuracy is  0.847457627118644\n",
      "At random state  99 the value of accuracy is  0.8135593220338984\n",
      "\n",
      "\n",
      "max accuracy is 0.9661016949152542 at random state 49\n"
     ]
    }
   ],
   "source": [
    "#Lets find out the best random state for selected SVC for best paramters\n",
    "\n",
    "max_accuracy=0\n",
    "svc= SVC(C=10,gamma=0.001,kernel='rbf')\n",
    "for i in range(1,100):\n",
    "    X_train, X_test, y_train, y_test = train_test_split(x, y,test_size=0.2, random_state=i)\n",
    "    ss = StandardScaler()\n",
    "    X_train= ss.fit_transform(X_train)\n",
    "    X_test= ss.transform(X_test)\n",
    "    svc.fit(X_train,y_train)\n",
    "    ypreds=svc.predict(X_test)\n",
    "    accuracy=accuracy_score(y_test, ypreds)\n",
    "    print('At random state ', i, 'the value of accuracy is ', accuracy)\n",
    "    if accuracy>max_accuracy:\n",
    "        max_accuracy=accuracy\n",
    "        finalstate=i\n",
    "print()\n",
    "print()\n",
    "print('max accuracy is', max_accuracy,'at random state' , finalstate)"
   ]
  },
  {
   "cell_type": "code",
   "execution_count": 56,
   "metadata": {},
   "outputs": [
    {
     "data": {
      "text/plain": [
       "0.8560919540229885"
      ]
     },
     "execution_count": 56,
     "metadata": {},
     "output_type": "execute_result"
    }
   ],
   "source": [
    "#Lets once again verify its  cross val  accuracy score\n",
    "kfoldx = KFold(n_splits=10, random_state=1)\n",
    "cross_val_score(SVC(C=10,gamma=0.001,kernel='rbf'),scaledX,y,cv=kfoldx,scoring=\"accuracy\").mean()"
   ]
  },
  {
   "cell_type": "raw",
   "metadata": {},
   "source": [
    "Cross val= 0.8560 and Test score = 0.9661, For more improved performance , we require more data"
   ]
  },
  {
   "cell_type": "code",
   "execution_count": 57,
   "metadata": {},
   "outputs": [
    {
     "name": "stdout",
     "output_type": "stream",
     "text": [
      "accuracy is 0.9661016949152542\n"
     ]
    }
   ],
   "source": [
    "#Lets build the model using the best random state\n",
    "X_train, X_test, y_train,y_test = train_test_split(x,y,test_size =0.2, random_state = 49)\n",
    "sc = StandardScaler()\n",
    "X_train= sc.fit_transform(X_train)\n",
    "X_test= sc.transform(X_test)\n",
    "SVM= SVC(C=10,gamma=0.001,kernel='rbf')\n",
    "SVM.fit(X_train,y_train)\n",
    "ypred=SVM.predict(X_test)\n",
    "accuracy= accuracy_score(y_test,ypred)\n",
    "print('accuracy is', accuracy)"
   ]
  },
  {
   "cell_type": "code",
   "execution_count": 58,
   "metadata": {},
   "outputs": [],
   "source": [
    "# Lets save the predicted result to a csv file\n",
    "dfpr = pd.DataFrame(ypred,columns=['Predicted_values'])\n",
    "dfpr.to_csv('SVC_HEART_prediction.csv')"
   ]
  },
  {
   "cell_type": "code",
   "execution_count": 59,
   "metadata": {},
   "outputs": [
    {
     "name": "stdout",
     "output_type": "stream",
     "text": [
      "confusion matrix =  [[33  0]\n",
      " [ 2 24]]\n"
     ]
    }
   ],
   "source": [
    "#Lets print the confusion matrix\n",
    "print('confusion matrix = ',confusion_matrix(y_test,ypred))"
   ]
  },
  {
   "cell_type": "code",
   "execution_count": 60,
   "metadata": {},
   "outputs": [
    {
     "name": "stdout",
     "output_type": "stream",
     "text": [
      "classification report =                precision    recall  f1-score   support\n",
      "\n",
      "           0       0.94      1.00      0.97        33\n",
      "           1       1.00      0.92      0.96        26\n",
      "\n",
      "   micro avg       0.97      0.97      0.97        59\n",
      "   macro avg       0.97      0.96      0.97        59\n",
      "weighted avg       0.97      0.97      0.97        59\n",
      "\n"
     ]
    }
   ],
   "source": [
    "#Lets print the classification report\n",
    "print('classification report = ',classification_report(y_test,ypred))"
   ]
  },
  {
   "cell_type": "code",
   "execution_count": 61,
   "metadata": {},
   "outputs": [
    {
     "name": "stdout",
     "output_type": "stream",
     "text": [
      "AUC: 0.962\n"
     ]
    },
    {
     "data": {
      "image/png": "[encoded data removed]",
      "text/plain": [
       "<Figure size 432x288 with 1 Axes>"
      ]
     },
     "metadata": {
      "needs_background": "light"
     },
     "output_type": "display_data"
    }
   ],
   "source": [
    "# calculate AUC\n",
    "auc = roc_auc_score(y_test, ypred)\n",
    "print('AUC: %.3f' % auc)\n",
    "\n",
    "# calculate roc curve\n",
    "fpr, tpr, thresholds = roc_curve(y_test, ypred)\n",
    "\n",
    "# plot no skill\n",
    "plt.plot([0, 1], [0, 1], linestyle='--')\n",
    "\n",
    "# plot the roc curve for the model\n",
    "plt.plot(fpr, tpr, marker='.')\n",
    "\n",
    "# show the plot\n",
    "plt.show()"
   ]
  },
  {
   "cell_type": "code",
   "execution_count": 62,
   "metadata": {},
   "outputs": [
    {
     "data": {
      "text/plain": [
       "['SVC_HEART.pkl']"
      ]
     },
     "execution_count": 62,
     "metadata": {},
     "output_type": "execute_result"
    }
   ],
   "source": [
    "# Lets dump our final model into pkl file\n",
    "from sklearn.externals import joblib\n",
    "joblib.dump(SVM,'SVC_HEART.pkl')"
   ]
  },
  {
   "cell_type": "code",
   "execution_count": null,
   "metadata": {},
   "outputs": [],
   "source": []
  }
 ],
 "metadata": {
  "kernelspec": {
   "display_name": "Python 3",
   "language": "python",
   "name": "python3"
  },
  "language_info": {
   "codemirror_mode": {
    "name": "ipython",
    "version": 3
   },
   "file_extension": ".py",
   "mimetype": "text/x-python",
   "name": "python",
   "nbconvert_exporter": "python",
   "pygments_lexer": "ipython3",
   "version": "3.7.3"
  }
 },
 "nbformat": 4,
 "nbformat_minor": 2
}
